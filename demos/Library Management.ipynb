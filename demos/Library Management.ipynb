{
 "cells": [
  {
   "cell_type": "markdown",
   "metadata": {},
   "source": [
    "## Import libraries"
   ]
  },
  {
   "cell_type": "code",
   "execution_count": null,
   "metadata": {},
   "outputs": [],
   "source": [
    "from mstrio.admin.document import Document, list_documents\n",
    "from mstrio.admin.dossier import Dossier, list_dossiers\n",
    "from mstrio.admin.library import Library\n",
    "from mstrio.admin.user import User, list_users\n",
    "from mstrio.admin.usergroup import list_usergroups\n",
    "from mstrio.connection import Connection"
   ]
  },
  {
   "cell_type": "markdown",
   "metadata": {},
   "source": [
    "## Create admin and user connections"
   ]
  },
  {
   "cell_type": "code",
   "execution_count": null,
   "metadata": {"scrolled": true
   },
   "outputs": [],
   "source": [
    "base_url = \"https://env-181971.customer.cloud.microstrategy.com/MicroStrategyLibrary\"\n",
    "username = \"a\"\n",
    "password = \"\"\n",
    "project_id = \"B7CA92F04B9FAE8D941C3E9B7E0CD754\"\n",
    "conn_admin = Connection(base_url, username, password, project_id=project_id)"
   ]
  },
  {
   "cell_type": "code",
   "execution_count": null,
   "metadata": {},
   "outputs": [],
   "source": [
    "base_url = \"https://env-181971.customer.cloud.microstrategy.com/MicroStrategyLibrary\"\n",
    "username = \"mstr\"\n",
    "password = \"LOBwhz18EmVg\"\n",
    "project_id = \"B7CA92F04B9FAE8D941C3E9B7E0CD754\"\n",
    "conn_user = Connection(base_url, username, password, project_id=project_id)"
   ]
  },
  {
   "cell_type": "markdown",
   "metadata": {},
   "source": [
    "## Load the mstr user info and a list of available dossiers"
   ]
  },
  {
   "cell_type": "code",
   "execution_count": null,
   "metadata": {},
   "outputs": [],
   "source": [
    "users = list_users(conn_admin, name_begins=username)\n",
    "dossiers = list_dossiers(conn_admin)"
   ]
  },
  {
   "cell_type": "code",
   "execution_count": null,
   "metadata": {},
   "outputs": [],
   "source": [
    "users"
   ]
  },
  {
   "cell_type": "code",
   "execution_count": null,
   "metadata": {"scrolled": true
   },
   "outputs": [],
   "source": [
    "dossiers"
   ]
  },
  {
   "cell_type": "markdown",
   "metadata": {},
   "source": [
    "## Select a user group the mstr user belongs to"
   ]
  },
  {
   "cell_type": "code",
   "execution_count": null,
   "metadata": {},
   "outputs": [],
   "source": [
    "user = User(conn_admin, id='7FC05A65473CE2FD845CE6A1D3F13233')"
   ]
  },
  {
   "cell_type": "code",
   "execution_count": null,
   "metadata": {},
   "outputs": [],
   "source": [
    "user.memberships"
   ]
  },
  {
   "cell_type": "code",
   "execution_count": null,
   "metadata": {},
   "outputs": [],
   "source": [
    "user_group_id = '0AA72D6042B938FF3FBED3AAC39349F5'"
   ]
  },
  {
   "cell_type": "markdown",
   "metadata": {},
   "source": [
    "## Load the mstr user's library"
   ]
  },
  {
   "cell_type": "code",
   "execution_count": null,
   "metadata": {"scrolled": true
   },
   "outputs": [],
   "source": [
    "lib = Library(conn_user)"
   ]
  },
  {
   "cell_type": "code",
   "execution_count": null,
   "metadata": {},
   "outputs": [],
   "source": [
    "lib.documents"
   ]
  },
  {
   "cell_type": "code",
   "execution_count": null,
   "metadata": {"scrolled": true
   },
   "outputs": [],
   "source": [
    "dossiers"
   ]
  },
  {
   "cell_type": "code",
   "execution_count": null,
   "metadata": {},
   "outputs": [],
   "source": [
    "dossier_ids = ['4802DE4C4C18F434C75BFA84EC8A5E4B',\n",
    "               '3AB0F59211E7F49A736B0080EFD51CF3']\n",
    "dossier_id = dossier_ids[0]"
   ]
  },
  {
   "cell_type": "markdown",
   "metadata": {},
   "source": [
    "## Load the selected dossier into Python"
   ]
  },
  {
   "cell_type": "code",
   "execution_count": null,
   "metadata": {},
   "outputs": [],
   "source": [
    "dossier = Dossier(conn_admin, id=dossier_id)\n",
    "print(f\"Dossier name: {dossier.name}\")"
   ]
  },
  {
   "cell_type": "markdown",
   "metadata": {},
   "source": [
    "## View more info about the document"
   ]
  },
  {
   "cell_type": "code",
   "execution_count": null,
   "metadata": {"scrolled": true
   },
   "outputs": [],
   "source": [
    "dossier.to_dataframe()"
   ]
  },
  {
   "cell_type": "code",
   "execution_count": null,
   "metadata": {"scrolled": true
   },
   "outputs": [],
   "source": [
    "dossier.info"
   ]
  },
  {
   "cell_type": "code",
   "execution_count": null,
   "metadata": {},
   "outputs": [],
   "source": [
    "dossier.certified_info"
   ]
  },
  {
   "cell_type": "markdown",
   "metadata": {},
   "source": [
    "## Load user's library"
   ]
  },
  {
   "cell_type": "code",
   "execution_count": null,
   "metadata": {"scrolled": true
   },
   "outputs": [],
   "source": [
    "library1 = Library(conn_user)"
   ]
  },
  {
   "cell_type": "markdown",
   "metadata": {},
   "source": [
    "## Use admin connection to publish the document to selected user group"
   ]
  },
  {
   "cell_type": "code",
   "execution_count": null,
   "metadata": {},
   "outputs": [],
   "source": [
    "conn_admin.renew()\n",
    "dossier.share_to(user_group_id)"
   ]
  },
  {
   "cell_type": "code",
   "execution_count": null,
   "metadata": {},
   "outputs": [],
   "source": [
    "Library(conn_user)"
   ]
  },
  {
   "cell_type": "markdown",
   "metadata": {},
   "source": [
    "## Unpublish the document for selected user group"
   ]
  },
  {
   "cell_type": "code",
   "execution_count": null,
   "metadata": {"scrolled": true
   },
   "outputs": [],
   "source": [
    "dossier.unpublish(recipients=[user_group_id])"
   ]
  },
  {
   "cell_type": "code",
   "execution_count": null,
   "metadata": {},
   "outputs": [],
   "source": [
    "dossier.unpublish()"
   ]
  },
  {
   "cell_type": "code",
   "execution_count": null,
   "metadata": {"scrolled": true
   },
   "outputs": [],
   "source": [
    "Library(conn_admin)"
   ]
  },
  {
   "cell_type": "code",
   "execution_count": null,
   "metadata": {},
   "outputs": [],
   "source": [
    "dossier.publish()"
   ]
  },
  {
   "cell_type": "code",
   "execution_count": null,
   "metadata": {"scrolled": true
   },
   "outputs": [],
   "source": [
    "Library(conn_admin)"
   ]
  },
  {
   "cell_type": "markdown",
   "metadata": {},
   "source": [
    "## Use the user connection to load new library state"
   ]
  },
  {
   "cell_type": "code",
   "execution_count": null,
   "metadata": {},
   "outputs": [],
   "source": [
    "conn_user.renew()\n",
    "library2 = Library(conn_user)"
   ]
  },
  {
   "cell_type": "markdown",
   "metadata": {},
   "source": [
    "## List documents available in user's library before and after publishing the specified document"
   ]
  },
  {
   "cell_type": "code",
   "execution_count": null,
   "metadata": {},
   "outputs": [],
   "source": [
    "[doc.name for doc in library1.documents]"
   ]
  },
  {
   "cell_type": "code",
   "execution_count": null,
   "metadata": {},
   "outputs": [],
   "source": [
    "[doc.name for doc in library2.documents]"
   ]
  },
  {
   "cell_type": "markdown",
   "metadata": {},
   "source": [
    "# Manage document bookmarks"
   ]
  },
  {
   "cell_type": "markdown",
   "metadata": {},
   "source": [
    "## Load a new dossier"
   ]
  },
  {
   "cell_type": "code",
   "execution_count": null,
   "metadata": {"scrolled": true
   },
   "outputs": [],
   "source": [
    "dossier = Dossier(conn_user, id=\"43883BAB11E978D61F220080AFB38619\")"
   ]
  },
  {
   "cell_type": "code",
   "execution_count": null,
   "metadata": {},
   "outputs": [],
   "source": [
    "dossier.name"
   ]
  },
  {
   "cell_type": "code",
   "execution_count": null,
   "metadata": {"scrolled": false
   },
   "outputs": [],
   "source": [
    "dossier.bookmarks"
   ]
  },
  {
   "cell_type": "code",
   "execution_count": null,
   "metadata": {"scrolled": true
   },
   "outputs": [],
   "source": [
    "dossier.add_bookmark(\"No Filters Bookmark\")"
   ]
  },
  {
   "cell_type": "markdown",
   "metadata": {},
   "source": [
    "## Filter the dossier"
   ]
  },
  {
   "cell_type": "code",
   "execution_count": null,
   "metadata": {},
   "outputs": [],
   "source": [
    "dossier_id = \"43883BAB11E978D61F220080AFB38619\"\n",
    "dossier = Dossier(conn_admin, id=dossier_id)\n",
    "dossier.publish()"
   ]
  },
  {
   "cell_type": "markdown",
   "metadata": {},
   "source": [
    "### Filter out only Q3 and bookmark for it"
   ]
  },
  {
   "cell_type": "code",
   "execution_count": null,
   "metadata": {},
   "outputs": [],
   "source": [
    "body_q3 = {\n",
    "  \"actions\": [\n",
    "    {\n",
    "      \"isVisualization\": False,\n",
    "      \"elemList\": \"h20123;B90801F611EA11B7A7B40080EF959B03;Q3, 2012\",\n",
    "      \"act\": \"setSelectorElements\",\n",
    "      \"include\": True,\n",
    "      \"ctlKey\": \"W182\",\n",
    "      \"keyContext\": \"1\\u001eW181\\u001eW182\",\n",
    "      \"tks\": \"K33\"\n",
    "    }\n",
    "  ],\n",
    "  \"partialUpdate\": {\n",
    "    \"selectors\": [\n",
    "      \"W182\"\n",
    "    ]\n",
    "  },\n",
    "  \"style\": {\n",
    "    \"name\": \"RWIVEMojoStyle\",\n",
    "    \"params\": {\n",
    "      \"treesToRender\": 3\n",
    "    }\n",
    "  }\n",
    "}\n",
    "\n",
    "filtering_q3_response = conn_admin.session.post(conn_admin.base_url + f'/api/documents/{dossier_id}/instances/{dossier.instance_id}/manipulations',\n",
    "                                          json=body_q3)\n",
    "if filtering_q3_response.ok:\n",
    "    dossier.add_bookmark('Filtered bookmark Q3')\n",
    "else:\n",
    "    raise ValueError"
   ]
  },
  {
   "cell_type": "markdown",
   "metadata": {},
   "source": [
    "### Filter out only Q4 and bookmark it"
   ]
  },
  {
   "cell_type": "code",
   "execution_count": null,
   "metadata": {},
   "outputs": [],
   "source": [
    "\n",
    "body_q4 = {\n",
    "  \"actions\": [\n",
    "    {\n",
    "      \"isVisualization\": False,\n",
    "      \"elemList\": \"h20124;B90801F611EA11B7A7B40080EF959B03;Q4, 2012\",\n",
    "      \"act\": \"setSelectorElements\",\n",
    "      \"include\": True,\n",
    "      \"ctlKey\": \"W182\",\n",
    "      \"keyContext\": \"1\\u001eW181\\u001eW182\",\n",
    "      \"tks\": \"K33\"\n",
    "    }\n",
    "  ],\n",
    "  \"partialUpdate\": {\n",
    "    \"selectors\": [\n",
    "      \"W182\"\n",
    "    ]\n",
    "  },\n",
    "  \"style\": {\n",
    "    \"name\": \"RWIVEMojoStyle\",\n",
    "    \"params\": {\n",
    "      \"treesToRender\": 3\n",
    "    }\n",
    "  }\n",
    "}\n",
    "\n",
    "filtering_q4_response = conn_admin.session.post(conn_admin.base_url + f'/api/documents/{dossier_id}/instances/{dossier.instance_id}/manipulations',\n",
    "                                          json=body_q4)\n",
    "if filtering_q4_response.ok:\n",
    "    dossier.add_bookmark('Filtered bookmark Q4')\n",
    "else:\n",
    "    raise ValueError"
   ]
  },
  {
   "cell_type": "markdown",
   "metadata": {},
   "source": [
    "## Show new bookmarks"
   ]
  },
  {
   "cell_type": "code",
   "execution_count": null,
   "metadata": {},
   "outputs": [],
   "source": [
    "conn_user.renew()"
   ]
  },
  {
   "cell_type": "code",
   "execution_count": null,
   "metadata": {},
   "outputs": [],
   "source": [
    "dossier.bookmarks"
   ]
  },
  {
   "cell_type": "code",
   "execution_count": null,
   "metadata": {},
   "outputs": [],
   "source": [
    "conn_user.renew()"
   ]
  },
  {
   "cell_type": "markdown",
   "metadata": {},
   "source": [
    "## Deleting bookmarks"
   ]
  },
  {
   "cell_type": "code",
   "execution_count": null,
   "metadata": {},
   "outputs": [],
   "source": [
    "dossier.add_bookmark(\"My JN Bookmark1\")"
   ]
  },
  {
   "cell_type": "code",
   "execution_count": null,
   "metadata": {"scrolled": true
   },
   "outputs": [],
   "source": [
    "dossier.add_bookmark(\"My JN Bookmark2\")"
   ]
  },
  {
   "cell_type": "code",
   "execution_count": null,
   "metadata": {"scrolled": true
   },
   "outputs": [],
   "source": [
    "dossier.add_bookmark(\"My JN Bookmark3\")"
   ]
  },
  {
   "cell_type": "code",
   "execution_count": null,
   "metadata": {},
   "outputs": [],
   "source": [
    "dossier.delete_bookmarks([\"My JN Bookmark1\"], names=True)"
   ]
  },
  {
   "cell_type": "code",
   "execution_count": null,
   "metadata": {},
   "outputs": [],
   "source": [
    "dossier.bookmarks"
   ]
  },
  {
   "cell_type": "code",
   "execution_count": null,
   "metadata": {},
   "outputs": [],
   "source": [
    "dossier.delete_bookmarks(dossier.bookmarks)"
   ]
  },
  {
   "cell_type": "code",
   "execution_count": null,
   "metadata": {},
   "outputs": [],
   "source": [
    "dossier.bookmarks"
   ]
  }
 ],
 "metadata": {
  "kernelspec": {
   "display_name": "Python 3",
   "language": "python",
   "name": "python3"
  },
  "language_info": {
   "codemirror_mode": {
    "name": "ipython",
    "version": 3
   },
   "file_extension": ".py",
   "mimetype": "text/x-python",
   "name": "python",
   "nbconvert_exporter": "python",
   "pygments_lexer": "ipython3",
   "version": "3.8.1"
  }
 },
 "nbformat": 4,
 "nbformat_minor": 4
}
