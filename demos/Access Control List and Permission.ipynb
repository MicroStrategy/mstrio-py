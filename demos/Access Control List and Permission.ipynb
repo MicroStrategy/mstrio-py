{
 "cells": [
  {
   "cell_type": "markdown",
   "metadata": {},
   "source": [
    "### Setup Python configuration"
   ]
  },
  {
   "cell_type": "code",
   "execution_count": 1,
   "metadata": {
    "ExecuteTime": {
     "end_time": "2020-09-24T12:10:59.380759Z",
     "start_time": "2020-09-24T12:10:58.798971Z"
    }
   },
   "outputs": [],
   "source": [
    "from mstrio.admin.security_role import SecurityRole, list_security_roles\n",
    "from mstrio.admin.application import Application\n",
    "from mstrio.connection import Connection\n",
    "from mstrio.admin.user import User, list_users\n",
    "from mstrio.report import Report"
   ]
  },
  {
   "cell_type": "code",
   "execution_count": 2,
   "metadata": {
    "ExecuteTime": {
     "end_time": "2020-09-24T12:10:59.384646Z",
     "start_time": "2020-09-24T12:10:59.382023Z"
    }
   },
   "outputs": [],
   "source": [
    "username = 'mstr'\n",
    "password = 'LOBwhz18EmVg'\n",
    "project_id = 'B7CA92F04B9FAE8D941C3E9B7E0CD754'\n",
    "project_name = 'MicroStrategy Tutorial'\n",
    "report_id = 'C9B56A6111EAD7DD3F8D0080EF5538AA'\n",
    "env_url = 'https://env-181971.customer.cloud.microstrategy.com/MicroStrategyLibrary/api/'\n",
    "login_mode = 1"
   ]
  },
  {
   "cell_type": "markdown",
   "metadata": {},
   "source": [
    "### Log in as an administrator"
   ]
  },
  {
   "cell_type": "code",
   "execution_count": 3,
   "metadata": {
    "ExecuteTime": {
     "end_time": "2020-09-24T12:11:00.280782Z",
     "start_time": "2020-09-24T12:10:59.387837Z"
    }
   },
   "outputs": [
    {
     "name": "stdout",
     "output_type": "stream",
     "text": [
      "Connection to MicroStrategy Intelligence Server has been established.\n"
     ]
    }
   ],
   "source": [
    "connection = Connection(env_url, username, password, project_id=project_id, login_mode=login_mode)"
   ]
  },
  {
   "cell_type": "markdown",
   "metadata": {},
   "source": [
    "### List all security roles"
   ]
  },
  {
   "cell_type": "code",
   "execution_count": 4,
   "metadata": {
    "ExecuteTime": {
     "end_time": "2020-09-24T12:11:00.416242Z",
     "start_time": "2020-09-24T12:11:00.283480Z"
    },
    "scrolled": true
   },
   "outputs": [
    {
     "data": {
      "text/plain": [
       "['Role name: Analyst',\n",
       " 'Role name: Analytics Architect',\n",
       " 'Role name: Application Administrator',\n",
       " 'Role name: Application Architect',\n",
       " 'Role name: Certifier',\n",
       " 'Role name: Collaborator',\n",
       " 'Role name: Consumer',\n",
       " 'Role name: Customers',\n",
       " 'Role name: Database Architect',\n",
       " 'Role name: Embedded Analytics Architect',\n",
       " 'Role name: IntroBI',\n",
       " 'Role name: Managers',\n",
       " 'Role name: Mobile Architect',\n",
       " 'Role name: new security role',\n",
       " 'Role name: new_role12',\n",
       " 'Role name: new_role13',\n",
       " 'Role name: Normal Users',\n",
       " 'Role name: Northeast Users',\n",
       " 'Role name: Platform Administrator',\n",
       " 'Role name: Power Users',\n",
       " 'Role name: Project Bulk Administrators',\n",
       " 'Role name: Project Operations Administrators',\n",
       " 'Role name: Project Operations Monitors',\n",
       " 'Role name: Project Resource Settings Administrators',\n",
       " 'Role name: Project Security Administrators',\n",
       " 'Role name: System Administrator',\n",
       " 'Role name: test security role']"
      ]
     },
     "execution_count": 4,
     "metadata": {},
     "output_type": "execute_result"
    }
   ],
   "source": [
    "security_roles = list_security_roles(connection)\n",
    "['Role name: ' + r.name for r in security_roles]"
   ]
  },
  {
   "cell_type": "markdown",
   "metadata": {},
   "source": [
    "### Load set of existing privileges"
   ]
  },
  {
   "cell_type": "code",
   "execution_count": 5,
   "metadata": {
    "ExecuteTime": {
     "end_time": "2020-09-24T12:11:00.582821Z",
     "start_time": "2020-09-24T12:11:00.417670Z"
    },
    "scrolled": true
   },
   "outputs": [
    {
     "data": {
      "text/plain": [
       "['Privilege name: Create application objects',\n",
       " 'Privilege name: Create schema objects',\n",
       " 'Privilege name: Schedule request',\n",
       " 'Privilege name: Web user',\n",
       " 'Privilege name: Web create new Report',\n",
       " 'Privilege name: Web object search',\n",
       " 'Privilege name: Web save to My Reports',\n",
       " 'Privilege name: Web advanced drilling',\n",
       " 'Privilege name: Web export',\n",
       " 'Privilege name: Web print mode',\n",
       " 'Privilege name: Web manage Objects',\n",
       " 'Privilege name: Web save to Shared Reports',\n",
       " 'Privilege name: Use server cache',\n",
       " 'Privilege name: Web add to History List',\n",
       " 'Privilege name: Web change view mode',\n",
       " 'Privilege name: Web drill and link',\n",
       " 'Privilege name: Web drill on Metrics',\n",
       " 'Privilege name: Web format Grid and Graph',\n",
       " 'Privilege name: Web subscribe to History List',\n",
       " 'Privilege name: Web simultaneous execution',\n",
       " 'Privilege name: Web switch Page-By Elements',\n",
       " 'Privilege name: Web sort',\n",
       " 'Privilege name: Web filter on selections',\n",
       " 'Privilege name: Create Derived Metrics',\n",
       " 'Privilege name: Web create Derived Metrics and Derived Attributes',\n",
       " 'Privilege name: Web modify subtotals',\n",
       " 'Privilege name: Web modify the list of Report Objects (use object browser -- all objects)',\n",
       " 'Privilege name: Web use Report Objects Window',\n",
       " 'Privilege name: Web use View Filter Editor',\n",
       " 'Privilege name: Web use Design Mode',\n",
       " 'Privilege name: Web alias objects',\n",
       " 'Privilege name: Web use Filter Editor',\n",
       " 'Privilege name: Web re-execute Report against warehouse',\n",
       " 'Privilege name: Create new folder',\n",
       " 'Privilege name: Web simple graph formatting',\n",
       " 'Privilege name: Web use Locked Headers',\n",
       " 'Privilege name: Web set column widths',\n",
       " 'Privilege name: Web execute data mart Report',\n",
       " 'Privilege name: Web run Document',\n",
       " 'Privilege name: Web Document design',\n",
       " 'Privilege name: Web manage Document and Dossier datasets',\n",
       " 'Privilege name: Web add/remove units to/from Grid in Document in view mode',\n",
       " 'Privilege name: Web choose attribute form display',\n",
       " 'Privilege name: Web number formatting',\n",
       " 'Privilege name: Use Developer',\n",
       " 'Privilege name: Drill within Intelligent Cube',\n",
       " 'Privilege name: Web define MDX Cube Report',\n",
       " 'Privilege name: Use MicroStrategy Mobile',\n",
       " 'Privilege name: Mobile run Document',\n",
       " 'Privilege name: Web publish Intelligent Cube',\n",
       " 'Privilege name: Web subscribe others',\n",
       " 'Privilege name: Use link to History List in Email',\n",
       " 'Privilege name: Export to PDF',\n",
       " 'Privilege name: Export to HTML',\n",
       " 'Privilege name: Export to Excel',\n",
       " 'Privilege name: Export to text',\n",
       " 'Privilege name: View notes',\n",
       " 'Privilege name: Add notes',\n",
       " 'Privilege name: Edit notes',\n",
       " 'Privilege name: Use distribution services',\n",
       " 'Privilege name: Use send now ',\n",
       " 'Privilege name: Execute Report that uses multiple data sources',\n",
       " 'Privilege name: Save personal prompt answers',\n",
       " 'Privilege name: Web define Derived Elements',\n",
       " 'Privilege name: Web use Visual Threshold Editor',\n",
       " 'Privilege name: Web Dossier design',\n",
       " 'Privilege name: Web save Derived Elements',\n",
       " 'Privilege name: Web use Advanced Threshold Editor',\n",
       " 'Privilege name: Web edit drilling and links',\n",
       " 'Privilege name: Web edit notes',\n",
       " 'Privilege name: Web create HTML container',\n",
       " 'Privilege name: Use analytics',\n",
       " 'Privilege name: Use dynamic sourcing',\n",
       " 'Privilege name: Web use Custom Group Editor',\n",
       " 'Privilege name: Access data (files) from Local, URL, DropBox, Google Drive, Sample Files, Clipboard',\n",
       " 'Privilege name: Access data from Databases, Google BigQuery, BigData, OLAP, BI tools',\n",
       " 'Privilege name: Execute Transaction',\n",
       " 'Privilege name: Web edit Dossier',\n",
       " 'Privilege name: Web use object Sharing Editor',\n",
       " 'Privilege name: Web create Dossier',\n",
       " 'Privilege name: Web save Dossier',\n",
       " 'Privilege name: Print from device',\n",
       " 'Privilege name: Email screenshot from device',\n",
       " 'Privilege name: Use send preview Now ',\n",
       " 'Privilege name: Web use Metric Editor',\n",
       " 'Privilege name: Web run Dossier',\n",
       " 'Privilege name: Mobile run Dossier',\n",
       " 'Privilege name: Access data from Cloud App (Google Analytics, Salesforce Reports, Facebook, Twitter)',\n",
       " 'Privilege name: Export to .MSTR File',\n",
       " 'Privilege name: Import .MSTR File',\n",
       " 'Privilege name: Monitor quick search indices ',\n",
       " 'Privilege name: Publish Dossier',\n",
       " 'Privilege name: Create dataset in Workstation',\n",
       " 'Privilege name: Use Workstation',\n",
       " 'Privilege name: Use Library Web']"
      ]
     },
     "execution_count": 5,
     "metadata": {},
     "output_type": "execute_result"
    }
   ],
   "source": [
    "security_roles[0].fetch()\n",
    "privileges = [p['name'] for p in security_roles[0].privileges]\n",
    "['Privilege name: ' + p for p in privileges]"
   ]
  },
  {
   "cell_type": "markdown",
   "metadata": {},
   "source": [
    "### Create a new security role, with the same privileges"
   ]
  },
  {
   "cell_type": "code",
   "execution_count": 6,
   "metadata": {
    "ExecuteTime": {
     "end_time": "2020-09-24T12:11:01.162613Z",
     "start_time": "2020-09-24T12:11:00.584309Z"
    },
    "scrolled": true
   },
   "outputs": [
    {
     "name": "stdout",
     "output_type": "stream",
     "text": [
      "SecurityRole object named: 'test role' with ID: '02B82C7E11EAFE5FE7A00080EF950BC8'\n"
     ]
    }
   ],
   "source": [
    "security_role = SecurityRole.create(connection,\n",
    "                                    'test role',\n",
    "                                    privileges)"
   ]
  },
  {
   "cell_type": "markdown",
   "metadata": {},
   "source": [
    "### Create a new user"
   ]
  },
  {
   "cell_type": "code",
   "execution_count": 7,
   "metadata": {
    "ExecuteTime": {
     "end_time": "2020-09-24T12:11:01.420396Z",
     "start_time": "2020-09-24T12:11:01.164573Z"
    }
   },
   "outputs": [
    {
     "name": "stdout",
     "output_type": "stream",
     "text": [
      "Successfully created user named: 'testuser' with ID: '02E8609311EAFE5FE7A00080EF150CC9'\n"
     ]
    }
   ],
   "source": [
    "user = User.create(connection,\n",
    "                   username='testuser',\n",
    "                   full_name='integration test user1',\n",
    "                   password='mstr123',\n",
    "                   require_new_password=False)"
   ]
  },
  {
   "cell_type": "markdown",
   "metadata": {},
   "source": [
    "### Assign the new security role to the new user"
   ]
  },
  {
   "cell_type": "code",
   "execution_count": 8,
   "metadata": {
    "ExecuteTime": {
     "end_time": "2020-09-24T12:11:02.613507Z",
     "start_time": "2020-09-24T12:11:01.423826Z"
    }
   },
   "outputs": [
    {
     "name": "stdout",
     "output_type": "stream",
     "text": [
      "Application object named: 'MicroStrategy Tutorial' with ID: 'B7CA92F04B9FAE8D941C3E9B7E0CD754'\n"
     ]
    }
   ],
   "source": [
    "application = Application(connection, id=project_id)"
   ]
  },
  {
   "cell_type": "code",
   "execution_count": 9,
   "metadata": {
    "ExecuteTime": {
     "end_time": "2020-09-24T12:11:02.843099Z",
     "start_time": "2020-09-24T12:11:02.615951Z"
    },
    "scrolled": true
   },
   "outputs": [
    {
     "name": "stdout",
     "output_type": "stream",
     "text": [
      "Granted Security Role 'test role' to ['02E8609311EAFE5FE7A00080EF150CC9']\n"
     ]
    }
   ],
   "source": [
    "security_role.grant_to(members=[user.id], application=application)"
   ]
  },
  {
   "cell_type": "markdown",
   "metadata": {},
   "source": [
    "### Log in as the new user"
   ]
  },
  {
   "cell_type": "code",
   "execution_count": 10,
   "metadata": {
    "ExecuteTime": {
     "end_time": "2020-09-24T12:11:03.709876Z",
     "start_time": "2020-09-24T12:11:02.844746Z"
    }
   },
   "outputs": [
    {
     "name": "stdout",
     "output_type": "stream",
     "text": [
      "Connection to MicroStrategy Intelligence Server has been established.\n"
     ]
    }
   ],
   "source": [
    "connection = Connection(base_url=env_url,\n",
    "                        username=user.username,\n",
    "                        password='mstr123', \n",
    "                        project_id=project_id,\n",
    "                        login_mode=login_mode)"
   ]
  },
  {
   "cell_type": "markdown",
   "metadata": {},
   "source": [
    "### Verify if the user has access to the report"
   ]
  },
  {
   "cell_type": "code",
   "execution_count": 11,
   "metadata": {
    "ExecuteTime": {
     "end_time": "2020-09-24T12:11:04.538624Z",
     "start_time": "2020-09-24T12:11:03.711951Z"
    },
    "scrolled": true
   },
   "outputs": [
    {
     "data": {
      "application/vnd.jupyter.widget-view+json": {
       "model_id": "",
       "version_major": 2,
       "version_minor": 0
      },
      "text/plain": [
       "HBox(children=(FloatProgress(value=1.0, bar_style='info', description='Initializing an instance of a report. P…"
      ]
     },
     "metadata": {},
     "output_type": "display_data"
    },
    {
     "name": "stdout",
     "output_type": "stream",
     "text": [
      "Error getting report contents.\n",
      "I-Server Error ERR017, (User 'integration test user1' does not have Execute access to the Report Definition object 'C9B56A6111EAD7DD3F8D0080EF5538AA' in Project MicroStrategy Tutorial with ID 'B7CA92F04B9FAE8D941C3E9B7E0CD754'.)\n",
      "Ticket ID: 4261d24246ff420d9b550629ac0fcbb6\n",
      "\n"
     ]
    },
    {
     "ename": "HTTPError",
     "evalue": "403 Client Error:  for url: https://env-181971.customer.cloud.microstrategy.com/MicroStrategyLibrary/api/v2/reports/C9B56A6111EAD7DD3F8D0080EF5538AA/instances/?offset=0&limit=1000",
     "output_type": "error",
     "traceback": [
      "\u001b[0;31m---------------------------------------------------------------------------\u001b[0m",
      "\u001b[0;31mHTTPError\u001b[0m                                 Traceback (most recent call last)",
      "\u001b[0;32m<ipython-input-11-7c68b3a03972>\u001b[0m in \u001b[0;36m<module>\u001b[0;34m\u001b[0m\n\u001b[1;32m      1\u001b[0m report = Report(connection,\n\u001b[1;32m      2\u001b[0m                 report_id=report_id)\n\u001b[0;32m----> 3\u001b[0;31m \u001b[0mreport\u001b[0m\u001b[0;34m.\u001b[0m\u001b[0mto_dataframe\u001b[0m\u001b[0;34m(\u001b[0m\u001b[0;34m)\u001b[0m\u001b[0;34m\u001b[0m\u001b[0;34m\u001b[0m\u001b[0m\n\u001b[0m",
      "\u001b[0;32m~/PycharmProjects/mstrio-py/production/mstrio/report.py\u001b[0m in \u001b[0;36mto_dataframe\u001b[0;34m(self, limit)\u001b[0m\n\u001b[1;32m     83\u001b[0m \u001b[0;34m\u001b[0m\u001b[0m\n\u001b[1;32m     84\u001b[0m         \u001b[0;32mif\u001b[0m \u001b[0mself\u001b[0m\u001b[0;34m.\u001b[0m\u001b[0minstance_id\u001b[0m \u001b[0;32mis\u001b[0m \u001b[0;32mNone\u001b[0m\u001b[0;34m:\u001b[0m\u001b[0;34m\u001b[0m\u001b[0;34m\u001b[0m\u001b[0m\n\u001b[0;32m---> 85\u001b[0;31m             \u001b[0mres\u001b[0m \u001b[0;34m=\u001b[0m \u001b[0mself\u001b[0m\u001b[0;34m.\u001b[0m\u001b[0m__initialize_report\u001b[0m\u001b[0;34m(\u001b[0m\u001b[0mself\u001b[0m\u001b[0;34m.\u001b[0m\u001b[0m_initial_limit\u001b[0m\u001b[0;34m)\u001b[0m\u001b[0;34m\u001b[0m\u001b[0;34m\u001b[0m\u001b[0m\n\u001b[0m\u001b[1;32m     86\u001b[0m         \u001b[0;32melse\u001b[0m\u001b[0;34m:\u001b[0m\u001b[0;34m\u001b[0m\u001b[0;34m\u001b[0m\u001b[0m\n\u001b[1;32m     87\u001b[0m             \u001b[0;31m# try to get first chunk from already initialized instance of report,\u001b[0m\u001b[0;34m\u001b[0m\u001b[0;34m\u001b[0m\u001b[0;34m\u001b[0m\u001b[0m\n",
      "\u001b[0;32m~/PycharmProjects/mstrio-py/production/mstrio/report.py\u001b[0m in \u001b[0;36m__initialize_report\u001b[0;34m(self, limit)\u001b[0m\n\u001b[1;32m    204\u001b[0m \u001b[0;34m\u001b[0m\u001b[0m\n\u001b[1;32m    205\u001b[0m         \u001b[0;31m# Request a new instance, set instance id\u001b[0m\u001b[0;34m\u001b[0m\u001b[0;34m\u001b[0m\u001b[0;34m\u001b[0m\u001b[0m\n\u001b[0;32m--> 206\u001b[0;31m         response = reports.report_instance(connection=self._connection,\n\u001b[0m\u001b[1;32m    207\u001b[0m                                            \u001b[0mreport_id\u001b[0m\u001b[0;34m=\u001b[0m\u001b[0mself\u001b[0m\u001b[0;34m.\u001b[0m\u001b[0m_report_id\u001b[0m\u001b[0;34m,\u001b[0m\u001b[0;34m\u001b[0m\u001b[0;34m\u001b[0m\u001b[0m\n\u001b[1;32m    208\u001b[0m                                            \u001b[0mbody\u001b[0m\u001b[0;34m=\u001b[0m\u001b[0mbody\u001b[0m\u001b[0;34m,\u001b[0m\u001b[0;34m\u001b[0m\u001b[0;34m\u001b[0m\u001b[0m\n",
      "\u001b[0;32m~/PycharmProjects/mstrio-py/production/mstrio/api/reports.py\u001b[0m in \u001b[0;36mreport_instance\u001b[0;34m(connection, report_id, body, offset, limit)\u001b[0m\n\u001b[1;32m     46\u001b[0m                                        params=params)\n\u001b[1;32m     47\u001b[0m     \u001b[0;32mif\u001b[0m \u001b[0;32mnot\u001b[0m \u001b[0mresponse\u001b[0m\u001b[0;34m.\u001b[0m\u001b[0mok\u001b[0m\u001b[0;34m:\u001b[0m\u001b[0;34m\u001b[0m\u001b[0;34m\u001b[0m\u001b[0m\n\u001b[0;32m---> 48\u001b[0;31m         \u001b[0mresponse_handler\u001b[0m\u001b[0;34m(\u001b[0m\u001b[0mresponse\u001b[0m\u001b[0;34m,\u001b[0m \u001b[0;34m\"Error getting report contents.\"\u001b[0m\u001b[0;34m)\u001b[0m\u001b[0;34m\u001b[0m\u001b[0;34m\u001b[0m\u001b[0m\n\u001b[0m\u001b[1;32m     49\u001b[0m     \u001b[0;32mreturn\u001b[0m \u001b[0mresponse\u001b[0m\u001b[0;34m\u001b[0m\u001b[0;34m\u001b[0m\u001b[0m\n\u001b[1;32m     50\u001b[0m \u001b[0;34m\u001b[0m\u001b[0m\n",
      "\u001b[0;32m~/PycharmProjects/mstrio-py/production/mstrio/utils/helper.py\u001b[0m in \u001b[0;36mresponse_handler\u001b[0;34m(response, msg, throw_error, verbose, whitelist)\u001b[0m\n\u001b[1;32m    168\u001b[0m         \u001b[0;32melse\u001b[0m\u001b[0;34m:\u001b[0m\u001b[0;34m\u001b[0m\u001b[0;34m\u001b[0m\u001b[0m\n\u001b[1;32m    169\u001b[0m             \u001b[0;32mif\u001b[0m \u001b[0mthrow_error\u001b[0m \u001b[0;32mand\u001b[0m \u001b[0;32mnot\u001b[0m \u001b[0mis_whitelisted\u001b[0m\u001b[0;34m:\u001b[0m\u001b[0;34m\u001b[0m\u001b[0;34m\u001b[0m\u001b[0m\n\u001b[0;32m--> 170\u001b[0;31m                 \u001b[0mresponse\u001b[0m\u001b[0;34m.\u001b[0m\u001b[0mraise_for_status\u001b[0m\u001b[0;34m(\u001b[0m\u001b[0;34m)\u001b[0m\u001b[0;34m\u001b[0m\u001b[0;34m\u001b[0m\u001b[0m\n\u001b[0m\u001b[1;32m    171\u001b[0m \u001b[0;34m\u001b[0m\u001b[0m\n\u001b[1;32m    172\u001b[0m \u001b[0;34m\u001b[0m\u001b[0m\n",
      "\u001b[0;32m~/PycharmProjects/mstrio-py/venv/lib/python3.8/site-packages/requests/models.py\u001b[0m in \u001b[0;36mraise_for_status\u001b[0;34m(self)\u001b[0m\n\u001b[1;32m    939\u001b[0m \u001b[0;34m\u001b[0m\u001b[0m\n\u001b[1;32m    940\u001b[0m         \u001b[0;32mif\u001b[0m \u001b[0mhttp_error_msg\u001b[0m\u001b[0;34m:\u001b[0m\u001b[0;34m\u001b[0m\u001b[0;34m\u001b[0m\u001b[0m\n\u001b[0;32m--> 941\u001b[0;31m             \u001b[0;32mraise\u001b[0m \u001b[0mHTTPError\u001b[0m\u001b[0;34m(\u001b[0m\u001b[0mhttp_error_msg\u001b[0m\u001b[0;34m,\u001b[0m \u001b[0mresponse\u001b[0m\u001b[0;34m=\u001b[0m\u001b[0mself\u001b[0m\u001b[0;34m)\u001b[0m\u001b[0;34m\u001b[0m\u001b[0;34m\u001b[0m\u001b[0m\n\u001b[0m\u001b[1;32m    942\u001b[0m \u001b[0;34m\u001b[0m\u001b[0m\n\u001b[1;32m    943\u001b[0m     \u001b[0;32mdef\u001b[0m \u001b[0mclose\u001b[0m\u001b[0;34m(\u001b[0m\u001b[0mself\u001b[0m\u001b[0;34m)\u001b[0m\u001b[0;34m:\u001b[0m\u001b[0;34m\u001b[0m\u001b[0;34m\u001b[0m\u001b[0m\n",
      "\u001b[0;31mHTTPError\u001b[0m: 403 Client Error:  for url: https://env-181971.customer.cloud.microstrategy.com/MicroStrategyLibrary/api/v2/reports/C9B56A6111EAD7DD3F8D0080EF5538AA/instances/?offset=0&limit=1000"
     ]
    }
   ],
   "source": [
    "report = Report(connection,\n",
    "                report_id=report_id)\n",
    "report.to_dataframe()"
   ]
  },
  {
   "cell_type": "markdown",
   "metadata": {},
   "source": [
    "As expected accessing the report raises an Exception"
   ]
  },
  {
   "cell_type": "markdown",
   "metadata": {},
   "source": [
    "### Login back as administrator"
   ]
  },
  {
   "cell_type": "code",
   "execution_count": 12,
   "metadata": {
    "ExecuteTime": {
     "end_time": "2020-09-24T12:11:34.845725Z",
     "start_time": "2020-09-24T12:11:33.966072Z"
    }
   },
   "outputs": [
    {
     "name": "stdout",
     "output_type": "stream",
     "text": [
      "Connection to MicroStrategy Intelligence Server has been established.\n"
     ]
    }
   ],
   "source": [
    "connection = Connection(env_url, username, password, project_id=project_id, login_mode=login_mode)"
   ]
  },
  {
   "cell_type": "markdown",
   "metadata": {},
   "source": [
    "### Grant the new user access to a report"
   ]
  },
  {
   "cell_type": "code",
   "execution_count": 13,
   "metadata": {
    "ExecuteTime": {
     "end_time": "2020-09-24T12:11:35.631272Z",
     "start_time": "2020-09-24T12:11:34.847624Z"
    }
   },
   "outputs": [],
   "source": [
    "user.set_permission('Modify', to_objects=[report_id],\n",
    "                     object_type=3)"
   ]
  },
  {
   "cell_type": "markdown",
   "metadata": {},
   "source": [
    "### Log in as the new user"
   ]
  },
  {
   "cell_type": "code",
   "execution_count": 15,
   "metadata": {
    "ExecuteTime": {
     "end_time": "2020-09-24T12:11:54.868876Z",
     "start_time": "2020-09-24T12:11:54.020762Z"
    }
   },
   "outputs": [
    {
     "name": "stdout",
     "output_type": "stream",
     "text": [
      "Connection to MicroStrategy Intelligence Server has been established.\n"
     ]
    }
   ],
   "source": [
    "connection = Connection(base_url=env_url,\n",
    "                        username=user.username,\n",
    "                        password='mstr123', \n",
    "                        project_id=project_id,\n",
    "                        login_mode=login_mode)"
   ]
  },
  {
   "cell_type": "markdown",
   "metadata": {},
   "source": [
    "### Verify if the user has access to the report"
   ]
  },
  {
   "cell_type": "code",
   "execution_count": 16,
   "metadata": {
    "ExecuteTime": {
     "end_time": "2020-09-24T12:11:56.210965Z",
     "start_time": "2020-09-24T12:11:54.870984Z"
    }
   },
   "outputs": [
    {
     "data": {
      "application/vnd.jupyter.widget-view+json": {
       "model_id": "",
       "version_major": 2,
       "version_minor": 0
      },
      "text/plain": [
       "HBox(children=(FloatProgress(value=1.0, bar_style='info', description='Initializing an instance of a report. P…"
      ]
     },
     "metadata": {},
     "output_type": "display_data"
    },
    {
     "data": {
      "text/html": [
       "<div>\n",
       "<style scoped>\n",
       "    .dataframe tbody tr th:only-of-type {\n",
       "        vertical-align: middle;\n",
       "    }\n",
       "\n",
       "    .dataframe tbody tr th {\n",
       "        vertical-align: top;\n",
       "    }\n",
       "\n",
       "    .dataframe thead th {\n",
       "        text-align: right;\n",
       "    }\n",
       "</style>\n",
       "<table border=\"1\" class=\"dataframe\">\n",
       "  <thead>\n",
       "    <tr style=\"text-align: right;\">\n",
       "      <th></th>\n",
       "      <th>Age Range@DESC</th>\n",
       "      <th>Age Range@ID</th>\n",
       "      <th>Order Count</th>\n",
       "    </tr>\n",
       "  </thead>\n",
       "  <tbody>\n",
       "    <tr>\n",
       "      <th>0</th>\n",
       "      <td>24 and under</td>\n",
       "      <td>1</td>\n",
       "      <td>13311</td>\n",
       "    </tr>\n",
       "    <tr>\n",
       "      <th>1</th>\n",
       "      <td>25 to 34</td>\n",
       "      <td>2</td>\n",
       "      <td>25371</td>\n",
       "    </tr>\n",
       "    <tr>\n",
       "      <th>2</th>\n",
       "      <td>35 to 44</td>\n",
       "      <td>3</td>\n",
       "      <td>26208</td>\n",
       "    </tr>\n",
       "    <tr>\n",
       "      <th>3</th>\n",
       "      <td>45 to 54</td>\n",
       "      <td>4</td>\n",
       "      <td>26247</td>\n",
       "    </tr>\n",
       "    <tr>\n",
       "      <th>4</th>\n",
       "      <td>55 and over</td>\n",
       "      <td>5</td>\n",
       "      <td>62853</td>\n",
       "    </tr>\n",
       "  </tbody>\n",
       "</table>\n",
       "</div>"
      ],
      "text/plain": [
       "  Age Range@DESC Age Range@ID  Order Count\n",
       "0   24 and under            1        13311\n",
       "1       25 to 34            2        25371\n",
       "2       35 to 44            3        26208\n",
       "3       45 to 54            4        26247\n",
       "4    55 and over            5        62853"
      ]
     },
     "execution_count": 16,
     "metadata": {},
     "output_type": "execute_result"
    }
   ],
   "source": [
    "report = Report(connection,\n",
    "                report_id=report_id)\n",
    "report.to_dataframe()"
   ]
  },
  {
   "cell_type": "markdown",
   "metadata": {},
   "source": [
    "The user has been granted the permission to use the report"
   ]
  },
  {
   "cell_type": "markdown",
   "metadata": {},
   "source": [
    "### Login back as administrator"
   ]
  },
  {
   "cell_type": "code",
   "execution_count": 17,
   "metadata": {
    "ExecuteTime": {
     "end_time": "2020-09-24T12:11:57.169649Z",
     "start_time": "2020-09-24T12:11:56.213013Z"
    }
   },
   "outputs": [
    {
     "name": "stdout",
     "output_type": "stream",
     "text": [
      "Connection to MicroStrategy Intelligence Server has been established.\n"
     ]
    }
   ],
   "source": [
    "connection = Connection(env_url, username, password, project_id=project_id, login_mode=login_mode)"
   ]
  },
  {
   "cell_type": "markdown",
   "metadata": {},
   "source": [
    "### Find the newly created role ID"
   ]
  },
  {
   "cell_type": "code",
   "execution_count": 18,
   "metadata": {
    "ExecuteTime": {
     "end_time": "2020-09-24T12:11:57.290598Z",
     "start_time": "2020-09-24T12:11:57.171769Z"
    }
   },
   "outputs": [
    {
     "data": {
      "text/plain": [
       "['02B82C7E11EAFE5FE7A00080EF950BC8']"
      ]
     },
     "execution_count": 18,
     "metadata": {},
     "output_type": "execute_result"
    }
   ],
   "source": [
    "role_ids = [r.id for r in list_security_roles(connection, name='test role')]\n",
    "role_ids"
   ]
  },
  {
   "cell_type": "markdown",
   "metadata": {},
   "source": [
    "### Delete the newly create role"
   ]
  },
  {
   "cell_type": "code",
   "execution_count": 19,
   "metadata": {
    "ExecuteTime": {
     "end_time": "2020-09-24T12:11:57.585246Z",
     "start_time": "2020-09-24T12:11:57.292344Z"
    }
   },
   "outputs": [
    {
     "name": "stdout",
     "output_type": "stream",
     "text": [
      "SecurityRole object named: 'test role' with ID: '02B82C7E11EAFE5FE7A00080EF950BC8'\n",
      "Deleted security role 02B82C7E11EAFE5FE7A00080EF950BC8.\n"
     ]
    }
   ],
   "source": [
    "for r_id in role_ids:\n",
    "    r = SecurityRole(connection, id = r_id)\n",
    "    r.delete(force=True)"
   ]
  },
  {
   "cell_type": "markdown",
   "metadata": {},
   "source": [
    "### Find the newly create user ID"
   ]
  },
  {
   "cell_type": "code",
   "execution_count": 20,
   "metadata": {
    "ExecuteTime": {
     "end_time": "2020-09-24T12:11:57.713172Z",
     "start_time": "2020-09-24T12:11:57.587763Z"
    }
   },
   "outputs": [],
   "source": [
    "user_ids = [u.id for u in list_users(connection, name='integration test user1')]"
   ]
  },
  {
   "cell_type": "code",
   "execution_count": 21,
   "metadata": {
    "ExecuteTime": {
     "end_time": "2020-09-24T12:11:57.720297Z",
     "start_time": "2020-09-24T12:11:57.715216Z"
    }
   },
   "outputs": [
    {
     "data": {
      "text/plain": [
       "['02E8609311EAFE5FE7A00080EF150CC9']"
      ]
     },
     "execution_count": 21,
     "metadata": {},
     "output_type": "execute_result"
    }
   ],
   "source": [
    "user_ids"
   ]
  },
  {
   "cell_type": "markdown",
   "metadata": {},
   "source": [
    "### Delete the newly created user"
   ]
  },
  {
   "cell_type": "code",
   "execution_count": 22,
   "metadata": {
    "ExecuteTime": {
     "end_time": "2020-09-24T12:12:00.470463Z",
     "start_time": "2020-09-24T12:11:57.722998Z"
    }
   },
   "outputs": [
    {
     "name": "stdout",
     "output_type": "stream",
     "text": [
      "User object named: 'integration test user1' with ID: '02E8609311EAFE5FE7A00080EF150CC9'\n",
      "Successfully deleted user 02E8609311EAFE5FE7A00080EF150CC9\n"
     ]
    }
   ],
   "source": [
    "for u_id in user_ids:\n",
    "    u = User(connection, id=u_id)\n",
    "    u.delete(force=True)"
   ]
  },
  {
   "cell_type": "markdown",
   "metadata": {},
   "source": [
    "## "
   ]
  }
 ],
 "metadata": {
  "kernelspec": {
   "display_name": "Python 3",
   "language": "python",
   "name": "python3"
  },
  "language_info": {
   "codemirror_mode": {
    "name": "ipython",
    "version": 3
   },
   "file_extension": ".py",
   "mimetype": "text/x-python",
   "name": "python",
   "nbconvert_exporter": "python",
   "pygments_lexer": "ipython3",
   "version": "3.8.1"
  }
 },
 "nbformat": 4,
 "nbformat_minor": 4
}
