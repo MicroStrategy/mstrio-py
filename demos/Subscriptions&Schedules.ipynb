{
 "cells": [
  {
   "cell_type": "code",
   "execution_count": null,
   "metadata": {
    "ExecuteTime": {
     "end_time": "2020-11-04T14:57:52.468114Z",
     "start_time": "2020-11-04T14:57:50.971847Z"
    }
   },
   "outputs": [],
   "source": [
    "from mstrio.connection import Connection\n",
    "from mstrio.admin.application import Application, Environment\n",
    "from mstrio.admin.subscription.subscription import Subscription, EmailSubscription\n",
    "from mstrio.admin.subscription.subscription_manager import SubscriptionManager\n",
    "from mstrio.admin.subscription.delivery import Delivery, ZipSettings\n",
    "from mstrio.admin.subscription.content import Content\n",
    "from mstrio.admin.schedule import Schedule, ScheduleManager\n",
    "import mstrio.config as config\n",
    "config.verbose = True\n",
    "base_url = \"https://env-231935.customer.cloud.microstrategy.com/MicroStrategyLibrary/api/\"\n",
    "username = \"mstr\"\n",
    "password = \"RcitnH9cdKIJ\"\n",
    "\n",
    "conn = Connection(base_url, username, password, verbose=True,login_mode=1)#, project_name='MicroStrategy Tutorial')"
   ]
  },
  {
   "cell_type": "code",
   "execution_count": null,
   "metadata": {
    "ExecuteTime": {
     "end_time": "2020-11-04T14:57:52.475278Z",
     "start_time": "2020-11-04T14:57:52.470714Z"
    }
   },
   "outputs": [],
   "source": [
    "# Applications\n",
    "tutorial='MicroStrategy Tutorial'\n",
    "\n",
    "# Recipients\n",
    "admin='54F3D26011D2896560009A8E67019608'\n",
    "akm='CCCE414211EB183BD8DC0080EFA51282'\n",
    "ihologa='F43C64DF11EB183BD8DC0080EFB53282'\n",
    "pczyz='1EFE801C11EB183CD8DC0080EFA5107E'\n",
    "oduda='B259574D11EB190ED8DC0080EF95F180'\n",
    "alister = 'E96A7BBD11D4BBCE10004694316DE8A4' # without mail\n",
    "ksachmata = '62F86A2A11EB1DE274650080EF05E03C'\n",
    "\n",
    "# Contents\n",
    "campaign_finances_dossier='0D0CDC8F11E97E8F00000080AFB3A407'\n",
    "retail_sales_dossier='CF13BCDA409911243371CA980BAAE749'\n",
    "cockpit_document = '643209B54CC84199C48A238ACB6CB621'\n",
    "income_report ='256263D142248D56446F3A80AD100C06'\n",
    "landing_dossier='66366F0E11EA112A1A9C0080EF8568D5'\n",
    "corporate_overview = 'DF39F7484EDA0420E500FF93A8EEA815' #pdf works\n",
    "\n",
    "doc_id = '0A634DD043D54EC81B5421A7D93EA3BC'"
   ]
  },
  {
   "cell_type": "code",
   "execution_count": null,
   "metadata": {
    "ExecuteTime": {
     "end_time": "2020-11-04T14:57:52.807506Z",
     "start_time": "2020-11-04T14:57:52.478801Z"
    }
   },
   "outputs": [],
   "source": [
    "# List schedules - outline\n",
    "schm=ScheduleManager(conn)\n",
    "schedules=schm.list_schedules()\n",
    "schedules[:3] #only first 3"
   ]
  },
  {
   "cell_type": "code",
   "execution_count": null,
   "metadata": {
    "ExecuteTime": {
     "end_time": "2020-11-04T14:57:52.863299Z",
     "start_time": "2020-11-04T14:57:52.810077Z"
    }
   },
   "outputs": [],
   "source": [
    "# Single schedule properties - outline\n",
    "sh=Schedule(conn,'FF7BB3C811D501F0C00051916B98494F')\n",
    "sh.list_properties()"
   ]
  },
  {
   "cell_type": "code",
   "execution_count": null,
   "metadata": {
    "ExecuteTime": {
     "end_time": "2020-11-04T14:57:52.869325Z",
     "start_time": "2020-11-04T14:57:52.865245Z"
    }
   },
   "outputs": [],
   "source": [
    "# Create new subscription - outline\n",
    "# content objects:\n",
    "cont=Content(id=income_report,\n",
    "             type='REPORT',\n",
    "             personalization = Content.Properties(format_type='PDF', delimiter=',', \n",
    "                                                 export_to_pdf_settings=Content.Properties.ExportToPdfSettings(orientation='LANDSCAPE')))\n",
    "\n",
    "cont = Content(id=corporate_overview,\n",
    "               type='DOCUMENT',\n",
    "               personalization=Content.Properties.from_dict({'format_type': 'PDF'}))\n",
    "\n",
    "# cont=Content(id=retail_sales_dossier,\n",
    "#              type='DOSSIER',\n",
    "#              personalization =Content.Properties(format_mode='DEFAULT',format_type='MSTR')\n",
    "#              )\n",
    "\n",
    "# new_sub=EmailSubscription.create(conn,\n",
    "#                                 name=\"test demo\",\n",
    "#                                 application_name=tutorial,\n",
    "#                                 contents=cont,\n",
    "#                                 schedules_ids='FF7BB3C811D501F0C00051916B98494F',\n",
    "#                                 recipients=pczyz,\n",
    "#                                 send_now=True, email_include_data=True, compress=False,\n",
    "#                                 email_subject=\"Demo Subscription Email\",email_message='subs go brrr')\n",
    "new_sub=EmailSubscription.create(conn,\n",
    "                                name=\"fresh11 sub for demo\",\n",
    "                                application_name=tutorial,\n",
    "                                contents=cont,\n",
    "                                schedules_ids='FF7BB3C811D501F0C00051916B98494F',\n",
    "                                recipients=[pczyz],\n",
    "                                send_now=True, email_include_data=False,\n",
    "                                email_subject=\"Demo Subscription Email validation\",\n",
    "                                delivery_expiration_date='2020-11-04')"
   ]
  },
  {
   "cell_type": "code",
   "execution_count": null,
   "metadata": {
    "ExecuteTime": {
     "end_time": "2020-10-29T09:52:05.701338Z",
     "start_time": "2020-10-29T09:52:05.693494Z"
    }
   },
   "outputs": [],
   "source": [
    "help(EmailSubscription.create)"
   ]
  },
  {
   "cell_type": "code",
   "execution_count": null,
   "metadata": {
    "ExecuteTime": {
     "end_time": "2020-10-29T12:39:09.176589Z",
     "start_time": "2020-10-29T12:39:09.108805Z"
    }
   },
   "outputs": [],
   "source": [
    "# Check available recipients - depends on content and delivery type\n",
    "new_sub.available_recipients()"
   ]
  },
  {
   "cell_type": "code",
   "execution_count": null,
   "metadata": {
    "ExecuteTime": {
     "end_time": "2020-10-29T12:39:42.119898Z",
     "start_time": "2020-10-29T12:39:42.109447Z"
    }
   },
   "outputs": [],
   "source": [
    "new_sub.recipients"
   ]
  },
  {
   "cell_type": "code",
   "execution_count": null,
   "metadata": {
    "ExecuteTime": {
     "end_time": "2020-10-29T12:40:19.501673Z",
     "start_time": "2020-10-29T12:40:19.101432Z"
    },
    "scrolled": true
   },
   "outputs": [],
   "source": [
    "# Remove recipients - outline\n",
    "new_sub.remove_recipient([pczyz])"
   ]
  },
  {
   "cell_type": "code",
   "execution_count": null,
   "metadata": {
    "ExecuteTime": {
     "end_time": "2020-10-29T12:40:14.811984Z",
     "start_time": "2020-10-29T12:40:14.386832Z"
    }
   },
   "outputs": [],
   "source": [
    "# Add recipient - outline\n",
    "new_sub.add_recipient(admin)"
   ]
  },
  {
   "cell_type": "code",
   "execution_count": null,
   "metadata": {
    "ExecuteTime": {
     "end_time": "2020-10-29T12:41:12.767797Z",
     "start_time": "2020-10-29T12:41:12.256820Z"
    }
   },
   "outputs": [],
   "source": [
    "# Execute subscription -> send mail now - outline\n",
    "new_sub.execute()"
   ]
  },
  {
   "cell_type": "code",
   "execution_count": null,
   "metadata": {},
   "outputs": [],
   "source": [
    "# Delete subscription - outline\n",
    "new_sub.delete(force=True)"
   ]
  },
  {
   "cell_type": "code",
   "execution_count": null,
   "metadata": {
    "ExecuteTime": {
     "end_time": "2020-10-29T12:42:03.825429Z",
     "start_time": "2020-10-29T12:42:01.155758Z"
    }
   },
   "outputs": [],
   "source": [
    "# List subscriptions - outline \n",
    "subm=SubscriptionManager(conn, application_name=tutorial)\n",
    "subm.list_subscriptions(name='test demo')"
   ]
  },
  {
   "cell_type": "code",
   "execution_count": null,
   "metadata": {
    "ExecuteTime": {
     "end_time": "2020-10-29T12:43:54.435137Z",
     "start_time": "2020-10-29T12:43:53.148810Z"
    }
   },
   "outputs": [],
   "source": [
    "# Execute all - outline\n",
    "subm.execute(schedules=[]) # pass list of subscription (ID/objects) "
   ]
  },
  {
   "cell_type": "code",
   "execution_count": null,
   "metadata": {
    "ExecuteTime": {
     "end_time": "2020-10-29T12:43:53.146513Z",
     "start_time": "2020-10-29T12:42:29.926188Z"
    }
   },
   "outputs": [],
   "source": [
    "# Delete all - outline\n",
    "subm.delete(name='sub1') # like above"
   ]
  },
  {
   "cell_type": "code",
   "execution_count": null,
   "metadata": {
    "ExecuteTime": {
     "end_time": "2020-10-29T12:54:19.347108Z",
     "start_time": "2020-10-29T12:54:19.017024Z"
    }
   },
   "outputs": [],
   "source": [
    "# Load subscription by ID\n",
    "sub=Subscription(conn,'D24C3AE011EB190BE4A60080EFC55280',application_name=tutorial)"
   ]
  },
  {
   "cell_type": "code",
   "execution_count": null,
   "metadata": {
    "ExecuteTime": {
     "end_time": "2020-10-29T12:54:50.407540Z",
     "start_time": "2020-10-29T12:54:50.002844Z"
    }
   },
   "outputs": [],
   "source": [
    "# Alter subscription - outline\n",
    "sub.alter(allow_unsubscribe=False, allow_delivery_changes=False)"
   ]
  },
  {
   "cell_type": "code",
   "execution_count": null,
   "metadata": {
    "ExecuteTime": {
     "end_time": "2020-10-29T12:55:39.453198Z",
     "start_time": "2020-10-29T12:55:39.447691Z"
    }
   },
   "outputs": [],
   "source": [
    "# List subscription properteies - outline\n",
    "sub.list_properties()"
   ]
  },
  {
   "cell_type": "code",
   "execution_count": null,
   "metadata": {
    "ExecuteTime": {
     "end_time": "2020-11-04T15:02:10.823551Z",
     "start_time": "2020-11-04T15:01:58.686033Z"
    }
   },
   "outputs": [],
   "source": [
    "# Remove user from all subscriptions and add Administrator instead - Use Case\n",
    "# As we can't have subscription without recipients\n",
    "user_id=ksachmata\n",
    "subm=SubscriptionManager(conn,application_name=tutorial)\n",
    "for sub in subm.list_subscriptions(to_dictionary=False):\n",
    "    if user_id in [p['id'] for p in sub.recipients]:\n",
    "        sub.add_recipient(sub.available_recipients()[0])\n",
    "        sub.remove_recipient([user_id])"
   ]
  },
  {
   "cell_type": "code",
   "execution_count": null,
   "metadata": {
    "ExecuteTime": {
     "end_time": "2020-11-04T10:38:24.993647Z",
     "start_time": "2020-11-04T10:38:22.793727Z"
    }
   },
   "outputs": [],
   "source": [
    "# changing ownership\n",
    "old_owner=admin\n",
    "new_owner=admin\n",
    "subm=SubscriptionManager(conn,application_name=tutorial)\n",
    "for sub in subm.list_subscriptions(to_dictionary=False):\n",
    "    if old_owner == sub.owner['id']:\n",
    "        print('{} jest owner w subsckrypcji {} z id {}'.format(sub.owner['id'],sub.name, sub.id))\n",
    "#         sub.alter(owner_id=new_owner)"
   ]
  },
  {
   "cell_type": "code",
   "execution_count": null,
   "metadata": {
    "ExecuteTime": {
     "end_time": "2020-11-04T10:55:43.599055Z",
     "start_time": "2020-11-04T10:55:38.888093Z"
    }
   },
   "outputs": [],
   "source": [
    "suby = subm.list_subscriptions(name='sub1',to_dictionary=False)\n",
    "for sub in suby:\n",
    "    sub.delete(force=True)"
   ]
  },
  {
   "cell_type": "markdown",
   "metadata": {
    "ExecuteTime": {
     "end_time": "2020-10-27T08:06:20.256492Z",
     "start_time": "2020-10-27T08:06:20.254284Z"
    }
   },
   "source": [
    "#  <<<<<<<<<<<<<<<<<<<<<<<<< Other env>>>>>>>>>>>>>>>>>>>>>>>>>>"
   ]
  },
  {
   "cell_type": "code",
   "execution_count": null,
   "metadata": {
    "ExecuteTime": {
     "end_time": "2020-10-27T12:09:50.679829Z",
     "start_time": "2020-10-27T12:09:46.278580Z"
    }
   },
   "outputs": [],
   "source": [
    "from mstrio.connection import Connection\n",
    "from mstrio.admin.application import Application, Environment\n",
    "from mstrio.admin.subscription.subscription import Subscription, EmailSubscription\n",
    "from mstrio.admin.subscription.subscription_manager import SubscriptionManager\n",
    "from mstrio.admin.subscription.delivery import Delivery, ZipSettings\n",
    "from mstrio.admin.subscription.content import Content\n",
    "from mstrio.admin.schedule import Schedule, ScheduleManager\n",
    "\n",
    "base_url = \"https://env-228987.customer.cloud.microstrategy.com/MicroStrategyLibrary/api/\"\n",
    "username = \"mstr\"\n",
    "password = \"gPa8ZHh1t98g\"\n",
    "conn = Connection(base_url, username, password, login_mode=1)"
   ]
  },
  {
   "cell_type": "markdown",
   "metadata": {
    "ExecuteTime": {
     "end_time": "2020-10-08T11:04:52.548424Z",
     "start_time": "2020-10-08T11:04:52.546429Z"
    }
   },
   "source": [
    "## Initialize manager and list subscriptions"
   ]
  },
  {
   "cell_type": "code",
   "execution_count": null,
   "metadata": {
    "ExecuteTime": {
     "end_time": "2020-10-27T12:09:50.851978Z",
     "start_time": "2020-10-27T12:09:50.682364Z"
    }
   },
   "outputs": [],
   "source": [
    "project_platform = 'B24EBC0E11EAFEEE5B850080EF15A7A6'\n",
    "project_hierarchies = 'B3FEE61A11E696C8BD0F0080EFC58F44'\n",
    "project_tutorial = 'B7CA92F04B9FAE8D941C3E9B7E0CD754'\n",
    "tutorial=\"MicroStrategy Tutorial\"\n",
    "platform='Platform Analytics'\n",
    "subs=SubscriptionManager(conn,application_name=tutorial)"
   ]
  },
  {
   "cell_type": "code",
   "execution_count": null,
   "metadata": {
    "ExecuteTime": {
     "end_time": "2020-10-27T12:09:52.532185Z",
     "start_time": "2020-10-27T12:09:50.854756Z"
    }
   },
   "outputs": [],
   "source": [
    "subs.list_subscriptions(name='sub1')"
   ]
  },
  {
   "cell_type": "code",
   "execution_count": null,
   "metadata": {
    "ExecuteTime": {
     "end_time": "2020-10-27T12:09:54.034523Z",
     "start_time": "2020-10-27T12:09:52.534510Z"
    }
   },
   "outputs": [],
   "source": [
    "subs.delete_all(name='Nowa aa')"
   ]
  },
  {
   "cell_type": "code",
   "execution_count": null,
   "metadata": {
    "ExecuteTime": {
     "end_time": "2020-10-27T12:10:02.586747Z",
     "start_time": "2020-10-27T12:09:54.036749Z"
    }
   },
   "outputs": [],
   "source": [
    "subs.execute_all(name='REPORT SUBS TEST')"
   ]
  },
  {
   "cell_type": "code",
   "execution_count": null,
   "metadata": {
    "ExecuteTime": {
     "end_time": "2020-10-27T12:10:06.115259Z",
     "start_time": "2020-10-27T12:10:02.589327Z"
    }
   },
   "outputs": [],
   "source": [
    "subs.delete_all(name='Subscription test 2')"
   ]
  },
  {
   "cell_type": "markdown",
   "metadata": {},
   "source": [
    "## Create and delete subscription"
   ]
  },
  {
   "cell_type": "code",
   "execution_count": null,
   "metadata": {
    "ExecuteTime": {
     "end_time": "2020-10-27T12:10:06.121402Z",
     "start_time": "2020-10-27T12:10:06.117586Z"
    }
   },
   "outputs": [],
   "source": [
    "# Create new subscription \n",
    "project_id='B24EBC0E11EAFEEE5B850080EF15A7A6'\n",
    "schedule_id='FD7C7E7E4CA242FF314492A6CC696FB1'\n",
    "dossier_id='74517BA511E8638108510080EFB50F2D'\n",
    "content_type='dossier'\n",
    "name='Recipient_test_sub'\n",
    "pczyz_id='DDD9B37F11EB07CCF3D90080EFB5A7D5'\n",
    "pczyz2_id='66BCA30411EB0C82B71F0080EF95DBAC'\n",
    "allister_id='E96A7BBD11D4BBCE10004694316DE8A4'\n",
    "admin_id = '54F3D26011D2896560009A8E67019608'\n",
    "\n",
    "project_tutorial = 'B7CA92F04B9FAE8D941C3E9B7E0CD754'\n",
    "landing_dossier='66366F0E11EA112A1A9C0080EF8568D5'\n",
    "expiration_date='dsdsdsd'\n",
    "report_subs='41D5E34311EB0EEFA7000080EF158FDF'"
   ]
  },
  {
   "cell_type": "code",
   "execution_count": null,
   "metadata": {
    "ExecuteTime": {
     "end_time": "2020-10-27T12:10:06.632552Z",
     "start_time": "2020-10-27T12:10:06.124278Z"
    }
   },
   "outputs": [],
   "source": [
    "# Create new subscription \n",
    "cont=Content(id=landing_dossier,\n",
    "             type='DOSSIER',\n",
    "             personalization =Content.Properties(format_mode='PDF',format_type='PDF')\n",
    "             )\n",
    "new_sub=EmailSubscription.create(conn,\n",
    "                                name=\"sub1\",\n",
    "                                application_name=tutorial,\n",
    "                                contents=cont,\n",
    "                                schedules_ids=['987DF6464625F087CCC67FA9DB53097D'],\n",
    "                                recipients=[admin_id, pczyz2_id],\n",
    "                                send_now=False, email_include_data=False,\n",
    "                                email_subject=\"ccc\",email_message='subs go brrr')"
   ]
  },
  {
   "cell_type": "code",
   "execution_count": null,
   "metadata": {
    "ExecuteTime": {
     "end_time": "2020-10-27T08:19:17.436111Z",
     "start_time": "2020-10-27T08:19:17.006167Z"
    }
   },
   "outputs": [],
   "source": [
    "cont=Content(id=landing_dossier,\n",
    "             type='DOSSIER',\n",
    "             personalization =Content.Properties(format_mode='PDF',format_type='PDF')\n",
    "             )\n",
    "new_sub=EmailSubscription.create(conn,name='New subscription', \n",
    "                                 application_id=project_tutorial, \n",
    "                                 contents=[cont],\n",
    "                                 schedules_ids=[schedule_id], \n",
    "                                 recipients=['54F3D26011D2896560009A8E67019608'], send_now=True)"
   ]
  },
  {
   "cell_type": "code",
   "execution_count": null,
   "metadata": {
    "ExecuteTime": {
     "end_time": "2020-10-27T08:21:24.913117Z",
     "start_time": "2020-10-27T08:21:24.308102Z"
    }
   },
   "outputs": [],
   "source": [
    "# Create new subscription \n",
    "project_id='B24EBC0E11EAFEEE5B850080EF15A7A6'\n",
    "schedule_id='FD7C7E7E4CA242FF314492A6CC696FB1'\n",
    "dossier_id='74517BA511E8638108510080EFB50F2D'\n",
    "content_type='dossier'\n",
    "name='Recipient_test_sub'\n",
    "pczyz_id='DDD9B37F11EB07CCF3D90080EFB5A7D5'\n",
    "pczyz2_id='66BCA30411EB0C82B71F0080EF95DBAC'\n",
    "allister_id='E96A7BBD11D4BBCE10004694316DE8A4'\n",
    "admin_id = '54F3D26011D2896560009A8E67019608'\n",
    "\n",
    "project_tutorial = 'B7CA92F04B9FAE8D941C3E9B7E0CD754'\n",
    "landing_dossier='66366F0E11EA112A1A9C0080EF8568D5'\n",
    "expiration_date='dsdsdsd'\n",
    "report_subs='41D5E34311EB0EEFA7000080EF158FDF'\n",
    "\n",
    "cont=Content(id=report_subs,\n",
    "             type='REPORT')\n",
    "new_sub=EmailSubscription.create(conn,\n",
    "                                name=\"fresh11 sub for demo\",\n",
    "                                application_id=project_tutorial,\n",
    "                                contents=cont,\n",
    "                                schedules_ids=schedule_id,\n",
    "                                recipients=pczyz2_id,\n",
    "                                send_now=True, email_include_data=False)"
   ]
  },
  {
   "cell_type": "code",
   "execution_count": null,
   "metadata": {
    "ExecuteTime": {
     "end_time": "2020-10-16T10:28:11.968322Z",
     "start_time": "2020-10-16T10:28:11.955722Z"
    }
   },
   "outputs": [],
   "source": [
    "new_sub.list_properties()"
   ]
  },
  {
   "cell_type": "code",
   "execution_count": null,
   "metadata": {
    "ExecuteTime": {
     "end_time": "2020-10-15T09:35:49.251693Z",
     "start_time": "2020-10-15T09:35:49.246639Z"
    },
    "scrolled": true
   },
   "outputs": [],
   "source": [
    "new_sub.list_properties()"
   ]
  },
  {
   "cell_type": "code",
   "execution_count": null,
   "metadata": {
    "ExecuteTime": {
     "end_time": "2020-10-27T07:50:57.233301Z",
     "start_time": "2020-10-27T07:50:57.224281Z"
    }
   },
   "outputs": [],
   "source": [
    "subs.list_subscriptions(name=name)"
   ]
  },
  {
   "cell_type": "code",
   "execution_count": null,
   "metadata": {
    "ExecuteTime": {
     "end_time": "2020-10-08T12:09:45.620386Z",
     "start_time": "2020-10-08T12:09:45.394273Z"
    }
   },
   "outputs": [],
   "source": [
    "new_sub.delete()"
   ]
  },
  {
   "cell_type": "code",
   "execution_count": null,
   "metadata": {
    "ExecuteTime": {
     "end_time": "2020-10-09T14:46:35.919416Z",
     "start_time": "2020-10-09T14:46:35.479546Z"
    }
   },
   "outputs": [],
   "source": [
    "subs.delete_all(name=name)"
   ]
  },
  {
   "cell_type": "markdown",
   "metadata": {
    "ExecuteTime": {
     "end_time": "2020-10-08T10:36:30.690430Z",
     "start_time": "2020-10-08T10:36:30.688164Z"
    }
   },
   "source": [
    "## Load subscription, list properties, alter name and other settings"
   ]
  },
  {
   "cell_type": "code",
   "execution_count": null,
   "metadata": {
    "ExecuteTime": {
     "end_time": "2020-10-20T19:13:25.795687Z",
     "start_time": "2020-10-20T19:13:25.103115Z"
    }
   },
   "outputs": [],
   "source": [
    "sub=Subscription(conn,'DC75870A11EB07DC03200080EF7528D7','B24EBC0E11EAFEEE5B850080EF15A7A6')"
   ]
  },
  {
   "cell_type": "code",
   "execution_count": null,
   "metadata": {
    "ExecuteTime": {
     "end_time": "2020-10-20T19:13:35.451024Z",
     "start_time": "2020-10-20T19:13:35.445826Z"
    },
    "scrolled": true
   },
   "outputs": [],
   "source": [
    "sub.list_properties()"
   ]
  },
  {
   "cell_type": "code",
   "execution_count": null,
   "metadata": {
    "ExecuteTime": {
     "end_time": "2020-10-20T19:13:29.481293Z",
     "start_time": "2020-10-20T19:13:26.129207Z"
    }
   },
   "outputs": [],
   "source": [
    "sub.alter(name='Recipient_test sub_new_name3', allow_delivery_changes = False, allow_personalization_changes = False,)"
   ]
  },
  {
   "cell_type": "code",
   "execution_count": null,
   "metadata": {
    "ExecuteTime": {
     "end_time": "2020-10-20T19:13:43.290179Z",
     "start_time": "2020-10-20T19:13:40.513565Z"
    }
   },
   "outputs": [],
   "source": [
    "sub.alter(name='Recipient_test sub_new_name2', allow_delivery_changes = True, allow_personalization_changes = True)"
   ]
  },
  {
   "cell_type": "code",
   "execution_count": null,
   "metadata": {
    "ExecuteTime": {
     "end_time": "2020-10-08T12:13:56.686630Z",
     "start_time": "2020-10-08T12:13:54.047477Z"
    }
   },
   "outputs": [],
   "source": [
    "sub.alter(schedules_ids=['FD7C7E7E4CA242FF314492A6CC696FB1','DF2CF2B611E9EF5BD8FC0080EF45EF06'])"
   ]
  },
  {
   "cell_type": "code",
   "execution_count": null,
   "metadata": {
    "ExecuteTime": {
     "end_time": "2020-10-08T12:14:28.953393Z",
     "start_time": "2020-10-08T12:14:26.260410Z"
    }
   },
   "outputs": [],
   "source": [
    "# wrong argument type\n",
    "sub.alter(allow_delivery_changes = False)"
   ]
  },
  {
   "cell_type": "markdown",
   "metadata": {
    "ExecuteTime": {
     "end_time": "2020-10-08T10:37:44.255998Z",
     "start_time": "2020-10-08T10:37:44.253878Z"
    }
   },
   "source": [
    "## Check shedules and add new one"
   ]
  },
  {
   "cell_type": "code",
   "execution_count": null,
   "metadata": {
    "ExecuteTime": {
     "end_time": "2020-10-08T12:22:10.155093Z",
     "start_time": "2020-10-08T12:22:10.150872Z"
    }
   },
   "outputs": [],
   "source": [
    "sub.triggers"
   ]
  },
  {
   "cell_type": "code",
   "execution_count": null,
   "metadata": {
    "ExecuteTime": {
     "end_time": "2020-10-20T12:21:21.262682Z",
     "start_time": "2020-10-20T12:21:20.859531Z"
    }
   },
   "outputs": [],
   "source": [
    "sch_manager= ScheduleManager(conn)\n",
    "sch_manager.list_schedules()"
   ]
  },
  {
   "cell_type": "code",
   "execution_count": null,
   "metadata": {
    "ExecuteTime": {
     "end_time": "2020-10-08T12:22:45.143907Z",
     "start_time": "2020-10-08T12:22:42.633568Z"
    }
   },
   "outputs": [],
   "source": [
    "sub.alter(schedules_ids=['DF2CF2B611E9EF5BD8FC0080EF45EF06','987DF6464625F087CCC67FA9DB53097D','221FB48C11E94A5779350080EFD51987'])"
   ]
  },
  {
   "cell_type": "code",
   "execution_count": null,
   "metadata": {
    "ExecuteTime": {
     "end_time": "2020-10-08T12:22:45.985214Z",
     "start_time": "2020-10-08T12:22:45.980386Z"
    }
   },
   "outputs": [],
   "source": [
    "sub.triggers"
   ]
  },
  {
   "cell_type": "markdown",
   "metadata": {
    "ExecuteTime": {
     "end_time": "2020-10-08T11:00:51.681508Z",
     "start_time": "2020-10-08T11:00:51.679345Z"
    }
   },
   "source": [
    "## Check available recipients, add and remove recipients"
   ]
  },
  {
   "cell_type": "code",
   "execution_count": null,
   "metadata": {
    "ExecuteTime": {
     "end_time": "2020-10-20T11:03:11.117248Z",
     "start_time": "2020-10-20T11:03:10.908267Z"
    }
   },
   "outputs": [],
   "source": [
    "sub=Subscription(conn,'DC75870A11EB07DC03200080EF7528D7','B24EBC0E11EAFEEE5B850080EF15A7A6')\n",
    "sub.recipients"
   ]
  },
  {
   "cell_type": "code",
   "execution_count": null,
   "metadata": {
    "ExecuteTime": {
     "end_time": "2020-10-20T10:47:44.717071Z",
     "start_time": "2020-10-20T10:47:44.427860Z"
    }
   },
   "outputs": [],
   "source": [
    "sub.available_recipients()"
   ]
  },
  {
   "cell_type": "code",
   "execution_count": null,
   "metadata": {
    "ExecuteTime": {
     "end_time": "2020-10-20T11:03:15.006219Z",
     "start_time": "2020-10-20T11:03:14.542110Z"
    }
   },
   "outputs": [],
   "source": [
    "sub.add_recipient(['DDD9B37F11EB07CCF3D90080EFB5A7D5','6BF7F8E94B825A4D5E5F158B6B41B75F','54F3D26011D2896560009A8E67019608'])"
   ]
  },
  {
   "cell_type": "code",
   "execution_count": null,
   "metadata": {
    "ExecuteTime": {
     "end_time": "2020-10-08T12:24:27.645966Z",
     "start_time": "2020-10-08T12:24:24.914713Z"
    }
   },
   "outputs": [],
   "source": [
    "sub.remove_recipient([{'id': '6BF7F8E94B825A4D5E5F158B6B41B75F',\n",
    "  'name': 'San Francisco Books Manager',\n",
    "  'isGroup': False,\n",
    "  'type': 'contact'},\n",
    " {'id': 'D0153F224A740B2CB716CF9AF1FF7B00',\n",
    "  'name': 'San Francisco - Category Managers',\n",
    "  'isGroup': True,\n",
    "  'type': 'contact_group'}])"
   ]
  },
  {
   "cell_type": "code",
   "execution_count": null,
   "metadata": {
    "ExecuteTime": {
     "end_time": "2020-10-08T12:24:43.905742Z",
     "start_time": "2020-10-08T12:24:41.140843Z"
    }
   },
   "outputs": [],
   "source": [
    "sub.remove_recipient('DDD9B37F11EB07CCF3D90080EFB5A7D5')"
   ]
  },
  {
   "cell_type": "code",
   "execution_count": null,
   "metadata": {
    "ExecuteTime": {
     "end_time": "2020-10-08T12:24:43.912822Z",
     "start_time": "2020-10-08T12:24:43.908406Z"
    }
   },
   "outputs": [],
   "source": [
    "sub.recipients"
   ]
  },
  {
   "cell_type": "markdown",
   "metadata": {
    "ExecuteTime": {
     "end_time": "2020-10-08T11:38:18.255234Z",
     "start_time": "2020-10-08T11:38:18.252838Z"
    }
   },
   "source": [
    "## Other, work in progress:"
   ]
  },
  {
   "cell_type": "code",
   "execution_count": null,
   "metadata": {
    "ExecuteTime": {
     "end_time": "2020-10-27T11:06:48.337838Z",
     "start_time": "2020-10-27T11:06:47.253405Z"
    }
   },
   "outputs": [],
   "source": [
    "from mstrio.connection import Connection\n",
    "from mstrio.admin.application import Application, Environment\n",
    "from mstrio.admin.subscription.subscription import Subscription, EmailSubscription\n",
    "from mstrio.admin.subscription.subscription_manager import SubscriptionManager\n",
    "from mstrio.admin.subscription.delivery import Delivery, ZipSettings\n",
    "from mstrio.admin.subscription.content import Content\n",
    "from mstrio.admin.schedule import Schedule, ScheduleManager\n",
    "\n",
    "base_url = \"https://env-228987.customer.cloud.microstrategy.com/MicroStrategyLibrary/api/\"\n",
    "username = \"mstr\"\n",
    "password = \"gPa8ZHh1t98g\"\n",
    "conn = Connection(base_url, username, password, login_mode=1)\n",
    "subs= SubscriptionManager(conn,application_name='MicroStrategy Tutorial')"
   ]
  },
  {
   "cell_type": "code",
   "execution_count": null,
   "metadata": {
    "ExecuteTime": {
     "end_time": "2020-10-06T12:05:38.620375Z",
     "start_time": "2020-10-06T12:05:33.787814Z"
    }
   },
   "outputs": [],
   "source": [
    "# List all applications\n",
    "env = Environment(conn)\n",
    "env.list_applications()"
   ]
  },
  {
   "cell_type": "code",
   "execution_count": null,
   "metadata": {
    "ExecuteTime": {
     "end_time": "2020-10-06T12:05:38.972479Z",
     "start_time": "2020-10-06T12:05:38.622467Z"
    },
    "scrolled": true
   },
   "outputs": [],
   "source": [
    "#initialize manager and list schedules\n",
    "schedule_m= ScheduleManager(conn)\n",
    "schedule_m.list_schedules()"
   ]
  },
  {
   "cell_type": "code",
   "execution_count": null,
   "metadata": {
    "ExecuteTime": {
     "end_time": "2020-10-06T14:03:17.593365Z",
     "start_time": "2020-10-06T14:03:14.297395Z"
    }
   },
   "outputs": [],
   "source": [
    "# Initialize manager and list subscriptions\n",
    "project_id_platform='B24EBC0E11EAFEEE5B850080EF15A7A6'\n",
    "project_hierarchies = \"B3FEE61A11E696C8BD0F0080EFC58F44\"\n",
    "subs=SubscriptionManager(conn,application_id='B7CA92F04B9FAE8D941C3E9B7E0CD754')\n",
    "subs.list_subscriptions()"
   ]
  },
  {
   "cell_type": "code",
   "execution_count": null,
   "metadata": {
    "ExecuteTime": {
     "end_time": "2020-10-06T14:03:19.512839Z",
     "start_time": "2020-10-06T14:03:18.361176Z"
    }
   },
   "outputs": [],
   "source": [
    "subs.list_subscriptions(name='Subscription test 2')"
   ]
  },
  {
   "cell_type": "code",
   "execution_count": null,
   "metadata": {
    "ExecuteTime": {
     "end_time": "2020-10-01T14:59:39.635152Z",
     "start_time": "2020-10-01T14:59:39.483097Z"
    }
   },
   "outputs": [],
   "source": [
    "# Delete all subscriptions named 'Subscription test 2'\n",
    "subs.delete_all(project_id, name='Subscription test 2')"
   ]
  },
  {
   "cell_type": "code",
   "execution_count": null,
   "metadata": {
    "ExecuteTime": {
     "end_time": "2020-10-06T14:11:40.107969Z",
     "start_time": "2020-10-06T14:11:39.544349Z"
    }
   },
   "outputs": [],
   "source": [
    "project_id='B24EBC0E11EAFEEE5B850080EF15A7A6'\n",
    "sub_id='0E9582454FE5A4B644937FA20138B223'\n",
    "sub1=Subscription(conn, sub_id, project_id)"
   ]
  },
  {
   "cell_type": "code",
   "execution_count": null,
   "metadata": {
    "ExecuteTime": {
     "end_time": "2020-10-06T14:11:40.315780Z",
     "start_time": "2020-10-06T14:11:40.110572Z"
    }
   },
   "outputs": [],
   "source": [
    "project2_id='B7CA92F04B9FAE8D941C3E9B7E0CD754'\n",
    "sub_id='7138EE3011EA0FD26B470080EF752E56'\n",
    "sub2=Subscription(conn, sub_id, project2_id)"
   ]
  },
  {
   "cell_type": "code",
   "execution_count": null,
   "metadata": {
    "ExecuteTime": {
     "end_time": "2020-10-06T14:11:40.322274Z",
     "start_time": "2020-10-06T14:11:40.318645Z"
    }
   },
   "outputs": [],
   "source": [
    "cont2={'id': '64819E27493166BAE554E5B571083683',\n",
    "    'name': 'Sales by Income Bracket (caching enabled)',\n",
    "    'type': 'REPORT',\n",
    "    'personalization': {'compressed': False,\n",
    "     'formatMode': 'DEFAULT',\n",
    "     'viewMode': 'DEFAULT',\n",
    "     'formatType': 'PLAIN_TEXT'}}"
   ]
  },
  {
   "cell_type": "code",
   "execution_count": null,
   "metadata": {
    "ExecuteTime": {
     "end_time": "2020-10-06T14:11:40.797482Z",
     "start_time": "2020-10-06T14:11:40.597738Z"
    }
   },
   "outputs": [],
   "source": [
    "sub2.list_available_bursting_attributes(cont2)"
   ]
  },
  {
   "cell_type": "code",
   "execution_count": null,
   "metadata": {
    "ExecuteTime": {
     "end_time": "2020-10-06T14:11:41.897365Z",
     "start_time": "2020-10-06T14:11:41.891645Z"
    }
   },
   "outputs": [],
   "source": [
    "# List properties of loaded subscription\n",
    "sub2.list_properties()"
   ]
  },
  {
   "cell_type": "code",
   "execution_count": null,
   "metadata": {
    "ExecuteTime": {
     "end_time": "2020-10-06T14:03:31.816624Z",
     "start_time": "2020-10-06T14:03:31.584363Z"
    }
   },
   "outputs": [],
   "source": [
    "sub2.list_available_recipients()"
   ]
  },
  {
   "cell_type": "code",
   "execution_count": null,
   "metadata": {
    "ExecuteTime": {
     "end_time": "2020-10-06T14:03:33.557232Z",
     "start_time": "2020-10-06T14:03:33.396946Z"
    }
   },
   "outputs": [],
   "source": [
    "rec1=ar['recipients'][2]"
   ]
  },
  {
   "cell_type": "code",
   "execution_count": null,
   "metadata": {
    "ExecuteTime": {
     "end_time": "2020-10-06T14:03:35.249352Z",
     "start_time": "2020-10-06T14:03:35.240494Z"
    }
   },
   "outputs": [],
   "source": [
    "sub1.add_recipient(rec1)"
   ]
  },
  {
   "cell_type": "code",
   "execution_count": null,
   "metadata": {
    "ExecuteTime": {
     "end_time": "2020-10-05T09:47:48.680941Z",
     "start_time": "2020-10-05T09:47:48.677502Z"
    }
   },
   "outputs": [],
   "source": [
    "sub1.recipients"
   ]
  },
  {
   "cell_type": "code",
   "execution_count": null,
   "metadata": {
    "ExecuteTime": {
     "end_time": "2020-10-06T14:04:34.944127Z",
     "start_time": "2020-10-06T14:04:31.119246Z"
    }
   },
   "outputs": [],
   "source": [
    "# Create new subscription \n",
    "project_id='B24EBC0E11EAFEEE5B850080EF15A7A6'\n",
    "schedule_id='FD7C7E7E4CA242FF314492A6CC696FB1'\n",
    "dossier_id='74517BA511E8638108510080EFB50F2D'\n",
    "content_type='dossier'\n",
    "\n",
    "\n",
    "new_sub=create_subscription(conn,\n",
    "                            name='Recipient_test_sub2',\n",
    "                            project_id=project_id,\n",
    "                            schedule_id=schedule_id,\n",
    "                            content_id=dossier_id,\n",
    "                            content_type='dossier',\n",
    "                            recipients=[pczyz_id],\n",
    "                            send_now=True)\n"
   ]
  },
  {
   "cell_type": "code",
   "execution_count": null,
   "metadata": {
    "ExecuteTime": {
     "end_time": "2020-10-06T14:05:39.747802Z",
     "start_time": "2020-10-06T14:05:39.734821Z"
    }
   },
   "outputs": [],
   "source": [
    "new_sub.alter(schedules_ids=['FD7C7E7E4CA242FF314492A6CC696FB1','206168FC11E94A5779350080EF057783'])"
   ]
  },
  {
   "cell_type": "code",
   "execution_count": null,
   "metadata": {
    "ExecuteTime": {
     "end_time": "2020-11-03T15:39:11.483299Z",
     "start_time": "2020-11-03T15:39:11.142593Z"
    }
   },
   "outputs": [],
   "source": [
    "from mstrio.admin.usergroup import UserGroup, list_usergroups\n",
    "list_usergroups(conn)"
   ]
  },
  {
   "cell_type": "code",
   "execution_count": null,
   "metadata": {
    "ExecuteTime": {
     "end_time": "2020-11-03T15:39:11.614485Z",
     "start_time": "2020-11-03T15:39:11.558312Z"
    }
   },
   "outputs": [],
   "source": [
    "from mstrio.admin.user import User, list_users\n",
    "user_list=list_users(conn)"
   ]
  },
  {
   "cell_type": "code",
   "execution_count": null,
   "metadata": {
    "ExecuteTime": {
     "end_time": "2020-11-03T14:35:40.681370Z",
     "start_time": "2020-11-03T14:35:40.668660Z"
    }
   },
   "outputs": [],
   "source": [
    "user_list"
   ]
  },
  {
   "cell_type": "code",
   "execution_count": null,
   "metadata": {},
   "outputs": [],
   "source": []
  },
  {
   "cell_type": "code",
   "execution_count": null,
   "metadata": {
    "ExecuteTime": {
     "end_time": "2020-11-03T15:39:17.928379Z",
     "start_time": "2020-11-03T15:39:17.365084Z"
    }
   },
   "outputs": [],
   "source": [
    "usr=User.create(conn,'noprivusr','Tester', 'password')#,memberships=['5F3FAFE111D2D8CC6000CC8E67019608'])"
   ]
  },
  {
   "cell_type": "code",
   "execution_count": null,
   "metadata": {
    "ExecuteTime": {
     "end_time": "2020-11-03T15:38:42.177332Z",
     "start_time": "2020-11-03T15:38:41.803Z"
    }
   },
   "outputs": [],
   "source": [
    "usr=User(conn,'ksachmata')"
   ]
  },
  {
   "cell_type": "code",
   "execution_count": null,
   "metadata": {
    "ExecuteTime": {
     "end_time": "2020-11-03T15:39:29.553779Z",
     "start_time": "2020-11-03T15:39:29.387500Z"
    }
   },
   "outputs": [],
   "source": [
    "usr.new_address('mail','pczyz@microstrategy.com')"
   ]
  },
  {
   "cell_type": "code",
   "execution_count": null,
   "metadata": {
    "ExecuteTime": {
     "end_time": "2020-10-27T13:29:19.155131Z",
     "start_time": "2020-10-27T13:29:18.719751Z"
    }
   },
   "outputs": [],
   "source": [
    "usr.add_to_usergroups('5F3FAFE111D2D8CC6000CC8E67019608')"
   ]
  },
  {
   "cell_type": "code",
   "execution_count": null,
   "metadata": {
    "ExecuteTime": {
     "end_time": "2020-10-27T10:04:43.541636Z",
     "start_time": "2020-10-27T10:04:43.297066Z"
    }
   },
   "outputs": [],
   "source": [
    "pczyz.new_address('mail','akorwinmikke@microstrategy.com')"
   ]
  },
  {
   "cell_type": "code",
   "execution_count": null,
   "metadata": {},
   "outputs": [],
   "source": []
  }
 ],
 "metadata": {
  "kernelspec": {
   "display_name": "Python 3.8.0 64-bit",
   "language": "python",
   "name": "python38064bitbe438bcd24c44ee1b446f849b41fcf3c"
  },
  "language_info": {
   "codemirror_mode": {
    "name": "ipython",
    "version": 3
   },
   "file_extension": ".py",
   "mimetype": "text/x-python",
   "name": "python",
   "nbconvert_exporter": "python",
   "pygments_lexer": "ipython3",
   "version": "3.8.0"
  }
 },
 "nbformat": 4,
 "nbformat_minor": 4
}
