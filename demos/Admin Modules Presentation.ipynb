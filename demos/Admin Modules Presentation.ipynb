{
 "cells": [
  {
   "cell_type": "markdown",
   "metadata": {},
   "source": [
    "# Import necessary modules and login with administrator"
   ]
  },
  {
   "cell_type": "code",
   "execution_count": null,
   "metadata": {
    "ExecuteTime": {
     "end_time": "2020-08-13T08:15:02.003827Z",
     "start_time": "2020-08-13T08:14:59.989916Z"
    }
   },
   "outputs": [],
   "source": [
    "from mstrio.connection import Connection\n",
    "from mstrio.admin.user import User, create_users_from_csv, list_users\n",
    "from mstrio.admin.usergroup import UserGroup\n",
    "\n",
    "base_url = \"https://env-214578.customer.cloud.microstrategy.com/MicroStrategyLibrary/api/\"\n",
    "username = \"mstr\"\n",
    "password = \"HGBMdqmJ2Zoc\"\n",
    "\n",
    "conn = Connection(base_url, username, password, project_name=None, login_mode=1)"
   ]
  },
  {
   "cell_type": "code",
   "execution_count": null,
   "metadata": {
    "ExecuteTime": {
     "end_time": "2020-08-13T09:06:18.120439Z",
     "start_time": "2020-08-13T09:06:18.100309Z"
    }
   },
   "outputs": [],
   "source": [
    "help(User)"
   ]
  },
  {
   "cell_type": "markdown",
   "metadata": {},
   "source": [
    "# Create 3 new users: August, September, October"
   ]
  },
  {
   "cell_type": "code",
   "execution_count": null,
   "metadata": {
    "ExecuteTime": {
     "end_time": "2020-08-13T08:15:17.454391Z",
     "start_time": "2020-08-13T08:15:16.294982Z"
    },
    "scrolled": true
   },
   "outputs": [],
   "source": [
    "usr1 = User.create(conn, username='august1', fullName='August', description = 'QBR USER', enabled = False, \n",
    "                   passwordModifiable = False, standardAuth = True)\n",
    "usr2 = User.create(conn, username='september1', fullName='September', description = 'QBR USER', enabled = False, \n",
    "                   passwordModifiable = False, standardAuth = True)\n",
    "usr3 = User.create(conn, username='october1', fullName='October', description = 'QBR USER', enabled = False, \n",
    "                   passwordModifiable = False, standardAuth = True)"
   ]
  },
  {
   "cell_type": "markdown",
   "metadata": {},
   "source": [
    "# Alter user properties using simple loop"
   ]
  },
  {
   "cell_type": "code",
   "execution_count": null,
   "metadata": {
    "ExecuteTime": {
     "end_time": "2020-08-13T08:18:08.469583Z",
     "start_time": "2020-08-13T08:18:07.329981Z"
    },
    "scrolled": true
   },
   "outputs": [],
   "source": [
    "new_users = [usr1,usr2, usr3]\n",
    "for usr in new_users:\n",
    "    usr.alter(enabled=True, passwordModifiable=True, description='QBR')"
   ]
  },
  {
   "cell_type": "markdown",
   "metadata": {},
   "source": [
    "# Create a new UserGroup named QBR"
   ]
  },
  {
   "cell_type": "code",
   "execution_count": null,
   "metadata": {
    "ExecuteTime": {
     "end_time": "2020-08-13T08:25:27.477125Z",
     "start_time": "2020-08-13T08:25:26.781664Z"
    }
   },
   "outputs": [],
   "source": [
    "qbr_group = UserGroup.create(conn, name='QBR', description= 'QBR Group')"
   ]
  },
  {
   "cell_type": "markdown",
   "metadata": {},
   "source": [
    "# Add our new users to the UserGroup members"
   ]
  },
  {
   "cell_type": "code",
   "execution_count": null,
   "metadata": {
    "ExecuteTime": {
     "end_time": "2020-08-13T08:25:47.996739Z",
     "start_time": "2020-08-13T08:25:47.701131Z"
    }
   },
   "outputs": [],
   "source": [
    "qbr_group.add_members(new_users)"
   ]
  },
  {
   "cell_type": "code",
   "execution_count": null,
   "metadata": {
    "ExecuteTime": {
     "end_time": "2020-08-13T08:25:59.334429Z",
     "start_time": "2020-08-13T08:25:59.327921Z"
    }
   },
   "outputs": [],
   "source": [
    "qbr_group.members"
   ]
  },
  {
   "cell_type": "markdown",
   "metadata": {},
   "source": [
    "# Restore environment to initial state"
   ]
  },
  {
   "cell_type": "code",
   "execution_count": null,
   "metadata": {
    "ExecuteTime": {
     "end_time": "2020-08-13T08:14:39.390999Z",
     "start_time": "2020-08-13T08:14:39.197282Z"
    }
   },
   "outputs": [],
   "source": [
    "new_users = list_users(conn, name=['October', 'September', 'August'])\n",
    "for usr in new_users:\n",
    "    usr.delete(force=True)"
   ]
  },
  {
   "cell_type": "code",
   "execution_count": null,
   "metadata": {
    "ExecuteTime": {
     "end_time": "2020-08-13T08:14:43.548484Z",
     "start_time": "2020-08-13T08:14:42.877209Z"
    }
   },
   "outputs": [],
   "source": [
    "qbr_group = UserGroup(conn, name='QBR')\n",
    "qbr_group.delete(force=True)"
   ]
  }
 ],
 "metadata": {
  "kernelspec": {
   "display_name": "Python 3.8.2 64-bit ('new': venv)",
   "language": "python",
   "name": "python38264bitnewvenv3353ba42849846b8a1e162cc02cbcfc9"
  },
  "language_info": {
   "codemirror_mode": {
    "name": "ipython",
    "version": 3
   },
   "file_extension": ".py",
   "mimetype": "text/x-python",
   "name": "python",
   "nbconvert_exporter": "python",
   "pygments_lexer": "ipython3",
   "version": "3.8.2"
  }
 },
 "nbformat": 4,
 "nbformat_minor": 4
}
