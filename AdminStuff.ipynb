{
 "cells": [
  {
   "cell_type": "code",
   "execution_count": 7,
   "metadata": {},
   "outputs": [
    {
     "name": "stdout",
     "output_type": "stream",
     "text": [
      "Connection to MicroStrategy Intelligence Server has been established.\n"
     ]
    }
   ],
   "source": [
    "from mstrio.connection import Connection\n",
    "from mstrio.cube import Cube\n",
    "from mstrio.report import Report\n",
    "\n",
    "mstr_username = 'mstr'\n",
    "mstr_password = 'HGBMdqmJ2Zoc'\n",
    "base_url = 'https://env-214578.customer.cloud.microstrategy.com/MicroStrategyLibrary'\n",
    "login_mode = 1\n",
    "project_id = '9AF7032311EA9F4EF48D0080EFD59569'\n",
    "\n",
    "conn = Connection(base_url, mstr_username, mstr_password, project_id=project_id, login_mode=login_mode)\n",
    "# conn.connect()"
   ]
  },
  {
   "cell_type": "code",
   "execution_count": 8,
   "metadata": {
    "scrolled": false
   },
   "outputs": [],
   "source": [
    "from mstrio.api.projects import get_projects, get_engine_settings, get_user_import_quota, get_project_import_quota"
   ]
  },
  {
   "cell_type": "code",
   "execution_count": 6,
   "metadata": {
    "collapsed": true
   },
   "outputs": [
    {
     "data": {
      "text/plain": [
       "[{'acg': 255,\n",
       "  'id': 'B7CA92F04B9FAE8D941C3E9B7E0CD754',\n",
       "  'name': 'MicroStrategy Tutorial',\n",
       "  'status': 0,\n",
       "  'alias': '',\n",
       "  'description': \"MicroStrategy Tutorial project and application set designed to illustrate the platform's rich functionality. The theme is an Electronics, Books, Movies and Music store. Employees, Inventory, Finance, Product Sales and Suppliers are analyzed.\",\n",
       "  'dateCreated': '2015-06-30T21:55:35.000+0000',\n",
       "  'dateModified': '2020-03-23T08:02:21.000+0000',\n",
       "  'owner': {'name': 'Administrator',\n",
       "   'id': '54F3D26011D2896560009A8E67019608'}},\n",
       " {'acg': 255,\n",
       "  'id': 'CE52831411E696C8BD2F0080EFD5AF44',\n",
       "  'name': 'Consolidated Education Project',\n",
       "  'status': 0,\n",
       "  'alias': '',\n",
       "  'description': '',\n",
       "  'dateCreated': '2016-11-20T16:39:48.000+0000',\n",
       "  'dateModified': '2020-03-23T08:00:56.000+0000',\n",
       "  'owner': {'name': 'Administrator',\n",
       "   'id': '54F3D26011D2896560009A8E67019608'}},\n",
       " {'acg': 255,\n",
       "  'id': 'B3FEE61A11E696C8BD0F0080EFC58F44',\n",
       "  'name': 'Hierarchies Project',\n",
       "  'status': 0,\n",
       "  'alias': '',\n",
       "  'description': '',\n",
       "  'dateCreated': '2016-11-20T16:43:45.000+0000',\n",
       "  'dateModified': '2020-03-23T08:01:24.000+0000',\n",
       "  'owner': {'name': 'Administrator',\n",
       "   'id': '54F3D26011D2896560009A8E67019608'}},\n",
       " {'acg': 255,\n",
       "  'id': '4BAE16A340B995CAD24193AA3AC15D29',\n",
       "  'name': 'Human Resources Analysis Module',\n",
       "  'status': 0,\n",
       "  'alias': '',\n",
       "  'description': 'The Human Resources Analysis Module analyses workforce headcount, trends and profiles, employee attrition and recruitment, compensation and benefit costs and employee qualifications, performance and satisfaction.',\n",
       "  'dateCreated': '2016-11-20T16:46:11.000+0000',\n",
       "  'dateModified': '2020-03-23T08:01:51.000+0000',\n",
       "  'owner': {'name': 'Administrator',\n",
       "   'id': '54F3D26011D2896560009A8E67019608'}},\n",
       " {'acg': 255,\n",
       "  'id': '4C09350211E69712BAEE0080EFB56D41',\n",
       "  'name': 'Relationships Project',\n",
       "  'status': 0,\n",
       "  'alias': '',\n",
       "  'description': '',\n",
       "  'dateCreated': '2016-11-20T16:49:27.000+0000',\n",
       "  'dateModified': '2020-03-23T08:03:17.000+0000',\n",
       "  'owner': {'name': 'Administrator',\n",
       "   'id': '54F3D26011D2896560009A8E67019608'}},\n",
       " {'acg': 255,\n",
       "  'id': 'D500E18611EA030ABDD60080EF55C4CC',\n",
       "  'name': 'Platform Analytics',\n",
       "  'status': 0,\n",
       "  'alias': '',\n",
       "  'description': 'Platform Analytics (MicroStrategy 2020)',\n",
       "  'platformAnalytics': True,\n",
       "  'dateCreated': '2019-11-09T16:06:05.000+0000',\n",
       "  'dateModified': '2020-03-23T08:07:08.000+0000',\n",
       "  'owner': {'name': 'Administrator',\n",
       "   'id': '54F3D26011D2896560009A8E67019608'}},\n",
       " {'acg': 255,\n",
       "  'id': 'CA9B2FEA11EA9E770A5B0080EFB52E27',\n",
       "  'name': 'Project1',\n",
       "  'status': 0,\n",
       "  'alias': '',\n",
       "  'description': 'Another Project',\n",
       "  'dateCreated': '2020-05-25T11:06:33.000+0000',\n",
       "  'dateModified': '2020-05-25T11:06:43.000+0000',\n",
       "  'owner': {'name': 'MSTR User', 'id': '7FC05A65473CE2FD845CE6A1D3F13233'}},\n",
       " {'acg': 255,\n",
       "  'id': '1537259811EA9E7A0A5B0080EF15ED24',\n",
       "  'name': 'Project3',\n",
       "  'status': 0,\n",
       "  'alias': '',\n",
       "  'description': 'Another Project',\n",
       "  'dateCreated': '2020-05-25T11:22:57.000+0000',\n",
       "  'dateModified': '2020-05-25T11:23:06.000+0000',\n",
       "  'owner': {'name': 'MSTR User', 'id': '7FC05A65473CE2FD845CE6A1D3F13233'}},\n",
       " {'acg': 255,\n",
       "  'id': '57CC6F0811EA9E930A5B0080EFD56E25',\n",
       "  'name': 'Project_Lady',\n",
       "  'status': 0,\n",
       "  'alias': '',\n",
       "  'description': 'First project',\n",
       "  'dateCreated': '2020-05-25T14:23:46.000+0000',\n",
       "  'dateModified': '2020-05-26T09:12:20.000+0000',\n",
       "  'owner': {'name': 'MSTR User', 'id': '7FC05A65473CE2FD845CE6A1D3F13233'}},\n",
       " {'acg': 255,\n",
       "  'id': '9AF7032311EA9F4EF48D0080EFD59569',\n",
       "  'name': 'To_be_deleted',\n",
       "  'status': 0,\n",
       "  'alias': '',\n",
       "  'description': 'For testing purposes.',\n",
       "  'dateCreated': '2020-05-26T12:44:14.000+0000',\n",
       "  'dateModified': '2020-05-26T12:44:24.000+0000',\n",
       "  'owner': {'name': 'MSTR User', 'id': '7FC05A65473CE2FD845CE6A1D3F13233'}},\n",
       " {'acg': 255,\n",
       "  'id': 'F793DEAC11EA9F4EF48D0080EF151569',\n",
       "  'name': 'To_be_deleted2',\n",
       "  'status': 0,\n",
       "  'alias': '',\n",
       "  'description': 'For testing purposes.',\n",
       "  'dateCreated': '2020-05-26T12:46:50.000+0000',\n",
       "  'dateModified': '2020-05-26T12:46:59.000+0000',\n",
       "  'owner': {'name': 'MSTR User', 'id': '7FC05A65473CE2FD845CE6A1D3F13233'}}]"
      ]
     },
     "execution_count": 6,
     "metadata": {},
     "output_type": "execute_result"
    }
   ],
   "source": [
    "res_get_projects = get_projects(conn)\n",
    "res_get_projects.json()\n",
    "# array of objects with projects details"
   ]
  },
  {
   "cell_type": "code",
   "execution_count": 9,
   "metadata": {},
   "outputs": [
    {
     "data": {
      "text/plain": [
       "{'engine': {'versions': [{'value': '12',\n",
       "    'description': '2020',\n",
       "    'selected': True}],\n",
       "  'versionProperties': [{'id': 8,\n",
       "    'name': 'AEVersion',\n",
       "    'value': '12',\n",
       "    'description': '2020'},\n",
       "   {'id': 9,\n",
       "    'name': 'AEVersionLastEffective',\n",
       "    'value': '12',\n",
       "    'description': '2020'},\n",
       "   {'id': 10,\n",
       "    'name': 'AEVersionTarget',\n",
       "    'value': '12',\n",
       "    'description': '2020'}]}}"
      ]
     },
     "execution_count": 9,
     "metadata": {},
     "output_type": "execute_result"
    }
   ],
   "source": [
    "res_get_engine_settings = get_engine_settings(conn, project_id)\n",
    "res_get_engine_settings.json()"
   ]
  },
  {
   "cell_type": "code",
   "execution_count": 10,
   "metadata": {},
   "outputs": [
    {
     "data": {
      "text/plain": [
       "[]"
      ]
     },
     "execution_count": 10,
     "metadata": {},
     "output_type": "execute_result"
    }
   ],
   "source": [
    "res_get_user_import_quota = get_user_import_quota(conn, project_id)\n",
    "res_get_user_import_quota.json()"
   ]
  },
  {
   "cell_type": "code",
   "execution_count": 11,
   "metadata": {},
   "outputs": [
    {
     "data": {
      "text/plain": [
       "[]"
      ]
     },
     "execution_count": 11,
     "metadata": {},
     "output_type": "execute_result"
    }
   ],
   "source": [
    "res_get_user_import_quota = get_user_import_quota(conn, project_id, user_id='54F3D26011D2896560009A8E67019608')\n",
    "res_get_user_import_quota.json()"
   ]
  },
  {
   "cell_type": "code",
   "execution_count": 12,
   "metadata": {},
   "outputs": [
    {
     "data": {
      "text/plain": [
       "{'size': 104857600}"
      ]
     },
     "execution_count": 12,
     "metadata": {},
     "output_type": "execute_result"
    }
   ],
   "source": [
    "res_get_project_import_quota = get_project_import_quota(conn, project_id)\n",
    "res_get_project_import_quota.json()"
   ]
  },
  {
   "cell_type": "markdown",
   "metadata": {},
   "source": [
    "## Testing settings"
   ]
  },
  {
   "cell_type": "code",
   "execution_count": 13,
   "metadata": {
    "scrolled": true
   },
   "outputs": [
    {
     "data": {
      "text/plain": [
       "{'cacheEncryptionLevel': {'value': 0},\n",
       " 'maxEmailSubscriptionCount': {'value': -1},\n",
       " 'maxDataUploadSize': {'value': 31457280},\n",
       " 'fileCompressionLevel': {'value': 6},\n",
       " 'maxReportExecutionTime': {'value': 600},\n",
       " 'maxJobPerUserAccount': {'value': 100},\n",
       " 'enableEmailCompression': {'value': True},\n",
       " 'emailCompressionExtension': {'value': 'zip'},\n",
       " 'maxPersonalViewSubscriptionPerUser': {'value': -1},\n",
       " 'createUpdateCaches': {'value': True},\n",
       " 'maxInteractiveProjectSessionPerUser': {'value': 20},\n",
       " 'maxMstrFileSize': {'value': 104857600},\n",
       " 'maxDatamartResultRowCount': {'value': 32000},\n",
       " 'maxFTPSubscriptionCount': {'value': -1},\n",
       " 'enableURLFileUploadViaHttpHttps': {'value': False},\n",
       " 'elementCachePerPassThroughLogin': {'value': True},\n",
       " 'enableCreateCachesPerDatabaseConnection': {'value': False},\n",
       " 'statisticsPurgeTimeout': {'value': 10},\n",
       " 'enableURLFileUploadViaFtpFtps': {'value': False},\n",
       " 'maxReportResultRowCount': {'value': 32000},\n",
       " 'resultAllElementRowCount': {'value': -1},\n",
       " 'maxCubeCount': {'value': 1000},\n",
       " 'reRunEmailFilePrintSubscription': {'value': False},\n",
       " 'enableDocumentOutputCachingInPdf': {'value': True},\n",
       " 'maxMemoryPerDataFetch': {'value': 2147483648},\n",
       " 'maxElementCacheMemoryConsumption': {'value': 536870912},\n",
       " 'maxObjectCacheMemoryConsumption': {'value': 1073741824},\n",
       " 'maxRAMForReportRWDCacheIndex': {'value': 100},\n",
       " 'cubeStorageLocation': {'value': ''},\n",
       " 'deliveryErrorHandlingNoDataReturned': {'value': False},\n",
       " 'maxPromptWaitingTime': {'value': 600},\n",
       " 'cubeIndexGrowthUpperBound': {'value': 500},\n",
       " 'enableReportServerCaching': {'value': True},\n",
       " 'historyListSaveReportServicesDocumentDatasetMsg': {'value': True},\n",
       " 'maxHistoryListMsgCountPerProject': {'value': -1},\n",
       " 'enableFTPCompression': {'value': True},\n",
       " 'applyAutoExpirationForReportsContainDynamicDate': {'value': True},\n",
       " 'enableCreateCachesPerUser': {'value': False},\n",
       " 'maxRWDCacheMemoryConsumption': {'value': 4294967296},\n",
       " 'finalDocumentDossierResultRowNumber': {'value': 50000000},\n",
       " 'cubeIndexGrowthCheckFrequency': {'value': 30},\n",
       " 'maxFileSubscriptionCount': {'value': -1},\n",
       " 'deliveryErrorHandlingNotifyNoDataReturned': {'value': False},\n",
       " 'projectReportFileCachePath': {'value': '.\\\\Caches\\\\cloud_10s'},\n",
       " 'enableURLFileUpload': {'value': False},\n",
       " 'enableCachingForPromptedReportDocument': {'value': True},\n",
       " 'reportCacheLoadOnStart': {'value': True},\n",
       " 'maxJobPerProject': {'value': 1000},\n",
       " 'elementCachePerConnectionMap': {'value': True},\n",
       " 'enableDocumentOutputCachingInXml': {'value': True},\n",
       " 'applyElementCacheUsesSecurityFilters': {'value': True},\n",
       " 'ftpCompressionExtension': {'value': 'zip'},\n",
       " 'maxRWDCacheCount': {'value': 100000},\n",
       " 'webServerHistoryListLocation': {'value': ''},\n",
       " 'maxReportCacheMemoryConsumption': {'value': 268435456},\n",
       " 'loadCubeIntoServerMemoryUponPublication': {'value': True},\n",
       " 'maxNodesForVisualizations': {'value': 1000000},\n",
       " 'maxHistoryListSubscriptionCount': {'value': -1},\n",
       " 'maxCubeQuota': {'value': 104857600},\n",
       " 'maxExecutingJobsPerUser': {'value': -1},\n",
       " 'maxJobPerUserConnection': {'value': 100},\n",
       " 'maxCacheUpdateSubscriptionCount': {'value': -1},\n",
       " 'maxPrintSubscriptionCount': {'value': -1},\n",
       " 'reportCacheLifeTime': {'value': 24},\n",
       " 'enableDistributionServicePrintRange': {'value': True},\n",
       " 'enableDistributionServiceEmailFooter': {'value': False},\n",
       " 'maxInternalResultRowCount': {'value': 32000},\n",
       " 'distributionServiceEmailFooter': {'value': ''},\n",
       " 'enableDocumentOutputCachingInHtml': {'value': True},\n",
       " 'intermediateDocumentDossierResultRowNumber': {'value': 50000000},\n",
       " 'historyListSaveExportResultForInteractiveExecution': {'value': False},\n",
       " 'collectStatistics': {'value': False},\n",
       " 'enableStatisticsMobileClientLocation': {'value': False},\n",
       " 'maxUserConnectionPerProject': {'value': 500},\n",
       " 'maxInteractiveJobPerProject': {'value': 600},\n",
       " 'keepDocumentAvailableForManipulationForHistoryListSubscriptionOnly': {'value': True},\n",
       " 'reportCacheSwapFactor': {'value': 2},\n",
       " 'maxCubeSizeForDownload': {'value': 104857600},\n",
       " 'loadCubesOnStartup': {'value': True},\n",
       " 'reRunHistoryListSubscription': {'value': False},\n",
       " 'enableCreateCachesPerDatabaseLogin': {'value': False},\n",
       " 'createCubePerDBConnection': {'value': False},\n",
       " 'emailCompressionLevel': {'value': 6},\n",
       " 'maxCubeMemUsage': {'value': 268435456},\n",
       " 'enableMobilePushUpdate': {'value': True},\n",
       " 'maxReportCacheCount': {'value': 10000},\n",
       " 'maxCubeResultRowCount': {'value': 32000},\n",
       " 'maxSqlGenerationMemoryConsumption': {'value': 2097152000},\n",
       " 'maxMobileSubscriptionCount': {'value': -1},\n",
       " 'recordPromptAnswersForCacheMonitoring': {'value': True},\n",
       " 'deliveryErrorHandlingNotifyPartialResults': {'value': False},\n",
       " 'enableFileCompression': {'value': True},\n",
       " 'deliveryErrorHandlingPartialResults': {'value': False},\n",
       " 'enableXmlCachingForReport': {'value': True},\n",
       " 'maxWarehouseJobExecTime': {'value': 3600},\n",
       " 'enablePersonalizedDrillPath': {'value': False},\n",
       " 'ftpCompressionLevel': {'value': 6},\n",
       " 'maxScheduledReportExecutionTime': {'value': 600},\n",
       " 'enableDocumentOutputCachingInExcel': {'value': True},\n",
       " 'enableCachingForNonPromptedReportDocument': {'value': True},\n",
       " 'enableURLFileUploadViaFile': {'value': False},\n",
       " 'fileCompressionExtension': {'value': 'zip'}}"
      ]
     },
     "execution_count": 13,
     "metadata": {},
     "output_type": "execute_result"
    }
   ],
   "source": [
    "from mstrio.api.projects import get_project_settings\n",
    "\n",
    "get_project_settings(conn, project_id).json()"
   ]
  },
  {
   "cell_type": "code",
   "execution_count": null,
   "metadata": {},
   "outputs": [],
   "source": []
  },
  {
   "cell_type": "code",
   "execution_count": null,
   "metadata": {},
   "outputs": [],
   "source": []
  }
 ],
 "metadata": {
  "kernelspec": {
   "display_name": "Python 3",
   "language": "python",
   "name": "python3"
  },
  "language_info": {
   "codemirror_mode": {
    "name": "ipython",
    "version": 3
   },
   "file_extension": ".py",
   "mimetype": "text/x-python",
   "name": "python",
   "nbconvert_exporter": "python",
   "pygments_lexer": "ipython3",
   "version": "3.7.4"
  }
 },
 "nbformat": 4,
 "nbformat_minor": 2
}
