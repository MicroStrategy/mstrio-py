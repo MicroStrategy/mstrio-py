{
 "cells": [
  {
   "cell_type": "code",
   "execution_count": null,
   "metadata": {},
   "outputs": [],
   "source": [
    "import pandas as pd\n",
    "from mstrio.connection import Connection\n",
    "from mstrio.users_and_groups.user_group import UserGroup\n",
    "from mstrio.users_and_groups.user import User\n",
    "\n",
    "#### Parameters ####\n",
    "login,password = 'administrator',''\n",
    "base_url = 'Insert Env URL'"
   ]
  },
  {
   "cell_type": "code",
   "execution_count": null,
   "metadata": {},
   "outputs": [],
   "source": [
    "conn = Connection(base_url,login,password)"
   ]
  },
  {
   "cell_type": "code",
   "execution_count": null,
   "metadata": {},
   "outputs": [],
   "source": [
    "#Get list of Enabled Users\n",
    "user_list=UserGroup(connection=conn, id='C82C6B1011D2894CC0009D9F29718E4F').list_members()\n",
    "enabled_users=[u[\"id\"] for u in user_list if u[\"enabled\"]]\n",
    "print(enabled_users)"
   ]
  },
  {
   "cell_type": "code",
   "execution_count": null,
   "metadata": {},
   "outputs": [],
   "source": [
    "df = pd.DataFrame(user_list)\n",
    "df.head(5)"
   ]
  },
  {
   "cell_type": "markdown",
   "metadata": {},
   "source": [
    "## Disable Inactive Users"
   ]
  },
  {
   "cell_type": "code",
   "execution_count": null,
   "metadata": {},
   "outputs": [],
   "source": [
    "inactive_users=[\"Insert User IDs\"]"
   ]
  },
  {
   "cell_type": "code",
   "execution_count": null,
   "metadata": {},
   "outputs": [],
   "source": [
    "#Disable users from inactive user list\n",
    "for uid in inactive_users:\n",
    "    if uid in enabled_users:\n",
    "        usr = User(connection=conn, id=uid)\n",
    "        usr.alter(enabled=False)\n",
    "        print(f\"User {uid} disabled\")"
   ]
  }
 ],
 "metadata": {
  "kernelspec": {
   "display_name": "Python 3.9.5 64-bit",
   "name": "python395jvsc74a57bd0aee8b7b246df8f9039afb4144a1f6fd8d2ca17a180786b69acc140d282b71a49"
  },
  "language_info": {
   "name": "python",
   "version": ""
  },
  "metadata": {
   "interpreter": {
    "hash": "aee8b7b246df8f9039afb4144a1f6fd8d2ca17a180786b69acc140d282b71a49"
   }
  }
 },
 "nbformat": 4,
 "nbformat_minor": 4
}