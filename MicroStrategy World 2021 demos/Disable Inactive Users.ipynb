{
 "cells": [
  {
   "cell_type": "code",
   "execution_count": null,
   "metadata": {},
   "outputs": [],
   "source": [
    "import pandas as pd\n",
    "import csv\n",
    "from mstrio.connection import Connection\n",
    "from mstrio.admin.usergroup import UserGroup, list_usergroups\n",
    "from mstrio.admin.user import User, list_users\n",
    "\n",
    "#### Parameters ####\n",
    "login,password = 'administrator',''\n",
    "base_url = 'Insert Env URL'"
   ]
  },
  {
   "cell_type": "code",
   "execution_count": null,
   "metadata": {},
   "outputs": [],
   "source": [
    "conn = Connection(base_url,login,password)"
   ]
  },
  {
   "cell_type": "code",
   "execution_count": null,
   "metadata": {},
   "outputs": [],
   "source": [
    "#Get list of Enabled Users\n",
    "user_list=UserGroup(connection=conn, id='C82C6B1011D2894CC0009D9F29718E4F').list_members()\n",
    "enabled_users=[u[\"id\"] for u in user_list if u[\"enabled\"]]\n",
    "print(enabled_users)"
   ]
  },
  {
   "cell_type": "code",
   "execution_count": null,
   "metadata": {},
   "outputs": [],
   "source": [
    "df = pd.DataFrame(user_list)\n",
    "df.head(5)"
   ]
  },
  {
   "cell_type": "markdown",
   "metadata": {},
   "source": [
    "## Disable Inactive Users"
   ]
  },
  {
   "cell_type": "code",
   "execution_count": null,
   "metadata": {},
   "outputs": [],
   "source": [
    "inactive_users=[\"Insert User IDs\"]"
   ]
  },
  {
   "cell_type": "code",
   "execution_count": null,
   "metadata": {},
   "outputs": [],
   "source": [
    "#Disable users from inactive user list\n",
    "for uid in inactive_users:\n",
    "    if uid in enabled_users:\n",
    "        usr = User(connection=conn, id=uid)\n",
    "        usr.alter(enabled=False)\n",
    "        print(f\"User {uid} disabled\")"
   ]
  }
 ],
 "metadata": {
  "kernelspec": {
   "display_name": "Python 3",
   "language": "python",
   "name": "python3"
  },
  "language_info": {
   "codemirror_mode": {
    "name": "ipython",
    "version": 3
   },
   "file_extension": ".py",
   "mimetype": "text/x-python",
   "name": "python",
   "nbconvert_exporter": "python",
   "pygments_lexer": "ipython3",
   "version": "3.9.0"
  }
 },
 "nbformat": 4,
 "nbformat_minor": 4
}