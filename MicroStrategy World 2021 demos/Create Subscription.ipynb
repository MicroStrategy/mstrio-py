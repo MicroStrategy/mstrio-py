{
 "cells": [
  {
   "cell_type": "code",
   "execution_count": null,
   "metadata": {},
   "outputs": [],
   "source": [
    "from mstrio.connection import Connection\n",
    "from mstrio.users_and_groups.user_group import UserGroup\n",
    "from mstrio.distribution_services import SubscriptionManager\n",
    "\n",
    "#### Parameters ####\n",
    "login,password = 'administrator',''\n",
    "base_url = 'Insert Env URL'"
   ]
  },
  {
   "cell_type": "code",
   "execution_count": null,
   "metadata": {},
   "outputs": [],
   "source": [
    "conn = Connection(base_url,login,password)"
   ]
  },
  {
   "cell_type": "markdown",
   "metadata": {},
   "source": [
    "## Getting IDs of Enabled Users"
   ]
  },
  {
   "cell_type": "code",
   "execution_count": null,
   "metadata": {},
   "outputs": [],
   "source": [
    "user_list=UserGroup(connection=conn, id='UserGroup ID').list_members()\n",
    "enabled_users=[u[\"id\"] for u in user_list if u[\"enabled\"]]\n",
    "print(enabled_users)"
   ]
  },
  {
   "cell_type": "code",
   "execution_count": null,
   "metadata": {},
   "outputs": [],
   "source": [
    "subs_mngr = SubscriptionManager(conn, project_name='MicroStrategy Tutorial')\n",
    "for sub in subs_mngr.list_subscriptions(to_dictionary=False):\n",
    "    print(sub.id, sub.owner['id'], sub.owner['name'])\n",
    "    #print(sub.__dict__)"
   ]
  },
  {
   "cell_type": "code",
   "execution_count": null,
   "metadata": {},
   "outputs": [],
   "source": [
    "for sub in subs_mngr.list_subscriptions(to_dictionary=False):\n",
    "    if sub.owner['id'] not in enabled_users:\n",
    "        print(sub.id, sub.owner['id'], sub.owner['name'])\n",
    "        sub.delete(force=True)"
   ]
  },
  {
   "cell_type": "markdown",
   "metadata": {},
   "source": [
    "### Create an orphan subscription"
   ]
  },
  {
   "cell_type": "code",
   "execution_count": null,
   "metadata": {},
   "outputs": [],
   "source": [
    "from mstrio.distribution_services import EmailSubscription, Content\n",
    "from datetime import datetime\n",
    "\n",
    "project_id = 'Insert Project ID'\n",
    "recipient_ids = [\"Insert Recipient ID\"]\n",
    "content_id = 'Insert Content ID'\n",
    "schedule_id = 'Insert Schedule ID'\n",
    "owner_id = 'Insert Owner ID'\n",
    "subscription_name = 'REST_API_'+datetime.now().strftime(\"%Y-%m-%d__%H-%M\")\n",
    "subject_txt='Email Subject'\n",
    "message_txt=\"Message Text\"\n",
    "EmailSubscription.create(connection=conn,\n",
    "                         name=subscription_name,\n",
    "                         owner_id=owner_id,\n",
    "                         project_id=project_id,\n",
    "                         send_now = True,\n",
    "                         contents=[Content(id=content_id, type='report', name='Report 1',\n",
    "                                           personalization=Content.Properties(format_type='EXCEL'))],\n",
    "                         schedules_ids=[schedule_id],\n",
    "                         recipients=recipient_ids,\n",
    "                         email_subject=subject_txt,\n",
    "                         email_message=message_txt,\n",
    "                         email_send_content_as=\"data\")"
   ]
  },
  {
   "cell_type": "code",
   "execution_count": null,
   "metadata": {},
   "outputs": [],
   "source": [
    "for sub in subs_mngr.list_subscriptions(to_dictionary=False, owner={'id':'Insert Owner ID'}):\n",
    "    print(sub.id, sub.owner['id'], sub.owner['name'])"
   ]
  }
 ],
 "metadata": {
  "kernelspec": {
   "display_name": "Python 3.9.5 64-bit",
   "name": "python395jvsc74a57bd0aee8b7b246df8f9039afb4144a1f6fd8d2ca17a180786b69acc140d282b71a49"
  },
  "language_info": {
   "name": "python",
   "version": ""
  },
  "metadata": {
   "interpreter": {
    "hash": "aee8b7b246df8f9039afb4144a1f6fd8d2ca17a180786b69acc140d282b71a49"
   }
  }
 },
 "nbformat": 4,
 "nbformat_minor": 4
}