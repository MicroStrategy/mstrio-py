{
 "cells": [
  {
   "cell_type": "markdown",
   "metadata": {},
   "source": [
    "# Narowcast Server service migration to Distribution Services"
   ]
  },
  {
   "cell_type": "markdown",
   "metadata": {},
   "source": [
    "## 1. Getting data from NC"
   ]
  },
  {
   "cell_type": "markdown",
   "metadata": {},
   "source": [
    "### 1.1 List of NC Services"
   ]
  },
  {
   "cell_type": "code",
   "execution_count": null,
   "metadata": {},
   "outputs": [],
   "source": [
    "# Run this SQL code against Narrowcast Server database\n",
    "\"\"\"\n",
    "select \n",
    "names1.MR_OBJECT_ID AS serviceID, \n",
    "names1.MR_OBJECT_NAME AS service_name, \n",
    "parent1.MR_OBJECT_NAME AS foldername, \n",
    "names2.MR_OBJECT_NAME AS publication_name, \n",
    "names3.MR_OBJECT_NAME AS document_name, \n",
    "info3.MR_OBJECT_SUBTYPE AS doc_type, \n",
    "names4.MR_OBJECT_ID AS info_obj_id,\n",
    "names4.MR_OBJECT_NAME AS info_obj_name, \n",
    "info4.MR_OBJECT_SUBTYPE AS info_obj_subtype   \n",
    "from \n",
    "MSTROBJNAMES names1, \n",
    "MSTROBJINFO info1, \n",
    "MSTROBJNAMES parent1, \n",
    "MSTROBJDEPN dpns,\n",
    "MSTROBJNames names2, \n",
    "MSTROBJDEPN dpns2,\n",
    "MSTROBJNames names3,\n",
    "MSTROBJINFO info3, \n",
    "MSTROBJDEPN dpns3,\n",
    "MSTROBJNames names4,\n",
    "MSTROBJInfo info4  \n",
    "where names1.MR_OBJECT_ID = dpns.MR_INDEP_OBJID\n",
    "and names1.MR_OBJECT_ID = info1.MR_OBJECT_ID\n",
    "and info1.MR_PARENT_ID = parent1.MR_OBJECT_ID\n",
    "and dpns.MR_DEPN_OBJID = names2.MR_OBJECT_ID\n",
    "and names2.MR_OBJECT_ID = dpns2.MR_INDEP_OBJID\n",
    "and dpns2.MR_DEPN_OBJID = names3.MR_OBJECT_ID\n",
    "and names3.MR_OBJECT_ID = dpns3.MR_INDEP_OBJID\n",
    "and names3.MR_OBJECT_ID = info3.MR_OBJECT_ID\n",
    "and dpns3.MR_DEPN_OBJID = names4.MR_OBJECT_ID\n",
    "and dpns3.MR_DEPN_OBJID = info4.MR_OBJECT_ID\n",
    "and names1.MR_Object_Type = 19\n",
    "and names2.MR_Object_Type = 16\n",
    "and names3.MR_Object_Type = 14\n",
    "and names4.MR_Object_Type = 4\n",
    "and info4.MR_OBJECT_SubType <> 1\n",
    "\"\"\""
   ]
  },
  {
   "cell_type": "markdown",
   "metadata": {},
   "source": [
    "<img src=\"Images/NC_services.png\">"
   ]
  },
  {
   "cell_type": "markdown",
   "metadata": {},
   "source": [
    "### 1.2 NC Service details"
   ]
  },
  {
   "cell_type": "code",
   "execution_count": null,
   "metadata": {},
   "outputs": [],
   "source": [
    "\"\"\"\n",
    "select  \n",
    "names1.MR_OBJECT_ID AS serviceID, --This is Service ID\n",
    "names1.MR_OBJECT_NAME AS service_name, \n",
    "names2.MR_OBJECT_NAME AS subset_name, \n",
    "a11.MR_ADD_DISPLAY AS dispname, \n",
    "a11.MR_PHYSICAL_ADD AS email, \n",
    "a13.MR_USER_NAME,\n",
    "sp.MR_INFOSOURCE_ID, \n",
    "sp.MR_QUES_OBJ_ID, \n",
    "po.mr_seq, \n",
    "sp.MR_USER_PREF,\n",
    "po.MR_PREF_OBJ\n",
    "from \n",
    "MSTROBJNames names1,\n",
    "MSTROBJINFO info1, \n",
    "MSTROBJDEPN dpns,\n",
    "MSTROBJNames names2,\n",
    "\n",
    "MSTRSUBSCRIPTIONS a12,\n",
    "MSTRADDRESSES a11,\n",
    "MSTRUSERS a13,\n",
    "MSTRSUBPREF sp,\n",
    "MSTRPREFOBJS po\n",
    "\n",
    "where names1.MR_Object_Type = 19\n",
    "and names2.MR_Object_Type = 17\n",
    "and info1.MR_STATUS =1\n",
    "\n",
    "and names1.MR_OBJECT_ID = info1.MR_OBJECT_ID\n",
    "and names1.MR_OBJECT_ID = dpns.MR_INDEP_OBJID\n",
    "and dpns.MR_DEPN_OBJID = names2.MR_OBJECT_ID\n",
    "and names2.MR_OBJECT_ID = a12.MR_SUB_SET_ID\n",
    "and a11.MR_ADDRESS_ID = a12.MR_ADDRESS_ID\n",
    "and a12.MR_SUB_GUID = sp.MR_SUB_GUID\n",
    "and sp.MR_PREF_OBJ_ID = po.MR_PREF_OBJ_ID\n",
    "and a12.MR_USER_ID = a13.MR_USER_ID\n",
    "and names1.MR_OBJECT_ID = '047886F8A7474F4A929EC6DD135F0A98' --Filter for Service ID\n",
    "\"\"\""
   ]
  },
  {
   "cell_type": "markdown",
   "metadata": {},
   "source": [
    "<img src=\"Images/service_details.png\">"
   ]
  },
  {
   "cell_type": "code",
   "execution_count": null,
   "metadata": {},
   "outputs": [],
   "source": [
    "with open('narrowcast_emails.csv', encoding=\"utf8\", newline='') as f:\n",
    "    email_list = [x.strip() for x in f]"
   ]
  },
  {
   "cell_type": "markdown",
   "metadata": {},
   "source": [
    "## Automate tasks in MicroStrategy"
   ]
  },
  {
   "cell_type": "code",
   "execution_count": null,
   "metadata": {},
   "outputs": [],
   "source": [
    "from datetime import datetime\n",
    "\n",
    "from mstrio.connection import Connection\n",
    "from mstrio.distribution_services import Content, EmailSubscription\n",
    "from mstrio.users_and_groups import list_users\n",
    "\n",
    "\n",
    "#### Parameters ####\n",
    "api_login, api_password = 'administrator', ''\n",
    "base_url = 'Insert Env URL'\n",
    "project_id = 'Insert Project ID'\n",
    "\n",
    "conn = Connection(base_url,api_login,api_password)"
   ]
  },
  {
   "cell_type": "markdown",
   "metadata": {},
   "source": [
    "### Get users' default addresses"
   ]
  },
  {
   "cell_type": "code",
   "execution_count": null,
   "metadata": {},
   "outputs": [],
   "source": [
    "users = list_users(connection=conn)\n",
    "default_addresses=[]\n",
    "\n",
    "for u in users:\n",
    "    if u.addresses:\n",
    "        user_addresses = [[u.name, u.id, uad['value']] for uad in u.addresses if uad['isDefault']==True]\n",
    "        default_addresses.extend(user_addresses)"
   ]
  },
  {
   "cell_type": "markdown",
   "metadata": {},
   "source": [
    "### Create a list of recipients"
   ]
  },
  {
   "cell_type": "code",
   "execution_count": null,
   "metadata": {},
   "outputs": [],
   "source": [
    "# From MSTR Metadata\n",
    "for d in default_addresses:\n",
    "    print(d)"
   ]
  },
  {
   "cell_type": "code",
   "execution_count": null,
   "metadata": {},
   "outputs": [],
   "source": [
    "# From Narrowcast\n",
    "for e in email_list:\n",
    "    print(e)"
   ]
  },
  {
   "cell_type": "code",
   "execution_count": null,
   "metadata": {},
   "outputs": [],
   "source": [
    "# Match Metadata with Narrowcast\n",
    "matched_emails = [d[1] for d in default_addresses if d[2] in email_list]\n",
    "for m in matched_emails:\n",
    "    print(m)"
   ]
  },
  {
   "cell_type": "markdown",
   "metadata": {},
   "source": [
    "### Create a subscription"
   ]
  },
  {
   "cell_type": "code",
   "execution_count": null,
   "metadata": {},
   "outputs": [],
   "source": [
    "# create an email subscription\n",
    "recipient_ids = matched_emails[:]\n",
    "content_id = 'Insert Content ID'\n",
    "schedule_id = 'Insert Schedule ID'\n",
    "subscription_name = 'REST_API_'+datetime.now().strftime(\"%Y-%m-%d__%H-%M\")\n",
    "subject_txt='Email Subject'\n",
    "message_txt=\"Message Text\"\n",
    "EmailSubscription.create(connection=conn,\n",
    "                         name=subscription_name, \n",
    "                         project_id=project_id,\n",
    "                         send_now = True,\n",
    "                         contents=[Content(id=content_id, type='report', name='Report 1',\n",
    "                                           personalization=Content.Properties(format_type='EXCEL'))],\n",
    "                         schedules=[schedule_id],\n",
    "                         recipients=recipient_ids,\n",
    "                         email_subject=subject_txt,\n",
    "                         email_message=message_txt,\n",
    "                         email_send_content_as=\"data\")\n"
   ]
  },
  {
   "cell_type": "code",
   "execution_count": null,
   "metadata": {},
   "outputs": [],
   "source": []
  }
 ],
 "metadata": {
  "kernelspec": {
   "display_name": "Python 3.9.5 64-bit",
   "name": "python395jvsc74a57bd0aee8b7b246df8f9039afb4144a1f6fd8d2ca17a180786b69acc140d282b71a49"
  },
  "language_info": {
   "name": "python",
   "version": ""
  },
  "metadata": {
   "interpreter": {
    "hash": "aee8b7b246df8f9039afb4144a1f6fd8d2ca17a180786b69acc140d282b71a49"
   }
  }
 },
 "nbformat": 4,
 "nbformat_minor": 4
}