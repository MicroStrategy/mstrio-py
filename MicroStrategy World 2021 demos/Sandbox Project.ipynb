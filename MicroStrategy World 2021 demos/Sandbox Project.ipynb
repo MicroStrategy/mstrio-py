{
 "cells": [
  {
   "cell_type": "code",
   "execution_count": null,
   "metadata": {},
   "outputs": [],
   "source": [
    "### Tested with MSTR 2021\n",
    "### Robert Prochowicz / 2021-01-21\n",
    "### MicroStrategy MSTRIO - fast new project creation - this script will perform the following:\n",
    "# Authenticate: log in / Log out\n",
    "# Create a new MSTR Project\n",
    "# Create a new User Group\n",
    "# Create a new User\n",
    "# Create a new Security Role\n",
    "# With the new User Group - assign new Security Role to the new Project\n",
    "# With the new User Group - give MODIFY access to Shared Reports folder\n",
    "# Remove default Security Role assignment for User Group EVERYONE\n",
    "### All the new object names (and user password) will be the same as the new Project name (user input)\n",
    "\n",
    "# Script version 1.0\n",
    "# https://community.microstrategy.com/s/article/Using-MicroStrategy-REST-API-to-quickly-create-a-sandbox-project?language=en_US"
   ]
  },
  {
   "cell_type": "code",
   "execution_count": null,
   "metadata": {
    "scrolled": true
   },
   "outputs": [],
   "source": [
    "from mstrio.access_and_security.security_role import SecurityRole\n",
    "from mstrio.connection import Connection\n",
    "from mstrio.server import Environment\n",
    "from mstrio.users_and_groups import User, UserGroup\n",
    "\n",
    "\n",
    "login, password = 'administrator', ''\n",
    "base_url = 'Insert Env URL'"
   ]
  },
  {
   "cell_type": "code",
   "execution_count": null,
   "metadata": {},
   "outputs": [],
   "source": [
    "keywrd = str(input(\"Project name : \"))"
   ]
  },
  {
   "cell_type": "markdown",
   "metadata": {},
   "source": [
    "### Connection"
   ]
  },
  {
   "cell_type": "code",
   "execution_count": null,
   "metadata": {},
   "outputs": [],
   "source": [
    "conn = Connection(base_url,login,password)"
   ]
  },
  {
   "cell_type": "code",
   "execution_count": null,
   "metadata": {},
   "outputs": [],
   "source": [
    "env_dev = Environment(connection=conn)"
   ]
  },
  {
   "cell_type": "code",
   "execution_count": null,
   "metadata": {},
   "outputs": [],
   "source": [
    "env_dev.list_loaded_projects()"
   ]
  },
  {
   "cell_type": "markdown",
   "metadata": {},
   "source": [
    "### Project"
   ]
  },
  {
   "cell_type": "code",
   "execution_count": null,
   "metadata": {},
   "outputs": [],
   "source": [
    "new_project = env_dev.create_project(name=keywrd, description=keywrd)\n",
    "\n",
    "# change description of a newly created project\n",
    "# new_project.alter(description=\"Refreshed description for project \"+keywrd)    "
   ]
  },
  {
   "cell_type": "markdown",
   "metadata": {},
   "source": [
    "### User and User Group"
   ]
  },
  {
   "cell_type": "code",
   "execution_count": null,
   "metadata": {},
   "outputs": [],
   "source": [
    "new_user  = User.create(connection=conn, username=keywrd, full_name=keywrd)\n",
    "new_group = UserGroup.create(connection=conn, name=keywrd, members=[new_user.id])"
   ]
  },
  {
   "cell_type": "markdown",
   "metadata": {},
   "source": [
    "### Security Role"
   ]
  },
  {
   "cell_type": "code",
   "execution_count": null,
   "metadata": {},
   "outputs": [],
   "source": [
    "# privileges for the new Security Role (almost all, except some potentially harmful admin and architect privileges)\n",
    "privileges=[1,3,4,6,8,9,12,13,18,19,20,21,22,23,24,25,26,27,28,29,30,31,36,37,38,39,40,41,42,43,44,46,\n",
    "            47,49,66,68,69,71,72,73,74,75,76,77,78,79,80,82,84,86,87,88,89,90,91,94,96,98,100,101,102,\n",
    "            106,110,111,112,113,114,116,117,119,120,125,126,127,128,129,130,132,134,136,137,138,160,\n",
    "            161,162,163,164,180,185,186,187,188,189,190,191,192,193,194,195,196,197,200,202,203,204,205,206,\n",
    "            207,208,209,210,211,213,215,216,217,218,219,220,222,223,224,225,226,227,228,232,233,234,235,236,\n",
    "            237,238,239,240,241,242,250,251,252,255,256,257,258,260,261,262,263,265,266,267,270,271,272,273,\n",
    "            274,275,276,285,286]\n",
    "sc = SecurityRole.create(connection=conn, name=keywrd, description=keywrd, privileges=privileges)"
   ]
  },
  {
   "cell_type": "code",
   "execution_count": null,
   "metadata": {},
   "outputs": [],
   "source": [
    "# List privileges\n",
    "from mstrio.access_and_security.privilege import Privilege\n",
    "Privilege.list_privileges(connection=conn, to_dataframe=True)"
   ]
  },
  {
   "cell_type": "markdown",
   "metadata": {},
   "source": [
    "### Access Rights"
   ]
  },
  {
   "cell_type": "code",
   "execution_count": null,
   "metadata": {},
   "outputs": [],
   "source": [
    "# By default, user group 'Everyone' gets access to the new Project with security role 'Normal Users'\n",
    "ug_Everyone=UserGroup(connection=conn, id='C82C6B1011D2894CC0009D9F29718E4F')\n",
    "sc_NormalUsers = \"73F7482111D3596C60001B8F67019608\"\n",
    "ug_Everyone.revoke_security_role(security_role = sc_NormalUsers, project = new_project)"
   ]
  },
  {
   "cell_type": "code",
   "execution_count": null,
   "metadata": {},
   "outputs": [],
   "source": [
    "# Newly created User Group + Newly created Project + Newly created Security Role\n",
    "new_group.assign_security_role(security_role=sc.id, project=new_project)"
   ]
  },
  {
   "cell_type": "code",
   "execution_count": null,
   "metadata": {},
   "outputs": [],
   "source": [
    "# Give write access to Shared Reports folder\n",
    "# object_types Report(3), Folder(8)\n",
    "folder_SharedReports = \"D3C7D461F69C4610AA6BAA5EF51F4125\"\n",
    "new_group.set_permission(to_objects=[folder_SharedReports], object_type=8, permission='Modify', \n",
    "                         project=new_project, propagate_to_children=True)"
   ]
  }
 ],
 "metadata": {
  "kernelspec": {
   "display_name": "Python 3.9.5 64-bit",
   "name": "python395jvsc74a57bd0aee8b7b246df8f9039afb4144a1f6fd8d2ca17a180786b69acc140d282b71a49"
  },
  "language_info": {
   "name": "python",
   "version": ""
  },
  "metadata": {
   "interpreter": {
    "hash": "aee8b7b246df8f9039afb4144a1f6fd8d2ca17a180786b69acc140d282b71a49"
   }
  }
 },
 "nbformat": 4,
 "nbformat_minor": 4
}