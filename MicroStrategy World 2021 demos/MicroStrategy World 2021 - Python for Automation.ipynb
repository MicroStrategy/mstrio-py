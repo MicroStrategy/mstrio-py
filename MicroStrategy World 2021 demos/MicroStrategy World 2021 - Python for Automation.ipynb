{
 "cells": [
  {
   "cell_type": "markdown",
   "metadata": {},
   "source": [
    "## Import Packages"
   ]
  },
  {
   "cell_type": "code",
   "execution_count": 1,
   "metadata": {},
   "outputs": [],
   "source": [
    "from mstrio.connection import Connection\n",
    "from mstrio.admin.server import Cluster, ServerSettings\n",
    "from mstrio.admin.application import Environment, Application, compare_application_settings\n",
    "from mstrio.admin.usergroup import UserGroup, list_usergroups\n",
    "from mstrio.admin.user import User, list_users\n",
    "from mstrio.admin.schedule import ScheduleManager\n",
    "from mstrio.admin.subscription.subscription import EmailSubscription, Subscription\n",
    "from mstrio.admin.subscription.subscription_manager import SubscriptionManager\n",
    "from mstrio.admin.subscription.content import Content\n",
    "from mstrio.admin.privilege import Privilege\n",
    "\n",
    "from mstrio.library import Library\n",
    "from mstrio.admin.dossier import list_dossiers\n",
    "import pandas as pd\n",
    "\n",
    "# PROD ENVIRONMENT\n",
    "base_url_prod = \"https://env-xxxxxx.customer.cloud.microstrategy.com/MicroStrategyLibrary/api/\"\n",
    "username_prod = \"username\"\n",
    "password_prod = \"passwd\"\n",
    "\n",
    "# DEV ENVIRONMENT\n",
    "base_url_dev = \"https://env-xxxxxx.customer.cloud.microstrategy.com/MicroStrategyLibrary/api/\"\n",
    "username_dev = \"username\"\n",
    "password_dev = \"\"\n",
    "\n",
    "mstr_tutorial_id = 'B7CA92F04B9FAE8D941C3E9B7E0CD754'"
   ]
  },
  {
   "cell_type": "code",
   "execution_count": 3,
   "metadata": {},
   "outputs": [],
   "source": [
    "#df = pd.DataFrame(quotes_final)\n",
    "#df.to_csv(\"schedule.csv\", index=False, encoding='utf-8', sep=\"#\", quoting=csv.QUOTE_NONE, escapechar=\"\\\\\", header=False)\n",
    "\n",
    "import csv\n",
    "# Define Data\n",
    "RESULTS = ['apple','cherry','orange','pineapple','strawberry']\n",
    "\n",
    "# Open File\n",
    "resultFyle = open(\"output.csv\",'w')\n",
    "\n",
    "# Write data to file\n",
    "for r in RESULTS:\n",
    "    resultFyle.write(r + \"\\n\")\n",
    "resultFyle.close()"
   ]
  },
  {
   "cell_type": "markdown",
   "metadata": {},
   "source": [
    "## Connect to Environment"
   ]
  },
  {
   "cell_type": "code",
   "execution_count": 2,
   "metadata": {},
   "outputs": [
    {
     "name": "stdout",
     "output_type": "stream",
     "text": [
      "Connection to MicroStrategy Intelligence Server has been established.\n",
      "Application object named: 'Tutorial_Prod' with ID: 'B7CA92F04B9FAE8D941C3E9B7E0CD754'\n"
     ]
    }
   ],
   "source": [
    "conn_prod = Connection(base_url_prod, username_prod, password_prod, login_mode=1, project_name=\"Tutorial_Prod\")\n",
    "env_prod = Environment(connection=conn_prod)\n",
    "tutorial_prod = Application(conn_prod, name=\"Tutorial_Prod\")\n"
   ]
  },
  {
   "cell_type": "code",
   "execution_count": 3,
   "metadata": {},
   "outputs": [
    {
     "name": "stdout",
     "output_type": "stream",
     "text": [
      "Connection to MicroStrategy Intelligence Server has been established.\n",
      "Application object named: 'Tutorial_Dev' with ID: 'B7CA92F04B9FAE8D941C3E9B7E0CD754'\n"
     ]
    }
   ],
   "source": [
    "conn_dev = Connection(base_url_dev, username_dev, password_dev, login_mode=1, project_name=\"Tutorial_Dev\")\n",
    "env_dev = Environment(connection=conn_dev)\n",
    "tutorial_dev = Application(conn_dev, name=\"Tutorial_Dev\")\n"
   ]
  },
  {
   "cell_type": "markdown",
   "metadata": {},
   "source": [
    "***"
   ]
  },
  {
   "cell_type": "markdown",
   "metadata": {},
   "source": [
    "***"
   ]
  },
  {
   "cell_type": "markdown",
   "metadata": {},
   "source": [
    "# Server and Application"
   ]
  },
  {
   "cell_type": "markdown",
   "metadata": {},
   "source": [
    "### See which services are running on the environment"
   ]
  },
  {
   "cell_type": "code",
   "execution_count": 4,
   "metadata": {},
   "outputs": [],
   "source": [
    "cluster = Cluster(connection=conn_dev)\n",
    "node_name = 'env-239822laiouse1'"
   ]
  },
  {
   "cell_type": "code",
   "execution_count": 7,
   "metadata": {},
   "outputs": [
    {
     "data": {
      "text/html": [
       "<style  type=\"text/css\" >\n",
       "#T_48852956_59cb_11eb_b375_acde48001122row0_col0,#T_48852956_59cb_11eb_b375_acde48001122row0_col1,#T_48852956_59cb_11eb_b375_acde48001122row1_col0,#T_48852956_59cb_11eb_b375_acde48001122row1_col1,#T_48852956_59cb_11eb_b375_acde48001122row2_col0,#T_48852956_59cb_11eb_b375_acde48001122row2_col1,#T_48852956_59cb_11eb_b375_acde48001122row3_col0,#T_48852956_59cb_11eb_b375_acde48001122row3_col1,#T_48852956_59cb_11eb_b375_acde48001122row4_col0,#T_48852956_59cb_11eb_b375_acde48001122row4_col1,#T_48852956_59cb_11eb_b375_acde48001122row5_col0,#T_48852956_59cb_11eb_b375_acde48001122row5_col1,#T_48852956_59cb_11eb_b375_acde48001122row6_col0,#T_48852956_59cb_11eb_b375_acde48001122row6_col1,#T_48852956_59cb_11eb_b375_acde48001122row6_col2,#T_48852956_59cb_11eb_b375_acde48001122row7_col0,#T_48852956_59cb_11eb_b375_acde48001122row7_col1,#T_48852956_59cb_11eb_b375_acde48001122row7_col2,#T_48852956_59cb_11eb_b375_acde48001122row8_col0,#T_48852956_59cb_11eb_b375_acde48001122row8_col1,#T_48852956_59cb_11eb_b375_acde48001122row8_col2,#T_48852956_59cb_11eb_b375_acde48001122row9_col0,#T_48852956_59cb_11eb_b375_acde48001122row9_col1,#T_48852956_59cb_11eb_b375_acde48001122row9_col2,#T_48852956_59cb_11eb_b375_acde48001122row10_col0,#T_48852956_59cb_11eb_b375_acde48001122row10_col1,#T_48852956_59cb_11eb_b375_acde48001122row10_col2,#T_48852956_59cb_11eb_b375_acde48001122row11_col0,#T_48852956_59cb_11eb_b375_acde48001122row11_col1,#T_48852956_59cb_11eb_b375_acde48001122row11_col2,#T_48852956_59cb_11eb_b375_acde48001122row12_col0,#T_48852956_59cb_11eb_b375_acde48001122row12_col1,#T_48852956_59cb_11eb_b375_acde48001122row12_col2,#T_48852956_59cb_11eb_b375_acde48001122row13_col0,#T_48852956_59cb_11eb_b375_acde48001122row13_col1,#T_48852956_59cb_11eb_b375_acde48001122row14_col0,#T_48852956_59cb_11eb_b375_acde48001122row14_col1,#T_48852956_59cb_11eb_b375_acde48001122row14_col2,#T_48852956_59cb_11eb_b375_acde48001122row15_col0,#T_48852956_59cb_11eb_b375_acde48001122row15_col1,#T_48852956_59cb_11eb_b375_acde48001122row15_col2,#T_48852956_59cb_11eb_b375_acde48001122row16_col0,#T_48852956_59cb_11eb_b375_acde48001122row16_col1,#T_48852956_59cb_11eb_b375_acde48001122row17_col0,#T_48852956_59cb_11eb_b375_acde48001122row17_col1,#T_48852956_59cb_11eb_b375_acde48001122row18_col0,#T_48852956_59cb_11eb_b375_acde48001122row18_col1,#T_48852956_59cb_11eb_b375_acde48001122row19_col0,#T_48852956_59cb_11eb_b375_acde48001122row19_col1,#T_48852956_59cb_11eb_b375_acde48001122row19_col2,#T_48852956_59cb_11eb_b375_acde48001122row20_col0,#T_48852956_59cb_11eb_b375_acde48001122row20_col1,#T_48852956_59cb_11eb_b375_acde48001122row20_col2,#T_48852956_59cb_11eb_b375_acde48001122row21_col0,#T_48852956_59cb_11eb_b375_acde48001122row21_col1,#T_48852956_59cb_11eb_b375_acde48001122row22_col0,#T_48852956_59cb_11eb_b375_acde48001122row22_col1{\n",
       "            color:  Black;\n",
       "        }#T_48852956_59cb_11eb_b375_acde48001122row0_col2,#T_48852956_59cb_11eb_b375_acde48001122row1_col2,#T_48852956_59cb_11eb_b375_acde48001122row3_col2,#T_48852956_59cb_11eb_b375_acde48001122row4_col2,#T_48852956_59cb_11eb_b375_acde48001122row5_col2,#T_48852956_59cb_11eb_b375_acde48001122row13_col2,#T_48852956_59cb_11eb_b375_acde48001122row17_col2,#T_48852956_59cb_11eb_b375_acde48001122row18_col2,#T_48852956_59cb_11eb_b375_acde48001122row21_col2,#T_48852956_59cb_11eb_b375_acde48001122row22_col2{\n",
       "            color:  Green;\n",
       "        }#T_48852956_59cb_11eb_b375_acde48001122row2_col2,#T_48852956_59cb_11eb_b375_acde48001122row16_col2{\n",
       "            color:  #b22222;\n",
       "        }</style><table id=\"T_48852956_59cb_11eb_b375_acde48001122\" ><thead>    <tr>        <th class=\"blank level0\" ></th>        <th class=\"col_heading level0 col0\" >displayName</th>        <th class=\"col_heading level0 col1\" >id</th>        <th class=\"col_heading level0 col2\" >env-239822laiouse1</th>    </tr></thead><tbody>\n",
       "                <tr>\n",
       "                        <th id=\"T_48852956_59cb_11eb_b375_acde48001122level0_row0\" class=\"row_heading level0 row0\" >0</th>\n",
       "                        <td id=\"T_48852956_59cb_11eb_b375_acde48001122row0_col0\" class=\"data row0 col0\" >Intelligence</td>\n",
       "                        <td id=\"T_48852956_59cb_11eb_b375_acde48001122row0_col1\" class=\"data row0 col1\" >MicroStrategy-Intelligence-Server</td>\n",
       "                        <td id=\"T_48852956_59cb_11eb_b375_acde48001122row0_col2\" class=\"data row0 col2\" >Running</td>\n",
       "            </tr>\n",
       "            <tr>\n",
       "                        <th id=\"T_48852956_59cb_11eb_b375_acde48001122level0_row1\" class=\"row_heading level0 row1\" >1</th>\n",
       "                        <td id=\"T_48852956_59cb_11eb_b375_acde48001122row1_col0\" class=\"data row1 col0\" >Export</td>\n",
       "                        <td id=\"T_48852956_59cb_11eb_b375_acde48001122row1_col1\" class=\"data row1 col1\" >MicroStrategy-PDFExport-Service</td>\n",
       "                        <td id=\"T_48852956_59cb_11eb_b375_acde48001122row1_col2\" class=\"data row1 col2\" >Running</td>\n",
       "            </tr>\n",
       "            <tr>\n",
       "                        <th id=\"T_48852956_59cb_11eb_b375_acde48001122level0_row2\" class=\"row_heading level0 row2\" >2</th>\n",
       "                        <td id=\"T_48852956_59cb_11eb_b375_acde48001122row2_col0\" class=\"data row2 col0\" >Telemetry</td>\n",
       "                        <td id=\"T_48852956_59cb_11eb_b375_acde48001122row2_col1\" class=\"data row2 col1\" >Apache-Kafka</td>\n",
       "                        <td id=\"T_48852956_59cb_11eb_b375_acde48001122row2_col2\" class=\"data row2 col2\" >Stopped</td>\n",
       "            </tr>\n",
       "            <tr>\n",
       "                        <th id=\"T_48852956_59cb_11eb_b375_acde48001122level0_row3\" class=\"row_heading level0 row3\" >3</th>\n",
       "                        <td id=\"T_48852956_59cb_11eb_b375_acde48001122row3_col0\" class=\"data row3 col0\" >Telemetry Manager</td>\n",
       "                        <td id=\"T_48852956_59cb_11eb_b375_acde48001122row3_col1\" class=\"data row3 col1\" >Apache-ZooKeeper</td>\n",
       "                        <td id=\"T_48852956_59cb_11eb_b375_acde48001122row3_col2\" class=\"data row3 col2\" >Running</td>\n",
       "            </tr>\n",
       "            <tr>\n",
       "                        <th id=\"T_48852956_59cb_11eb_b375_acde48001122level0_row4\" class=\"row_heading level0 row4\" >4</th>\n",
       "                        <td id=\"T_48852956_59cb_11eb_b375_acde48001122row4_col0\" class=\"data row4 col0\" >Collaboration</td>\n",
       "                        <td id=\"T_48852956_59cb_11eb_b375_acde48001122row4_col1\" class=\"data row4 col1\" >MicroStrategy-Collaboration-Server</td>\n",
       "                        <td id=\"T_48852956_59cb_11eb_b375_acde48001122row4_col2\" class=\"data row4 col2\" >Running</td>\n",
       "            </tr>\n",
       "            <tr>\n",
       "                        <th id=\"T_48852956_59cb_11eb_b375_acde48001122level0_row5\" class=\"row_heading level0 row5\" >5</th>\n",
       "                        <td id=\"T_48852956_59cb_11eb_b375_acde48001122row5_col0\" class=\"data row5 col0\" >Library</td>\n",
       "                        <td id=\"T_48852956_59cb_11eb_b375_acde48001122row5_col1\" class=\"data row5 col1\" >MicroStrategy-Library-REST-Server</td>\n",
       "                        <td id=\"T_48852956_59cb_11eb_b375_acde48001122row5_col2\" class=\"data row5 col2\" >Running</td>\n",
       "            </tr>\n",
       "            <tr>\n",
       "                        <th id=\"T_48852956_59cb_11eb_b375_acde48001122level0_row6\" class=\"row_heading level0 row6\" >6</th>\n",
       "                        <td id=\"T_48852956_59cb_11eb_b375_acde48001122row6_col0\" class=\"data row6 col0\" >Web</td>\n",
       "                        <td id=\"T_48852956_59cb_11eb_b375_acde48001122row6_col1\" class=\"data row6 col1\" >MicroStrategy-Web-Server-ASP</td>\n",
       "                        <td id=\"T_48852956_59cb_11eb_b375_acde48001122row6_col2\" class=\"data row6 col2\" >Not Available</td>\n",
       "            </tr>\n",
       "            <tr>\n",
       "                        <th id=\"T_48852956_59cb_11eb_b375_acde48001122level0_row7\" class=\"row_heading level0 row7\" >7</th>\n",
       "                        <td id=\"T_48852956_59cb_11eb_b375_acde48001122row7_col0\" class=\"data row7 col0\" >Mobile</td>\n",
       "                        <td id=\"T_48852956_59cb_11eb_b375_acde48001122row7_col1\" class=\"data row7 col1\" >MicroStrategy-Mobile-Server-ASP</td>\n",
       "                        <td id=\"T_48852956_59cb_11eb_b375_acde48001122row7_col2\" class=\"data row7 col2\" >Not Available</td>\n",
       "            </tr>\n",
       "            <tr>\n",
       "                        <th id=\"T_48852956_59cb_11eb_b375_acde48001122level0_row8\" class=\"row_heading level0 row8\" >8</th>\n",
       "                        <td id=\"T_48852956_59cb_11eb_b375_acde48001122row8_col0\" class=\"data row8 col0\" >Identity</td>\n",
       "                        <td id=\"T_48852956_59cb_11eb_b375_acde48001122row8_col1\" class=\"data row8 col1\" >MicroStrategy-Usher-Security-Server</td>\n",
       "                        <td id=\"T_48852956_59cb_11eb_b375_acde48001122row8_col2\" class=\"data row8 col2\" >Not Available</td>\n",
       "            </tr>\n",
       "            <tr>\n",
       "                        <th id=\"T_48852956_59cb_11eb_b375_acde48001122level0_row9\" class=\"row_heading level0 row9\" >9</th>\n",
       "                        <td id=\"T_48852956_59cb_11eb_b375_acde48001122row9_col0\" class=\"data row9 col0\" >Identity Gateway</td>\n",
       "                        <td id=\"T_48852956_59cb_11eb_b375_acde48001122row9_col1\" class=\"data row9 col1\" >MicroStrategy-Usher-Gateway-Server</td>\n",
       "                        <td id=\"T_48852956_59cb_11eb_b375_acde48001122row9_col2\" class=\"data row9 col2\" >Not Available</td>\n",
       "            </tr>\n",
       "            <tr>\n",
       "                        <th id=\"T_48852956_59cb_11eb_b375_acde48001122level0_row10\" class=\"row_heading level0 row10\" >10</th>\n",
       "                        <td id=\"T_48852956_59cb_11eb_b375_acde48001122row10_col0\" class=\"data row10 col0\" >Memcached</td>\n",
       "                        <td id=\"T_48852956_59cb_11eb_b375_acde48001122row10_col1\" class=\"data row10 col1\" >Memcached</td>\n",
       "                        <td id=\"T_48852956_59cb_11eb_b375_acde48001122row10_col2\" class=\"data row10 col2\" >Not Available</td>\n",
       "            </tr>\n",
       "            <tr>\n",
       "                        <th id=\"T_48852956_59cb_11eb_b375_acde48001122level0_row11\" class=\"row_heading level0 row11\" >11</th>\n",
       "                        <td id=\"T_48852956_59cb_11eb_b375_acde48001122row11_col0\" class=\"data row11 col0\" >Identity Manager</td>\n",
       "                        <td id=\"T_48852956_59cb_11eb_b375_acde48001122row11_col1\" class=\"data row11 col1\" >MicroStrategy-Usher-Network-Manager</td>\n",
       "                        <td id=\"T_48852956_59cb_11eb_b375_acde48001122row11_col2\" class=\"data row11 col2\" >Not Available</td>\n",
       "            </tr>\n",
       "            <tr>\n",
       "                        <th id=\"T_48852956_59cb_11eb_b375_acde48001122level0_row12\" class=\"row_heading level0 row12\" >12</th>\n",
       "                        <td id=\"T_48852956_59cb_11eb_b375_acde48001122row12_col0\" class=\"data row12 col0\" >Collaboration Store</td>\n",
       "                        <td id=\"T_48852956_59cb_11eb_b375_acde48001122row12_col1\" class=\"data row12 col1\" >MongoDB</td>\n",
       "                        <td id=\"T_48852956_59cb_11eb_b375_acde48001122row12_col2\" class=\"data row12 col2\" >Not Available</td>\n",
       "            </tr>\n",
       "            <tr>\n",
       "                        <th id=\"T_48852956_59cb_11eb_b375_acde48001122level0_row13\" class=\"row_heading level0 row13\" >13</th>\n",
       "                        <td id=\"T_48852956_59cb_11eb_b375_acde48001122row13_col0\" class=\"data row13 col0\" >Telemetry Cache</td>\n",
       "                        <td id=\"T_48852956_59cb_11eb_b375_acde48001122row13_col1\" class=\"data row13 col1\" >MicroStrategy-Platform-Analytics-In-Memory-Cache</td>\n",
       "                        <td id=\"T_48852956_59cb_11eb_b375_acde48001122row13_col2\" class=\"data row13 col2\" >Running</td>\n",
       "            </tr>\n",
       "            <tr>\n",
       "                        <th id=\"T_48852956_59cb_11eb_b375_acde48001122level0_row14\" class=\"row_heading level0 row14\" >14</th>\n",
       "                        <td id=\"T_48852956_59cb_11eb_b375_acde48001122row14_col0\" class=\"data row14 col0\" >Repository</td>\n",
       "                        <td id=\"T_48852956_59cb_11eb_b375_acde48001122row14_col1\" class=\"data row14 col1\" >MySQL</td>\n",
       "                        <td id=\"T_48852956_59cb_11eb_b375_acde48001122row14_col2\" class=\"data row14 col2\" >Not Available</td>\n",
       "            </tr>\n",
       "            <tr>\n",
       "                        <th id=\"T_48852956_59cb_11eb_b375_acde48001122level0_row15\" class=\"row_heading level0 row15\" >15</th>\n",
       "                        <td id=\"T_48852956_59cb_11eb_b375_acde48001122row15_col0\" class=\"data row15 col0\" >Data Server</td>\n",
       "                        <td id=\"T_48852956_59cb_11eb_b375_acde48001122row15_col1\" class=\"data row15 col1\" >MicroStrategy-Data-Server</td>\n",
       "                        <td id=\"T_48852956_59cb_11eb_b375_acde48001122row15_col2\" class=\"data row15 col2\" >Not Available</td>\n",
       "            </tr>\n",
       "            <tr>\n",
       "                        <th id=\"T_48852956_59cb_11eb_b375_acde48001122level0_row16\" class=\"row_heading level0 row16\" >16</th>\n",
       "                        <td id=\"T_48852956_59cb_11eb_b375_acde48001122row16_col0\" class=\"data row16 col0\" >Identity Telemetry</td>\n",
       "                        <td id=\"T_48852956_59cb_11eb_b375_acde48001122row16_col1\" class=\"data row16 col1\" >MicroStrategy-Usher-Metadata-Producer</td>\n",
       "                        <td id=\"T_48852956_59cb_11eb_b375_acde48001122row16_col2\" class=\"data row16 col2\" >Stopped</td>\n",
       "            </tr>\n",
       "            <tr>\n",
       "                        <th id=\"T_48852956_59cb_11eb_b375_acde48001122level0_row17\" class=\"row_heading level0 row17\" >17</th>\n",
       "                        <td id=\"T_48852956_59cb_11eb_b375_acde48001122row17_col0\" class=\"data row17 col0\" >Telemetry Consumer</td>\n",
       "                        <td id=\"T_48852956_59cb_11eb_b375_acde48001122row17_col1\" class=\"data row17 col1\" >MicroStrategy-Platform-Analytics-Consumer</td>\n",
       "                        <td id=\"T_48852956_59cb_11eb_b375_acde48001122row17_col2\" class=\"data row17 col2\" >Running</td>\n",
       "            </tr>\n",
       "            <tr>\n",
       "                        <th id=\"T_48852956_59cb_11eb_b375_acde48001122level0_row18\" class=\"row_heading level0 row18\" >18</th>\n",
       "                        <td id=\"T_48852956_59cb_11eb_b375_acde48001122row18_col0\" class=\"data row18 col0\" >Certificate Store</td>\n",
       "                        <td id=\"T_48852956_59cb_11eb_b375_acde48001122row18_col1\" class=\"data row18 col1\" >MicroStrategy-Certificate-Manager</td>\n",
       "                        <td id=\"T_48852956_59cb_11eb_b375_acde48001122row18_col2\" class=\"data row18 col2\" >Running</td>\n",
       "            </tr>\n",
       "            <tr>\n",
       "                        <th id=\"T_48852956_59cb_11eb_b375_acde48001122level0_row19\" class=\"row_heading level0 row19\" >19</th>\n",
       "                        <td id=\"T_48852956_59cb_11eb_b375_acde48001122row19_col0\" class=\"data row19 col0\" >Search Engine</td>\n",
       "                        <td id=\"T_48852956_59cb_11eb_b375_acde48001122row19_col1\" class=\"data row19 col1\" >MicroStrategy-Search-Engine</td>\n",
       "                        <td id=\"T_48852956_59cb_11eb_b375_acde48001122row19_col2\" class=\"data row19 col2\" >Not Available</td>\n",
       "            </tr>\n",
       "            <tr>\n",
       "                        <th id=\"T_48852956_59cb_11eb_b375_acde48001122level0_row20\" class=\"row_heading level0 row20\" >20</th>\n",
       "                        <td id=\"T_48852956_59cb_11eb_b375_acde48001122row20_col0\" class=\"data row20 col0\" >Search Service</td>\n",
       "                        <td id=\"T_48852956_59cb_11eb_b375_acde48001122row20_col1\" class=\"data row20 col1\" >MicroStrategy-Search-Service</td>\n",
       "                        <td id=\"T_48852956_59cb_11eb_b375_acde48001122row20_col2\" class=\"data row20 col2\" >Not Available</td>\n",
       "            </tr>\n",
       "            <tr>\n",
       "                        <th id=\"T_48852956_59cb_11eb_b375_acde48001122level0_row21\" class=\"row_heading level0 row21\" >21</th>\n",
       "                        <td id=\"T_48852956_59cb_11eb_b375_acde48001122row21_col0\" class=\"data row21 col0\" >Store</td>\n",
       "                        <td id=\"T_48852956_59cb_11eb_b375_acde48001122row21_col1\" class=\"data row21 col1\" >PostgreSQL</td>\n",
       "                        <td id=\"T_48852956_59cb_11eb_b375_acde48001122row21_col2\" class=\"data row21 col2\" >Running</td>\n",
       "            </tr>\n",
       "            <tr>\n",
       "                        <th id=\"T_48852956_59cb_11eb_b375_acde48001122level0_row22\" class=\"row_heading level0 row22\" >22</th>\n",
       "                        <td id=\"T_48852956_59cb_11eb_b375_acde48001122row22_col0\" class=\"data row22 col0\" >Modeling</td>\n",
       "                        <td id=\"T_48852956_59cb_11eb_b375_acde48001122row22_col1\" class=\"data row22 col1\" >MicroStrategy-Modeling-Service</td>\n",
       "                        <td id=\"T_48852956_59cb_11eb_b375_acde48001122row22_col2\" class=\"data row22 col2\" >Running</td>\n",
       "            </tr>\n",
       "    </tbody></table>"
      ],
      "text/plain": [
       "<pandas.io.formats.style.Styler at 0x7ffc213b3d60>"
      ]
     },
     "execution_count": 7,
     "metadata": {},
     "output_type": "execute_result"
    }
   ],
   "source": [
    "cluster.nodes_topology()"
   ]
  },
  {
   "cell_type": "markdown",
   "metadata": {},
   "source": [
    "### Stop service"
   ]
  },
  {
   "cell_type": "code",
   "execution_count": 6,
   "metadata": {},
   "outputs": [
    {
     "name": "stdout",
     "output_type": "stream",
     "text": [
      "Request to stop Apache-Kafka was sent for node(s) env-239822laiouse1.\n"
     ]
    }
   ],
   "source": [
    "cluster.stop(service='Apache-Kafka', nodes=[node_name], login=\"mstr\", passwd=\"8OT1CtHe21XJ\")"
   ]
  },
  {
   "cell_type": "markdown",
   "metadata": {},
   "source": [
    "### Start service"
   ]
  },
  {
   "cell_type": "code",
   "execution_count": 8,
   "metadata": {},
   "outputs": [
    {
     "name": "stderr",
     "output_type": "stream",
     "text": [
      "Warning: Service Apache-Kafka depends on services ['Apache-ZooKeeper'] to run correctly.\n"
     ]
    },
    {
     "name": "stdout",
     "output_type": "stream",
     "text": [
      "Request to start Apache-Kafka was sent for node(s) env-239822laiouse1.\n"
     ]
    }
   ],
   "source": [
    "cluster.start(service='Apache-Kafka', nodes=[node_name], login=\"mstr\", passwd=\"8OT1CtHe21XJ\")"
   ]
  },
  {
   "cell_type": "markdown",
   "metadata": {},
   "source": [
    "### See which applications are on the environment"
   ]
  },
  {
   "cell_type": "code",
   "execution_count": 9,
   "metadata": {},
   "outputs": [
    {
     "data": {
      "text/plain": [
       "[Application(connection, name='Consolidated Education Project', id='CE52831411E696C8BD2F0080EFD5AF44'),\n",
       " Application(connection, name='Hierarchies Project', id='B3FEE61A11E696C8BD0F0080EFC58F44'),\n",
       " Application(connection, name='Human Resources Analysis Module', id='4BAE16A340B995CAD24193AA3AC15D29'),\n",
       " Application(connection, name='Platform Analytics', id='93AF3FB811EB3C461B920080EFA5E68F'),\n",
       " Application(connection, name='Relationships Project', id='4C09350211E69712BAEE0080EFB56D41'),\n",
       " Application(connection, name='Tutorial_Dev', id='B7CA92F04B9FAE8D941C3E9B7E0CD754')]"
      ]
     },
     "execution_count": 9,
     "metadata": {},
     "output_type": "execute_result"
    }
   ],
   "source": [
    "cluster.list_applications()"
   ]
  },
  {
   "cell_type": "markdown",
   "metadata": {},
   "source": [
    "### Unload application"
   ]
  },
  {
   "cell_type": "code",
   "execution_count": 10,
   "metadata": {},
   "outputs": [
    {
     "name": "stdout",
     "output_type": "stream",
     "text": [
      "'Consolidated Education Project' unloaded on node 'env-239822laiouse1'.\n"
     ]
    }
   ],
   "source": [
    "app_name = 'Consolidated Education Project'\n",
    "cluster.unload_application(application_name=app_name)"
   ]
  },
  {
   "cell_type": "markdown",
   "metadata": {},
   "source": [
    "### See loaded appliactions"
   ]
  },
  {
   "cell_type": "code",
   "execution_count": 11,
   "metadata": {},
   "outputs": [
    {
     "data": {
      "text/plain": [
       "[Application(connection, name='Tutorial_Dev', id='B7CA92F04B9FAE8D941C3E9B7E0CD754'),\n",
       " Application(connection, name='Hierarchies Project', id='B3FEE61A11E696C8BD0F0080EFC58F44'),\n",
       " Application(connection, name='Human Resources Analysis Module', id='4BAE16A340B995CAD24193AA3AC15D29'),\n",
       " Application(connection, name='Relationships Project', id='4C09350211E69712BAEE0080EFB56D41'),\n",
       " Application(connection, name='Platform Analytics', id='93AF3FB811EB3C461B920080EFA5E68F')]"
      ]
     },
     "execution_count": 11,
     "metadata": {},
     "output_type": "execute_result"
    }
   ],
   "source": [
    "env_dev.list_loaded_applications()"
   ]
  },
  {
   "cell_type": "markdown",
   "metadata": {},
   "source": [
    "### Load application"
   ]
  },
  {
   "cell_type": "code",
   "execution_count": 12,
   "metadata": {},
   "outputs": [
    {
     "name": "stderr",
     "output_type": "stream",
     "text": [
      "UserWarning: Applications ['Consolidated Education Project'] are either unloaded or idled. Change status using the 'load()' or 'resume()' method to use all functionality.\n"
     ]
    },
    {
     "name": "stdout",
     "output_type": "stream",
     "text": [
      "'Consolidated Education Project' loaded on node 'env-239822laiouse1'.\n"
     ]
    }
   ],
   "source": [
    "cluster.load_application(application_name=app_name)"
   ]
  },
  {
   "cell_type": "markdown",
   "metadata": {},
   "source": [
    "### Export Application and Server Setting to JSON"
   ]
  },
  {
   "cell_type": "code",
   "execution_count": 13,
   "metadata": {},
   "outputs": [
    {
     "name": "stdout",
     "output_type": "stream",
     "text": [
      "Settings exported to 'tutorial_dev_settings.json'\n"
     ]
    }
   ],
   "source": [
    "tutorial_dev = Application(conn)\n",
    "tutorial_dev.settings.to_json(\"tutorial_dev_settings.json\")"
   ]
  },
  {
   "cell_type": "code",
   "execution_count": null,
   "metadata": {},
   "outputs": [],
   "source": [
    "env_dev = Cluster(conn)\n",
    "env_dev.settings.to_json"
   ]
  },
  {
   "cell_type": "code",
   "execution_count": 14,
   "metadata": {},
   "outputs": [
    {
     "name": "stdout",
     "output_type": "stream",
     "text": [
      "Settings exported to 'env_dev_settings.json'\n"
     ]
    }
   ],
   "source": [
    "env_dev_settings = ServerSettings(conn_dev)\n",
    "env_dev_settings.to_json(\"env_dev_settings.json\")"
   ]
  },
  {
   "cell_type": "markdown",
   "metadata": {},
   "source": [
    "### Compare project level settings of tutorial project in development and production environments"
   ]
  },
  {
   "cell_type": "code",
   "execution_count": 15,
   "metadata": {},
   "outputs": [
    {
     "data": {
      "text/html": [
       "<div>\n",
       "<style scoped>\n",
       "    .dataframe tbody tr th:only-of-type {\n",
       "        vertical-align: middle;\n",
       "    }\n",
       "\n",
       "    .dataframe tbody tr th {\n",
       "        vertical-align: top;\n",
       "    }\n",
       "\n",
       "    .dataframe thead th {\n",
       "        text-align: right;\n",
       "    }\n",
       "</style>\n",
       "<table border=\"1\" class=\"dataframe\">\n",
       "  <thead>\n",
       "    <tr style=\"text-align: right;\">\n",
       "      <th></th>\n",
       "      <th>setting</th>\n",
       "      <th>Tutorial_Prod</th>\n",
       "      <th>Tutorial_Dev</th>\n",
       "    </tr>\n",
       "  </thead>\n",
       "  <tbody>\n",
       "    <tr>\n",
       "      <th>115</th>\n",
       "      <td>maxJobPerProject</td>\n",
       "      <td>1000</td>\n",
       "      <td>500</td>\n",
       "    </tr>\n",
       "    <tr>\n",
       "      <th>116</th>\n",
       "      <td>maxJobPerUserAccount</td>\n",
       "      <td>100</td>\n",
       "      <td>75</td>\n",
       "    </tr>\n",
       "    <tr>\n",
       "      <th>117</th>\n",
       "      <td>maxJobPerUserConnection</td>\n",
       "      <td>100</td>\n",
       "      <td>75</td>\n",
       "    </tr>\n",
       "  </tbody>\n",
       "</table>\n",
       "</div>"
      ],
      "text/plain": [
       "                     setting Tutorial_Prod Tutorial_Dev\n",
       "115         maxJobPerProject          1000          500\n",
       "116     maxJobPerUserAccount           100           75\n",
       "117  maxJobPerUserConnection           100           75"
      ]
     },
     "execution_count": 15,
     "metadata": {},
     "output_type": "execute_result"
    }
   ],
   "source": [
    "compare_application_settings(applications=[tutorial_prod, tutorial_dev], show_diff_only=True)"
   ]
  },
  {
   "cell_type": "markdown",
   "metadata": {},
   "source": [
    "### Compare server level settings of two environments"
   ]
  },
  {
   "cell_type": "code",
   "execution_count": 18,
   "metadata": {},
   "outputs": [
    {
     "data": {
      "text/html": [
       "<div>\n",
       "<style scoped>\n",
       "    .dataframe tbody tr th:only-of-type {\n",
       "        vertical-align: middle;\n",
       "    }\n",
       "\n",
       "    .dataframe tbody tr th {\n",
       "        vertical-align: top;\n",
       "    }\n",
       "\n",
       "    .dataframe thead th {\n",
       "        text-align: right;\n",
       "    }\n",
       "</style>\n",
       "<table border=\"1\" class=\"dataframe\">\n",
       "  <thead>\n",
       "    <tr style=\"text-align: right;\">\n",
       "      <th></th>\n",
       "      <th>key</th>\n",
       "      <th>value_dev</th>\n",
       "      <th>value_prod</th>\n",
       "    </tr>\n",
       "  </thead>\n",
       "  <tbody>\n",
       "    <tr>\n",
       "      <th>0</th>\n",
       "      <td>historyListRunningStatus</td>\n",
       "      <td>True</td>\n",
       "      <td>False</td>\n",
       "    </tr>\n",
       "  </tbody>\n",
       "</table>\n",
       "</div>"
      ],
      "text/plain": [
       "                        key  value_dev  value_prod\n",
       "0  historyListRunningStatus       True       False"
      ]
     },
     "execution_count": 18,
     "metadata": {},
     "output_type": "execute_result"
    }
   ],
   "source": [
    "# get settings of development environment\n",
    "settings_dev = ServerSettings(connection=conn_dev)\n",
    "setts_props_dev = settings_dev.list_properties()\n",
    "\n",
    "# get settings of production environment\n",
    "settings_prod = ServerSettings(connection=conn_prod)\n",
    "setts_props_prod = settings_prod.list_properties()\n",
    "\n",
    "# compare settings and save differences in a table of dictionaries\n",
    "diff_table = []\n",
    "for key_dev, value_dev in setts_props_dev.items():\n",
    "    if value_dev != setts_props_prod[key_dev]:\n",
    "        diff_table.append({'key': key_dev,\n",
    "                           'value_dev': value_dev,\n",
    "                           'value_prod': setts_props_prod[key_dev]})\n",
    "pd.DataFrame.from_dict(diff_table)"
   ]
  },
  {
   "cell_type": "markdown",
   "metadata": {},
   "source": [
    "### Update Server Settings of Dev environment to match Prod environment "
   ]
  },
  {
   "cell_type": "code",
   "execution_count": 17,
   "metadata": {},
   "outputs": [
    {
     "name": "stdout",
     "output_type": "stream",
     "text": [
      "I-Server settings updated.\n"
     ]
    }
   ],
   "source": [
    "update_dict = {}\n",
    "for diff in diff_table:\n",
    "    update_dict[diff['key']] = diff['value_prod']\n",
    "    \n",
    "if update_dict:\n",
    "    settings_dev.alter(**update_dict)\n",
    "    settings_dev.update()"
   ]
  },
  {
   "cell_type": "markdown",
   "metadata": {},
   "source": [
    "### Export Prod Tutorial Project Settings into Dev Tutorial Project"
   ]
  },
  {
   "cell_type": "code",
   "execution_count": 19,
   "metadata": {},
   "outputs": [
    {
     "name": "stdout",
     "output_type": "stream",
     "text": [
      "Settings exported to 'tutorial_prod_settings.csv'\n",
      "Settings imported from 'tutorial_prod_settings.csv'\n"
     ]
    }
   ],
   "source": [
    "tutorial_prod.settings.to_csv(\"tutorial_prod_settings.csv\")\n",
    "tutorial_dev.settings.import_from(\"tutorial_prod_settings.csv\")\n",
    "tutorial_dev.settings.update()"
   ]
  },
  {
   "cell_type": "code",
   "execution_count": 20,
   "metadata": {},
   "outputs": [
    {
     "name": "stdout",
     "output_type": "stream",
     "text": [
      "There is no difference in settings between application 'Tutorial_Prod' and remaining applications: '['Tutorial_Dev']'\n"
     ]
    },
    {
     "data": {
      "text/html": [
       "<div>\n",
       "<style scoped>\n",
       "    .dataframe tbody tr th:only-of-type {\n",
       "        vertical-align: middle;\n",
       "    }\n",
       "\n",
       "    .dataframe tbody tr th {\n",
       "        vertical-align: top;\n",
       "    }\n",
       "\n",
       "    .dataframe thead th {\n",
       "        text-align: right;\n",
       "    }\n",
       "</style>\n",
       "<table border=\"1\" class=\"dataframe\">\n",
       "  <thead>\n",
       "    <tr style=\"text-align: right;\">\n",
       "      <th></th>\n",
       "      <th>setting</th>\n",
       "      <th>Tutorial_Prod</th>\n",
       "      <th>Tutorial_Dev</th>\n",
       "    </tr>\n",
       "  </thead>\n",
       "  <tbody>\n",
       "  </tbody>\n",
       "</table>\n",
       "</div>"
      ],
      "text/plain": [
       "Empty DataFrame\n",
       "Columns: [setting, Tutorial_Prod, Tutorial_Dev]\n",
       "Index: []"
      ]
     },
     "execution_count": 20,
     "metadata": {},
     "output_type": "execute_result"
    }
   ],
   "source": [
    "compare_application_settings(applications=[tutorial_prod, tutorial_dev], show_diff_only=True)"
   ]
  },
  {
   "cell_type": "markdown",
   "metadata": {},
   "source": [
    "***"
   ]
  },
  {
   "cell_type": "markdown",
   "metadata": {},
   "source": [
    "***"
   ]
  },
  {
   "cell_type": "markdown",
   "metadata": {},
   "source": [
    "***"
   ]
  },
  {
   "cell_type": "markdown",
   "metadata": {},
   "source": [
    "***"
   ]
  },
  {
   "cell_type": "markdown",
   "metadata": {},
   "source": [
    "# User and Privileges"
   ]
  },
  {
   "cell_type": "markdown",
   "metadata": {},
   "source": [
    "### Prepare data to connect to database"
   ]
  },
  {
   "cell_type": "code",
   "execution_count": 21,
   "metadata": {},
   "outputs": [],
   "source": [
    "import pyodbc # Python library to connect to database\n",
    "\n",
    "driver = '{ODBC Driver 17 for SQL Server}'\n",
    "server = '127.0.0.1'\n",
    "database = 'TmpDB_MSTR'\n",
    "uid = 'sa'\n",
    "pwd = 'reallyStrongPwd123'\n",
    "\n",
    "# prepare string which is used to connect to database\n",
    "driver = 'DRIVER=' + driver\n",
    "server = 'SERVER=' + server\n",
    "database = 'DATABASE=' + database\n",
    "uid = 'UID=' + uid\n",
    "pwd = 'PWD=' + pwd\n",
    "connection_string = ';'.join([driver, server, database, uid, pwd])"
   ]
  },
  {
   "cell_type": "markdown",
   "metadata": {},
   "source": [
    "### Get newly hired employees from Database and create new user accounts for them. "
   ]
  },
  {
   "cell_type": "code",
   "execution_count": 22,
   "metadata": {},
   "outputs": [
    {
     "name": "stdout",
     "output_type": "stream",
     "text": [
      "Successfully created user named: 'lchase' with ID: 'F7E9C46A11EB59CB75F00080EF05EF16'\n",
      "Successfully created user named: 'dayers' with ID: 'F812943011EB59CB75F00080EF252E14'\n",
      "Successfully created user named: 'nmacfarlane' with ID: 'F8307B1C11EB59CB75F00080EFF5CF16'\n",
      "Successfully created user named: 'mferry' with ID: 'F8519B3011EB59CB75F00080EF558E15'\n",
      "Successfully created user named: 'cphillips' with ID: 'F8761BE111EB59CB75F00080EFE5AE14'\n",
      "Successfully created user named: 'bdaniels' with ID: 'F8934D1411EB59CB75F00080EF85EF17'\n",
      "Successfully created user named: 'brees' with ID: 'F8B2A8BC11EB59CB75F00080EFB54E15'\n"
     ]
    }
   ],
   "source": [
    "query = \"SELECT * FROM NEW_HIRE_EMPLOYEE WHERE EMPLOYEE_HIRE_DATE > '12-01-2020';\"\n",
    "\n",
    "with pyodbc.connect(connection_string) as db_conn:\n",
    "    new_employees = pd.read_sql(query, db_conn)\n",
    "\n",
    "new_users = []\n",
    "for _, row in new_employees.iterrows():\n",
    "    emp_username = row['EMPLOYEE_USER_NAME']\n",
    "    emp_fullname = row['EMPLOYEE_LEGAL_NAME']\n",
    "    emp_title = row['EMPLOYEE_TITLE']\n",
    "    new_usr = User.create(connection=conn_dev, username=emp_username, full_name=emp_fullname,\n",
    "                          trust_id=emp_username, require_new_password=False)\n",
    "    new_users.append(new_usr)"
   ]
  },
  {
   "cell_type": "markdown",
   "metadata": {},
   "source": [
    "### Add newly created users to Administrator group"
   ]
  },
  {
   "cell_type": "code",
   "execution_count": 23,
   "metadata": {},
   "outputs": [
    {
     "name": "stdout",
     "output_type": "stream",
     "text": [
      "UserGroup object named: 'Administrator' with ID: 'E96685CD4E60068559F7DFAC7C2AA851'\n",
      "Added ['Linda Chase', 'Dylan Ayers', 'Nicky Macfarlane', 'Mark Ferry', 'Chandler Phillips', 'Bradley Daniels', 'Brandon Rees'] user(s) to group Administrator\n"
     ]
    }
   ],
   "source": [
    "usergroup = UserGroup(connection=conn_dev, name='Administrator')\n",
    "usergroup.add_users(users=new_users)"
   ]
  },
  {
   "cell_type": "markdown",
   "metadata": {},
   "source": [
    "### Add email addresses with domain 'microstrategy.com' to newly created users"
   ]
  },
  {
   "cell_type": "code",
   "execution_count": 24,
   "metadata": {},
   "outputs": [
    {
     "name": "stdout",
     "output_type": "stream",
     "text": [
      "Added address 'lchase@microstrategy.com' for user 'Linda Chase'\n",
      "Added address 'dayers@microstrategy.com' for user 'Dylan Ayers'\n",
      "Added address 'nmacfarlane@microstrategy.com' for user 'Nicky Macfarlane'\n",
      "Added address 'mferry@microstrategy.com' for user 'Mark Ferry'\n",
      "Added address 'cphillips@microstrategy.com' for user 'Chandler Phillips'\n",
      "Added address 'bdaniels@microstrategy.com' for user 'Bradley Daniels'\n",
      "Added address 'brees@microstrategy.com' for user 'Brandon Rees'\n"
     ]
    }
   ],
   "source": [
    "new_users_with_emails = []\n",
    "for usr in new_users:\n",
    "    email_address = usr.username + '@microstrategy.com' \n",
    "    usr.add_address(name=usr.username, address=email_address)\n",
    "    new_users_with_emails.append(usr)"
   ]
  },
  {
   "cell_type": "markdown",
   "metadata": {},
   "source": [
    "### List empty usergroups"
   ]
  },
  {
   "cell_type": "code",
   "execution_count": 25,
   "metadata": {},
   "outputs": [],
   "source": [
    "all_usrgrps = list_usergroups(connection=conn_dev)\n",
    "empty_usergroups = [usrgrp for usrgrp in all_usrgrps if not usrgrp.list_members()]"
   ]
  },
  {
   "cell_type": "code",
   "execution_count": 26,
   "metadata": {},
   "outputs": [
    {
     "name": "stdout",
     "output_type": "stream",
     "text": [
      "3rd Party Users\n",
      "AnalyticsServer\n",
      "API\n",
      "Architect\n",
      "CollaborationServer\n",
      "Desktop\n",
      "DistributionServer\n",
      "LDAP Public / Guest\n",
      "LDAP Users\n",
      "MicroStrategy Desktop Users\n",
      "Mobile\n",
      "Narrowcast System Administrators\n",
      "Northeast Employees\n",
      "Public / Guest\n",
      "Reporter\n",
      "Second Factor Exempt\n",
      "Server Bulk Administrators\n",
      "Server Configuration Administrators\n",
      "Server Operations Administrators\n",
      "Server Operations Monitors\n",
      "Server Resource Settings Administrators\n",
      "Server Security Administrators\n",
      "TransactionServer\n",
      "User Administrators\n",
      "User Role Bundles\n",
      "Users from Poland\n",
      "Users from United States\n",
      "Warehouse Users\n",
      "Web\n",
      "Web Viewers\n"
     ]
    }
   ],
   "source": [
    "for ug in empty_usergroups:\n",
    "    print(ug.name)"
   ]
  },
  {
   "cell_type": "markdown",
   "metadata": {},
   "source": [
    "### Delete empty usergroups"
   ]
  },
  {
   "cell_type": "code",
   "execution_count": 27,
   "metadata": {},
   "outputs": [
    {
     "name": "stdout",
     "output_type": "stream",
     "text": [
      "UserGroup object named: 'Web Viewers' with ID: '9B9F35D811EB59B675F00080EFB54F17'\n",
      "Successfully deleted User Group Web Viewers\n"
     ]
    },
    {
     "data": {
      "text/plain": [
       "True"
      ]
     },
     "execution_count": 27,
     "metadata": {},
     "output_type": "execute_result"
    }
   ],
   "source": [
    "ug = UserGroup(conn_dev, name=\"Web Viewers\")\n",
    "ug.delete(force=True)"
   ]
  },
  {
   "cell_type": "markdown",
   "metadata": {},
   "source": [
    "### Disable few users and delete email addresses of them"
   ]
  },
  {
   "cell_type": "code",
   "execution_count": 28,
   "metadata": {},
   "outputs": [
    {
     "name": "stdout",
     "output_type": "stream",
     "text": [
      "User object named: 'John Smith' with ID: '39EBD0DA11EB59B675F00080EF354E14'\n",
      "User 'John Smith' has been modified.\n",
      "Removed address 'jsmith' with id 3A0F286511EB59B615700080EF25AF22 from user 'John Smith'\n",
      "User object named: 'Robert Williams' with ID: '3A1B229B11EB59B675F00080EF950D13'\n",
      "User 'Robert Williams' has been modified.\n",
      "Removed address 'rwilliams' with id 3A3FB9CB11EB59B615700080EF755025 from user 'Robert Williams'\n",
      "User object named: 'Micheal Johnson' with ID: '3A4DE40B11EB59B675F00080EFF5CE14'\n",
      "User 'Micheal Johnson' has been modified.\n",
      "Removed address 'mjohnson' with id 3A6FEBC311EB59B615700080EF45EF22 from user 'Micheal Johnson'\n"
     ]
    }
   ],
   "source": [
    "usernames = ['jsmith', 'rwilliams', 'mjohnson']\n",
    "for username in usernames:\n",
    "    usr = User(conn_dev, username=username)\n",
    "    usr.alter(enabled=False)\n",
    "    # remove all addresses from a given user\n",
    "    if usr.addresses:\n",
    "        for addr in usr.addresses:\n",
    "            usr.remove_address(id=addr['id'])\n",
    "\n"
   ]
  },
  {
   "cell_type": "markdown",
   "metadata": {},
   "source": [
    "***"
   ]
  },
  {
   "cell_type": "markdown",
   "metadata": {},
   "source": [
    "***"
   ]
  },
  {
   "cell_type": "markdown",
   "metadata": {},
   "source": [
    "***"
   ]
  },
  {
   "cell_type": "markdown",
   "metadata": {},
   "source": [
    "***"
   ]
  },
  {
   "cell_type": "markdown",
   "metadata": {},
   "source": [
    "***"
   ]
  },
  {
   "cell_type": "markdown",
   "metadata": {},
   "source": [
    "***"
   ]
  },
  {
   "cell_type": "markdown",
   "metadata": {},
   "source": [
    "# Subscriptions and Schedules"
   ]
  },
  {
   "cell_type": "markdown",
   "metadata": {},
   "source": [
    "### Get list of schedules and its properties"
   ]
  },
  {
   "cell_type": "code",
   "execution_count": 29,
   "metadata": {},
   "outputs": [
    {
     "data": {
      "text/plain": [
       "[{'name': 'All the Time',\n",
       "  'id': 'FF7BB3C811D501F0C00051916B98494F',\n",
       "  'description': 'Starts Friday, January 01, 2010 and ends Sunday, May 30, 2010. The schedule will be triggered every day. 1 hours, 0 minutes',\n",
       "  'scheduleType': 'time_based',\n",
       "  'scheduleNextDelivery': '2021-01-18T21:00:00+0000',\n",
       "  'startDate': '2009-12-31',\n",
       "  'time': {'recurrencePattern': 'daily',\n",
       "   'execution': {'executionPattern': 'repeat',\n",
       "    'startTime': '00:00:00',\n",
       "    'stopTime': '23:59:00',\n",
       "    'repeatInterval': 60},\n",
       "   'daily': {'dailyPattern': 'day', 'repeatInterval': 1}},\n",
       "  'expired': False},\n",
       " {'name': 'At Close of Business (Weekday)',\n",
       "  'id': 'FF7BB3BC11D501F0C00051916B98494F',\n",
       "  'description': 'Starts Wednesday, February 14, 2001 and has no end. The schedule will be triggered every weekday. It runs at 6:00:00 PM',\n",
       "  'scheduleType': 'time_based',\n",
       "  'scheduleNextDelivery': '2021-01-19T18:00:00+0000',\n",
       "  'startDate': '2001-02-14',\n",
       "  'time': {'recurrencePattern': 'weekly',\n",
       "   'execution': {'executionPattern': 'once', 'executionTime': '18:00:00'},\n",
       "   'weekly': {'repeatInterval': 1,\n",
       "    'daysOfWeek': ['monday', 'tuesday', 'wednesday', 'thursday', 'friday']}},\n",
       "  'expired': False},\n",
       " {'name': 'Books Closed',\n",
       "  'id': '3450AE6F4E29E9A6E1075DA93B7062AA',\n",
       "  'description': \"Starts Tuesday, February 05, 2002 and has no end. The schedule will be triggered by the event 'Books Closed'\",\n",
       "  'scheduleType': 'event_based',\n",
       "  'startDate': '2002-02-05',\n",
       "  'event': {'eventId': '46DD16B543213B52372B5FB732FB611A',\n",
       "   'name': 'Books Closed'},\n",
       "  'expired': False},\n",
       " {'name': 'Daily',\n",
       "  'id': '987DF6464625F087CCC67FA9DB53097D',\n",
       "  'description': 'Starts Tuesday, April 24, 2018 and has no end. The schedule will be triggered every day. It runs at 12:01:00 AM',\n",
       "  'scheduleType': 'time_based',\n",
       "  'scheduleNextDelivery': '2021-01-19T00:01:00+0000',\n",
       "  'startDate': '2018-04-24',\n",
       "  'time': {'recurrencePattern': 'daily',\n",
       "   'execution': {'executionPattern': 'once', 'executionTime': '00:01:00'},\n",
       "   'daily': {'dailyPattern': 'day', 'repeatInterval': 1}},\n",
       "  'expired': False},\n",
       " {'name': 'First of Month',\n",
       "  'id': '7EB853F34A6ED3C3A629A8BBDE3DDD68',\n",
       "  'description': 'Starts Tuesday, February 05, 2002 and has no end. The schedule will be triggered on day 1 of every month. It runs at 12:01:00 AM',\n",
       "  'scheduleType': 'time_based',\n",
       "  'scheduleNextDelivery': '2021-02-01T00:00:00+0000',\n",
       "  'startDate': '2002-02-05',\n",
       "  'time': {'recurrencePattern': 'monthly',\n",
       "   'execution': {'executionPattern': 'once', 'executionTime': '00:00:00'},\n",
       "   'monthly': {'monthlyPattern': 'day', 'repeatInterval': 1, 'day': 1}},\n",
       "  'expired': False},\n",
       " {'name': 'Load Metadata Event Schedule',\n",
       "  'id': '9F4573C545A13F94D039D096EA44E538',\n",
       "  'description': \"Starts Tuesday, January 16, 2018 and has no end. The schedule will be triggered by the event 'Load Metadata Object Telemetry'\",\n",
       "  'scheduleType': 'event_based',\n",
       "  'startDate': '2018-01-16',\n",
       "  'event': {'eventId': '1EDCE69F4474A420920D7F99AFF01080',\n",
       "   'name': 'Load Metadata Object Telemetry'},\n",
       "  'expired': False},\n",
       " {'name': 'Monday Morning',\n",
       "  'id': 'FF7BB3B311D501F0C00051916B98494F',\n",
       "  'description': 'Starts Wednesday, February 14, 2001 and has no end. The schedule will be triggered on Monday of every week. It runs at 4:00:00 AM',\n",
       "  'scheduleType': 'time_based',\n",
       "  'scheduleNextDelivery': '2021-01-25T04:00:00+0000',\n",
       "  'startDate': '2001-02-14',\n",
       "  'time': {'recurrencePattern': 'weekly',\n",
       "   'execution': {'executionPattern': 'once', 'executionTime': '04:00:00'},\n",
       "   'weekly': {'repeatInterval': 1, 'daysOfWeek': ['monday']}},\n",
       "  'expired': False},\n",
       " {'name': 'On Database Load',\n",
       "  'id': 'DE2B9DE549E75B363F3F6A95F2B0A3E6',\n",
       "  'description': \"Starts Tuesday, February 05, 2002 and has no end. The schedule will be triggered by the event 'Database Load'\",\n",
       "  'scheduleType': 'event_based',\n",
       "  'startDate': '2002-02-05',\n",
       "  'event': {'eventId': '66E860724E8E124E07E658A36ACAEC9B',\n",
       "   'name': 'Database Load'},\n",
       "  'expired': False},\n",
       " {'name': 'PlatformAnalytics_Every_Hour_00',\n",
       "  'id': '1C80612011E94A57610D0080EFB5D887',\n",
       "  'description': '',\n",
       "  'scheduleType': 'time_based',\n",
       "  'scheduleNextDelivery': '2021-01-18T21:00:00+0000',\n",
       "  'startDate': '2017-08-01',\n",
       "  'time': {'recurrencePattern': 'weekly',\n",
       "   'execution': {'executionPattern': 'repeat',\n",
       "    'startTime': '00:00:00',\n",
       "    'stopTime': '23:59:00',\n",
       "    'repeatInterval': 60},\n",
       "   'weekly': {'repeatInterval': 1,\n",
       "    'daysOfWeek': ['monday', 'tuesday', 'wednesday', 'thursday', 'friday']}},\n",
       "  'expired': False},\n",
       " {'name': 'PlatformAnalytics_Every_Hour_10',\n",
       "  'id': '1EAF1EDC11E94A5779350080EF857784',\n",
       "  'description': '',\n",
       "  'scheduleType': 'time_based',\n",
       "  'scheduleNextDelivery': '2021-01-18T21:10:00+0000',\n",
       "  'startDate': '2017-08-01',\n",
       "  'time': {'recurrencePattern': 'weekly',\n",
       "   'execution': {'executionPattern': 'repeat',\n",
       "    'startTime': '00:10:00',\n",
       "    'stopTime': '23:59:00',\n",
       "    'repeatInterval': 60},\n",
       "   'weekly': {'repeatInterval': 1,\n",
       "    'daysOfWeek': ['monday', 'tuesday', 'wednesday', 'thursday', 'friday']}},\n",
       "  'expired': False},\n",
       " {'name': 'PlatformAnalytics_Every_Hour_20',\n",
       "  'id': '206168FC11E94A5779350080EF057783',\n",
       "  'description': '',\n",
       "  'scheduleType': 'time_based',\n",
       "  'scheduleNextDelivery': '2021-01-18T21:20:00+0000',\n",
       "  'startDate': '2017-08-01',\n",
       "  'time': {'recurrencePattern': 'weekly',\n",
       "   'execution': {'executionPattern': 'repeat',\n",
       "    'startTime': '00:20:00',\n",
       "    'stopTime': '23:59:00',\n",
       "    'repeatInterval': 60},\n",
       "   'weekly': {'repeatInterval': 1,\n",
       "    'daysOfWeek': ['monday', 'tuesday', 'wednesday', 'thursday', 'friday']}},\n",
       "  'expired': False},\n",
       " {'name': 'PlatformAnalytics_Every_Hour_25',\n",
       "  'id': 'DF2CF2B611E9EF5BD8FC0080EF45EF06',\n",
       "  'description': '',\n",
       "  'scheduleType': 'time_based',\n",
       "  'scheduleNextDelivery': '2021-01-18T21:25:00+0000',\n",
       "  'startDate': '2017-08-01',\n",
       "  'time': {'recurrencePattern': 'weekly',\n",
       "   'execution': {'executionPattern': 'repeat',\n",
       "    'startTime': '00:25:00',\n",
       "    'stopTime': '23:59:00',\n",
       "    'repeatInterval': 60},\n",
       "   'weekly': {'repeatInterval': 1,\n",
       "    'daysOfWeek': ['monday', 'tuesday', 'wednesday', 'thursday', 'friday']}},\n",
       "  'expired': False},\n",
       " {'name': 'PlatformAnalytics_Every_Hour_30',\n",
       "  'id': '221FB48C11E94A5779350080EFD51987',\n",
       "  'description': '',\n",
       "  'scheduleType': 'time_based',\n",
       "  'scheduleNextDelivery': '2021-01-18T21:30:00+0000',\n",
       "  'startDate': '2017-08-01',\n",
       "  'time': {'recurrencePattern': 'weekly',\n",
       "   'execution': {'executionPattern': 'repeat',\n",
       "    'startTime': '00:30:00',\n",
       "    'stopTime': '23:59:00',\n",
       "    'repeatInterval': 60},\n",
       "   'weekly': {'repeatInterval': 1,\n",
       "    'daysOfWeek': ['monday', 'tuesday', 'wednesday', 'thursday', 'friday']}},\n",
       "  'expired': False},\n",
       " {'name': 'Remote Diagnostics Daily',\n",
       "  'id': 'FD7C7E7E4CA242FF314492A6CC696FB1',\n",
       "  'description': '',\n",
       "  'scheduleType': 'time_based',\n",
       "  'scheduleNextDelivery': '2021-01-18T22:22:27+0000',\n",
       "  'startDate': '2018-12-12',\n",
       "  'time': {'recurrencePattern': 'daily',\n",
       "   'execution': {'executionPattern': 'once', 'executionTime': '22:22:27'},\n",
       "   'daily': {'dailyPattern': 'day', 'repeatInterval': 1}},\n",
       "  'expired': False}]"
      ]
     },
     "execution_count": 29,
     "metadata": {},
     "output_type": "execute_result"
    }
   ],
   "source": [
    "schedule_mngr = ScheduleManager(connection=conn_dev)\n",
    "schedule_mngr.list_schedules()"
   ]
  },
  {
   "cell_type": "markdown",
   "metadata": {},
   "source": [
    "### Create an email subscription that displays the list of departed users which still need to be removed from user groups"
   ]
  },
  {
   "cell_type": "code",
   "execution_count": 30,
   "metadata": {},
   "outputs": [
    {
     "name": "stdout",
     "output_type": "stream",
     "text": [
      "User object named: 'Linda Chase' with ID: 'F7E9C46A11EB59CB75F00080EF05EF16'\n",
      "Created subscription 'Departed Users' with ID: 'A09E3CDA11EB59CC7CCF0080EF150F16'.\n"
     ]
    }
   ],
   "source": [
    "lchase = User(conn_dev, name=\"Linda Chase\")\n",
    "new_sub = EmailSubscription.create(\n",
    "    connection=conn_dev, name=\"Departed Users\", email_subject='Remove departed users from usergroups',\n",
    "    email_message='Users to remove are:', recipients=[lchase.id],\n",
    "    schedules_ids='FF7BB3B311D501F0C00051916B98494F', application_name=\"Tutorial_Dev\",\n",
    "    contents=Content(id='FE72F33B11E7F54F000000802F31418D', type=Content.Type.DOSSIER, personalization=Content.Properties()))\n",
    "\n",
    "    \n",
    "    \n",
    "#     application_name=\"MicroStrategy Tutorial\",\n",
    "    \n",
    "    \n",
    "#     contents=Content(id='ABC123ABC123ABC123ABC123ABC12345', type=Content.Type.REPORT),\n",
    "#     schedules_ids=['ABC123ABC123ABC123ABC123ABC12345'], recipients=['ABC123ABC123ABC123ABC123ABC12345'])"
   ]
  },
  {
   "cell_type": "code",
   "execution_count": 34,
   "metadata": {},
   "outputs": [
    {
     "data": {
      "text/plain": [
       "[{'id': 'A09E3CDA11EB59CC7CCF0080EF150F16',\n",
       "  'name': 'Departed Users',\n",
       "  'editable': False,\n",
       "  'allowDeliveryChanges': False,\n",
       "  'allowPersonalizationChanges': False,\n",
       "  'allowUnsubscribe': True,\n",
       "  'dateCreated': '2021-01-18T20:34:56+0000',\n",
       "  'dateModified': '2021-01-18T20:36:18+0000',\n",
       "  'owner': {'id': 'F7E9C46A11EB59CB75F00080EF05EF16', 'name': 'Linda Chase'},\n",
       "  'schedules': [{'id': 'FF7BB3B311D501F0C00051916B98494F',\n",
       "    'name': 'Monday Morning',\n",
       "    'type': 'time_based',\n",
       "    'nextDelivery': '2021-01-25T04:00:00+0000',\n",
       "    'expired': False}],\n",
       "  'contents': [{'id': 'FE72F33B11E7F54F000000802F31418D',\n",
       "    'name': 'Advanced and Predictive Analytics',\n",
       "    'type': 'dossier',\n",
       "    'personalization': {'compressed': False,\n",
       "     'formatMode': 'DEFAULT',\n",
       "     'viewMode': 'BOTH',\n",
       "     'formatType': 'PDF',\n",
       "     'exportToPdfSettings': {'pageOption': 'PAGE',\n",
       "      'pageSize': 'letter',\n",
       "      'orientation': 'automatic',\n",
       "      'pageDetailLevel': 'overview',\n",
       "      'includeToc': False,\n",
       "      'includeHeader': True,\n",
       "      'includeFooter': True,\n",
       "      'filterSummary': 'BAR',\n",
       "      'fitToPage': False,\n",
       "      'repeatColumnHeader': False,\n",
       "      'gridPagingMode': 'none'}}}],\n",
       "  'recipients': [{'id': 'F8307B1C11EB59CB75F00080EFF5CF16',\n",
       "    'name': 'Nicky Macfarlane',\n",
       "    'isGroup': False,\n",
       "    'type': 'user',\n",
       "    'includeType': 'TO',\n",
       "    'childSubscriptionId': 'CE51DD6211EB59CC7CCF0080EFC56F15'},\n",
       "   {'id': 'F8519B3011EB59CB75F00080EF558E15',\n",
       "    'name': 'Mark Ferry',\n",
       "    'isGroup': False,\n",
       "    'type': 'user',\n",
       "    'includeType': 'TO',\n",
       "    'childSubscriptionId': 'CEF1FA7D11EB59CC7CCF0080EFB54D13'},\n",
       "   {'id': 'F7E9C46A11EB59CB75F00080EF05EF16',\n",
       "    'name': 'Linda Chase',\n",
       "    'isGroup': False,\n",
       "    'type': 'user',\n",
       "    'includeType': 'TO',\n",
       "    'childSubscriptionId': 'A0A0529A11EB59CC7CCF0080EF150F16'},\n",
       "   {'id': 'F8761BE111EB59CB75F00080EFE5AE14',\n",
       "    'name': 'Chandler Phillips',\n",
       "    'isGroup': False,\n",
       "    'type': 'user',\n",
       "    'includeType': 'TO',\n",
       "    'childSubscriptionId': 'CFAA46B811EB59CC7CCF0080EFC56E13'},\n",
       "   {'id': 'F8934D1411EB59CB75F00080EF85EF17',\n",
       "    'name': 'Bradley Daniels',\n",
       "    'isGroup': False,\n",
       "    'type': 'user',\n",
       "    'includeType': 'TO',\n",
       "    'childSubscriptionId': 'D0619D4011EB59CC7CCF0080EF75CE15'},\n",
       "   {'id': 'F812943011EB59CB75F00080EF252E14',\n",
       "    'name': 'Dylan Ayers',\n",
       "    'isGroup': False,\n",
       "    'type': 'user',\n",
       "    'includeType': 'TO',\n",
       "    'childSubscriptionId': 'CDA6955711EB59CC7CCF0080EFD59018'},\n",
       "   {'id': 'F8B2A8BC11EB59CB75F00080EFB54E15',\n",
       "    'name': 'Brandon Rees',\n",
       "    'isGroup': False,\n",
       "    'type': 'user',\n",
       "    'includeType': 'TO',\n",
       "    'childSubscriptionId': 'D10ABD1211EB59CC7CCF0080EF354E14'}],\n",
       "  'delivery': {'mode': 'EMAIL',\n",
       "   'contactSecurity': False,\n",
       "   'email': {'subject': 'Remove departed users from usergroups',\n",
       "    'message': 'Users to remove are:',\n",
       "    'sendContentAs': 'data',\n",
       "    'overwriteOlderVersion': False}}}]"
      ]
     },
     "execution_count": 34,
     "metadata": {},
     "output_type": "execute_result"
    }
   ],
   "source": [
    "subs_mngr = SubscriptionManager(conn_dev, application_name='Tutorial_Dev')\n",
    "subs_mngr.list_subscriptions(name=\"Departed Users\")"
   ]
  },
  {
   "cell_type": "code",
   "execution_count": 32,
   "metadata": {},
   "outputs": [
    {
     "name": "stdout",
     "output_type": "stream",
     "text": [
      "Updated subscription 'Departed Users' with ID: A09E3CDA11EB59CC7CCF0080EF150F16.\n"
     ]
    }
   ],
   "source": [
    "new_sub.alter(owner_id = lchase.id)"
   ]
  },
  {
   "cell_type": "code",
   "execution_count": 33,
   "metadata": {},
   "outputs": [
    {
     "name": "stderr",
     "output_type": "stream",
     "text": [
      "UserWarning: F7E9C46A11EB59CB75F00080EF05EF16 is already a recipient of subscription\n"
     ]
    },
    {
     "name": "stdout",
     "output_type": "stream",
     "text": [
      "No recipients were added to the subscription.\n",
      "Updated subscription 'Departed Users' with ID: A09E3CDA11EB59CC7CCF0080EF150F16.\n",
      "Updated subscription 'Departed Users' with ID: A09E3CDA11EB59CC7CCF0080EF150F16.\n",
      "Updated subscription 'Departed Users' with ID: A09E3CDA11EB59CC7CCF0080EF150F16.\n",
      "Updated subscription 'Departed Users' with ID: A09E3CDA11EB59CC7CCF0080EF150F16.\n",
      "Updated subscription 'Departed Users' with ID: A09E3CDA11EB59CC7CCF0080EF150F16.\n",
      "Updated subscription 'Departed Users' with ID: A09E3CDA11EB59CC7CCF0080EF150F16.\n"
     ]
    }
   ],
   "source": [
    "for usr in new_users:\n",
    "    new_sub.add_recipient(usr.id)"
   ]
  },
  {
   "cell_type": "markdown",
   "metadata": {},
   "source": [
    "***"
   ]
  },
  {
   "cell_type": "markdown",
   "metadata": {},
   "source": [
    "***"
   ]
  },
  {
   "cell_type": "markdown",
   "metadata": {},
   "source": [
    "***"
   ]
  },
  {
   "cell_type": "markdown",
   "metadata": {},
   "source": [
    "***"
   ]
  },
  {
   "cell_type": "markdown",
   "metadata": {},
   "source": [
    "***"
   ]
  },
  {
   "cell_type": "markdown",
   "metadata": {},
   "source": [
    "***"
   ]
  },
  {
   "cell_type": "markdown",
   "metadata": {},
   "source": [
    "# Library and Dossier"
   ]
  },
  {
   "cell_type": "markdown",
   "metadata": {},
   "source": [
    "### Get all dossiers on Server"
   ]
  },
  {
   "cell_type": "code",
   "execution_count": 35,
   "metadata": {},
   "outputs": [
    {
     "data": {
      "text/plain": [
       "[Dossier(connection, name='MicroStrategy, Ink.', id='0B38895711E79D7ECFF20080AFB1518B'),\n",
       " Dossier(connection, name='Rustic', id='11EA496611E751FB1E9A0080EF25C29E'),\n",
       " Dossier(connection, name='Waterfall', id='1532D3684B9D88716CFFAA921CA17458'),\n",
       " Dossier(connection, name='Hide Overlapping Markers', id='1687A36449FBD4F6CD55A987AD3B98F2'),\n",
       " Dossier(connection, name='Graphs and Visualizations', id='27BB740E11E7A7B40A650080EF856B88'),\n",
       " Dossier(connection, name='Investment Firm Dossier', id='2C68268711E7933800000080AFB1D2B9'),\n",
       " Dossier(connection, name='Maps with Pie and Clusters', id='316401E111E6BD5BAD440080EFE1DC37'),\n",
       " Dossier(connection, name='Multinational Bank Dossier', id='32765C5C11E79D5927C10080EF753106'),\n",
       " Dossier(connection, name='Area Chart', id='3511C9E011E5983A85B30080EFE560D9'),\n",
       " Dossier(connection, name='The 2014 BNY Mellon Boat Race', id='371E250C11E5BEFB00000080EF85899C'),\n",
       " Dossier(connection, name='Combo Chart', id='3850EDC911E5A8F4045C0080EF95C044'),\n",
       " Dossier(connection, name='Retail Store Manager', id='3AB0F59211E7F49A736B0080EFD51CF3'),\n",
       " Dossier(connection, name='Slot Machine Perfomance', id='3BDFDB0611E79D59276F0080EF753106'),\n",
       " Dossier(connection, name='Map', id='3D95453211E5984003730080EF55C23E'),\n",
       " Dossier(connection, name='Geospatial Features', id='3F15E6D111E7E02F00000080AF71B1B4'),\n",
       " Dossier(connection, name='New Dossier', id='4802DE4C4C18F434C75BFA84EC8A5E4B'),\n",
       " Dossier(connection, name='Page to Page Linking', id='48A9D2A211E7AF6431F90080EFD50CBA'),\n",
       " Dossier(connection, name='Store Manager Dossier', id='4B5DC56611E79D5928350080EF753106'),\n",
       " Dossier(connection, name='Seasonal Forecasting', id='4C5A42DD11E75A9777F70080EF05353C'),\n",
       " Dossier(connection, name='Analysis Document', id='52576385422A3F9F174B97BE6E361116'),\n",
       " Dossier(connection, name='Sales Analysis', id='5CE7870C4629D0FF46C67FB242D6DDB8'),\n",
       " Dossier(connection, name='Flavors of a Graph Matrix', id='5F60915D11E66A3211E60080EF215528'),\n",
       " Dossier(connection, name='Finance Executives', id='6358D53811E7D937C5600080EFB597A3'),\n",
       " Dossier(connection, name='Landing Page', id='66366F0E11EA112A1A9C0080EF8568D5'),\n",
       " Dossier(connection, name='Network', id='69E7F9AA11E5983F03900080EF45A13C'),\n",
       " Dossier(connection, name='Heat Map', id='6F06E64011E5983903900080EF75023F'),\n",
       " Dossier(connection, name='Data Wrangling Dossier', id='773D16274722D01CDAF373B903CD6DEA'),\n",
       " Dossier(connection, name='Bar Chart', id='779FBA1311E5983803560080EF25623E'),\n",
       " Dossier(connection, name='Multiple Sheets', id='7ED2BBCF11E680345A810080EFBE8942'),\n",
       " Dossier(connection, name='Predictive Revenue Analysis', id='80FDE73E4A791F63F91F9384708FA258'),\n",
       " Dossier(connection, name='Webcast Activity Overview', id='8B3BFEAC11E5BEFB00000080EF95A99C'),\n",
       " Dossier(connection, name='GlobalPipeline', id='8CB1914B11E66AF285A80080EF1E255B'),\n",
       " Dossier(connection, name='Pie Chart Map Marker', id='8F7FAE30443F2A183832E4A013AFD563'),\n",
       " Dossier(connection, name='Anemone', id='9117080211E751F91DB80080EFC5029E'),\n",
       " Dossier(connection, name='Weather Anomalies', id='9185F53611E48213000000802F179505'),\n",
       " Dossier(connection, name='2. Store Analysis', id='91EAACA611E5CEB600000080EF65DC57'),\n",
       " Dossier(connection, name='Histogram', id='93A71A3711E8021000000080AF9146C5'),\n",
       " Dossier(connection, name='Regional Performance Analysis', id='9542AE534183F45A449E1DB5923F786C'),\n",
       " Dossier(connection, name='Pie Chart', id='AAC8F71911E5983E03730080EFC5A23D'),\n",
       " Dossier(connection, name='area and bubble', id='ACC0564A11E6E85D38370080EF7539CF'),\n",
       " Dossier(connection, name='Life as a New Hire', id='BDC3CA6811E7F6E342400080EFF58353'),\n",
       " Dossier(connection, name='3. Corporate Sales', id='BDDD9C9D11E5CEB6281D0080EFB57B56'),\n",
       " Dossier(connection, name='Landing Page Relative Link', id='C4556F1011EA16CDC3790080EF85ADB0'),\n",
       " Dossier(connection, name='North Carolina Deer', id='C643022211E6C2E000000080EF359160'),\n",
       " Dossier(connection, name='Dynamic Links Dossier', id='C7AAF6B34AF39F158743F4A06220A75F'),\n",
       " Dossier(connection, name='Custom Visualizations', id='CEDEA2B411E8020F86710080EF656C28'),\n",
       " Dossier(connection, name='Box Plot', id='D09703544A3A224C570D7FBC1861DE1F'),\n",
       " Dossier(connection, name='Responsive Design Across Any Device', id='DA0B39F911E7A94B00000080AF11FAC4'),\n",
       " Dossier(connection, name='Earthquakes', id='DE9B18B911E8021400000080AF9146C5'),\n",
       " Dossier(connection, name='4. Company Dossier', id='DED74CE111E5CEB6227C0080EFD5BD58'),\n",
       " Dossier(connection, name='Advanced Calculations', id='E0E776C511E7A7A721B60080EF95E510'),\n",
       " Dossier(connection, name='Many Countries and Cities', id='E1D0DC7811E6C2D900000080EF751161'),\n",
       " Dossier(connection, name='Color Palettes', id='E97AD91E11E7B9AB2AB30080EF25F216'),\n",
       " Dossier(connection, name='Area and Diamonds', id='ECA017A611E6B18900000080EF95ED4B'),\n",
       " Dossier(connection, name='Bubble Chart', id='EEEA0A8211E5983D03560080EFA5623F'),\n",
       " Dossier(connection, name='Hummingbird', id='F2D7D4DE11E751F600000080EF5523A2'),\n",
       " Dossier(connection, name='Sales and Profit Analysis', id='F44B15734DFC41B2575DBB8F6CE1D4EB'),\n",
       " Dossier(connection, name='Office Royale Sales', id='F6252B9211E7B348312C0080EF55DB6A'),\n",
       " Dossier(connection, name='Line Chart', id='F7BFC1FB11E5983903900080EF95413D'),\n",
       " Dossier(connection, name='k Means Clustering', id='FD0A8B8A11E75A9400000080EF75153D'),\n",
       " Dossier(connection, name='Advanced and Predictive Analytics', id='FE72F33B11E7F54F000000802F31418D'),\n",
       " Dossier(connection, name='Campaign Finance', id='0D0CDC8F11E97E8F00000080AFB3A407'),\n",
       " Dossier(connection, name='Avg Delay (min) by Airline', id='69F662EE11E9817800000080AFE34811'),\n",
       " Dossier(connection, name='Retail Sales Report', id='CF13BCDA409911243371CA980BAAE749'),\n",
       " Dossier(connection, name='Slot Machines Dossier', id='43883BAB11E978D61F220080AFB38619')]"
      ]
     },
     "execution_count": 35,
     "metadata": {},
     "output_type": "execute_result"
    }
   ],
   "source": [
    "dss = list_dossiers(conn_dev)\n",
    "dss"
   ]
  },
  {
   "cell_type": "markdown",
   "metadata": {},
   "source": [
    "### Get info about a particular dossier"
   ]
  },
  {
   "cell_type": "code",
   "execution_count": 36,
   "metadata": {},
   "outputs": [
    {
     "name": "stdout",
     "output_type": "stream",
     "text": [
      "{'id': '316401E111E6BD5BAD440080EFE1DC37',\n",
      " 'name': 'Maps with Pie and Clusters',\n",
      " 'description': 'Use this template to create a Dashboard with HTML5 '\n",
      "                'technology.',\n",
      " 'type': 'DOCUMENT_DEFINITION',\n",
      " 'subtype': 14081,\n",
      " 'ext_type': 0,\n",
      " 'date_created': '2016-12-15T14:29:36.000+0000',\n",
      " 'date_modified': '2017-02-06T17:31:55.000+0000',\n",
      " 'version': 'BF71346D4DEE224730DE05966E9C3A1F',\n",
      " 'owner': {'name': 'Administrator', 'id': '54F3D26011D2896560009A8E67019608'},\n",
      " 'view_media': 1879072805,\n",
      " 'certified_info': {'certified': False},\n",
      " 'project_id': 'B7CA92F04B9FAE8D941C3E9B7E0CD754',\n",
      " 'acg': 255}\n"
     ]
    }
   ],
   "source": [
    "dss[6].info"
   ]
  },
  {
   "cell_type": "markdown",
   "metadata": {},
   "source": [
    "### Get all certified dossiers from admin library"
   ]
  },
  {
   "cell_type": "code",
   "execution_count": 37,
   "metadata": {},
   "outputs": [
    {
     "data": {
      "text/plain": [
       "[Dossier(connection, name='Campaign Finance', id='0D0CDC8F11E97E8F00000080AFB3A407'),\n",
       " Dossier(connection, name='Avg Delay (min) by Airline', id='69F662EE11E9817800000080AFE34811'),\n",
       " Dossier(connection, name='Retail Sales Report', id='CF13BCDA409911243371CA980BAAE749'),\n",
       " Dossier(connection, name='Slot Machines Dossier', id='43883BAB11E978D61F220080AFB38619')]"
      ]
     },
     "execution_count": 37,
     "metadata": {},
     "output_type": "execute_result"
    }
   ],
   "source": [
    "certified_dss = []\n",
    "for ds in dss:\n",
    "    if ds.certified_info['certified'] is True:\n",
    "        certified_dss.append(ds)\n",
    "    \n",
    "certified_dss"
   ]
  },
  {
   "cell_type": "markdown",
   "metadata": {},
   "source": [
    "### Publish certified dossiers in New Hires' Library"
   ]
  },
  {
   "cell_type": "code",
   "execution_count": 38,
   "metadata": {},
   "outputs": [],
   "source": [
    "for certified_ds in certified_dss:\n",
    "    certified_ds.publish(recipients=new_users)"
   ]
  },
  {
   "cell_type": "markdown",
   "metadata": {},
   "source": [
    "***"
   ]
  },
  {
   "cell_type": "markdown",
   "metadata": {},
   "source": [
    "***"
   ]
  },
  {
   "cell_type": "markdown",
   "metadata": {},
   "source": [
    "***"
   ]
  },
  {
   "cell_type": "markdown",
   "metadata": {},
   "source": [
    "***"
   ]
  },
  {
   "cell_type": "markdown",
   "metadata": {},
   "source": [
    "***"
   ]
  },
  {
   "cell_type": "markdown",
   "metadata": {},
   "source": [
    "# Cleaning"
   ]
  },
  {
   "cell_type": "markdown",
   "metadata": {},
   "source": [
    "### Change Server and Application Settings "
   ]
  },
  {
   "cell_type": "code",
   "execution_count": null,
   "metadata": {},
   "outputs": [],
   "source": [
    "env_dev_settings.import_from(\"env_dev_changed.json\")\n",
    "env_dev_settings.update()"
   ]
  },
  {
   "cell_type": "code",
   "execution_count": null,
   "metadata": {},
   "outputs": [],
   "source": [
    "tutorial_dev.settings.import_from(\"tutorial_dev_changed.json\")\n",
    "tutorial_dev.settings.update()"
   ]
  },
  {
   "cell_type": "markdown",
   "metadata": {},
   "source": [
    "### Restore users which were disabled/removed"
   ]
  },
  {
   "cell_type": "code",
   "execution_count": null,
   "metadata": {},
   "outputs": [],
   "source": [
    "\n",
    "usrs = {'jsmith':'John Smith', 'rwilliams':'Robert Williams', 'mjohnson':'Micheal Johnson'}\n",
    "\n",
    "for username, fullname in usrs.items():\n",
    "    try:\n",
    "        usr = User.create(conn_dev, username, fullname, require_new_password=False)\n",
    "    except:\n",
    "        usr = User(conn_dev, username=username)\n",
    "        usr.alter(enable=True)\n",
    "        \n",
    "    if len(usr.addresses) == 0:\n",
    "        email_address = usr.username + '@microstrategy.com'\n",
    "        usr.add_address(name=usr.username, address=email_address)"
   ]
  },
  {
   "cell_type": "markdown",
   "metadata": {},
   "source": [
    "### Delete user accounts created during execution of this script"
   ]
  },
  {
   "cell_type": "code",
   "execution_count": null,
   "metadata": {},
   "outputs": [],
   "source": [
    "def delete_users(connection, fullname):\n",
    "    usrs = list_users(connection=connection, name=fullname)\n",
    "    for u in usrs:\n",
    "        u.delete(force=True)"
   ]
  },
  {
   "cell_type": "code",
   "execution_count": null,
   "metadata": {},
   "outputs": [],
   "source": [
    "fullnames = ['Linda Chase', 'Dylan Ayers', 'Nicky Macfarlane', 'Mark Ferry', 'Chandler Phillips', 'Bradley Daniels',\n",
    "             'Brandon Rees']\n",
    "for fullname in fullnames:\n",
    "    delete_users(connection=conn_dev, fullname=fullname)"
   ]
  },
  {
   "cell_type": "markdown",
   "metadata": {},
   "source": [
    "### Restore deleted usergroups"
   ]
  },
  {
   "cell_type": "code",
   "execution_count": null,
   "metadata": {},
   "outputs": [],
   "source": [
    "ug_tmp_names = [\"Web Viewers\"]\n",
    "for name in ug_tmp_names:\n",
    "    UserGroup.create(conn_dev, name)"
   ]
  },
  {
   "cell_type": "markdown",
   "metadata": {},
   "source": [
    "### Delete subscription"
   ]
  },
  {
   "cell_type": "code",
   "execution_count": null,
   "metadata": {},
   "outputs": [],
   "source": [
    "new_sub.delete()"
   ]
  },
  {
   "cell_type": "markdown",
   "metadata": {},
   "source": [
    "### Unpublish dossiers"
   ]
  },
  {
   "cell_type": "code",
   "execution_count": null,
   "metadata": {},
   "outputs": [],
   "source": [
    "for certified_ds in certified_dss:\n",
    "    certified_ds.unpublish(recipients=new_users)"
   ]
  },
  {
   "cell_type": "markdown",
   "metadata": {},
   "source": [
    "### Close connections to environments"
   ]
  },
  {
   "cell_type": "code",
   "execution_count": null,
   "metadata": {},
   "outputs": [],
   "source": [
    "conn_prod.close()"
   ]
  },
  {
   "cell_type": "code",
   "execution_count": null,
   "metadata": {},
   "outputs": [],
   "source": [
    "conn_dev.close()"
   ]
  }
 ],
 "metadata": {
  "kernelspec": {
   "display_name": "Python 3",
   "language": "python",
   "name": "python3"
  },
  "language_info": {
   "codemirror_mode": {
    "name": "ipython",
    "version": 3
   },
   "file_extension": ".py",
   "mimetype": "text/x-python",
   "name": "python",
   "nbconvert_exporter": "python",
   "pygments_lexer": "ipython3",
   "version": "3.9.0"
  }
 },
 "nbformat": 4,
 "nbformat_minor": 4
}
