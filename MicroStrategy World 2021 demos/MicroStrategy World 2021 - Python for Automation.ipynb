{
 "cells": [
  {
   "cell_type": "markdown",
   "metadata": {},
   "source": [
    "## Import Packages"
   ]
  },
  {
   "cell_type": "code",
   "execution_count": null,
   "metadata": {},
   "outputs": [],
   "source": [
    "from mstrio.connection import Connection\n",
    "from mstrio.server import Cluster, ServerSettings\n",
    "from mstrio.server import Environment, Project, compare_project_settings\n",
    "from mstrio.users_and_groups.user_group import UserGroup, list_usergroups\n",
    "from mstrio.users_and_groups.user import User, list_users\n",
    "from mstrio.distribution_services import (ScheduleManager, EmailSubscription, SubscriptionManager,\n",
    "                                          Content)\n",
    "from mstrio.project_objects import list_dossiers\n",
    "import pandas as pd\n",
    "\n",
    "# PROD ENVIRONMENT\n",
    "base_url_prod = \"https://env-xxxxxx.customer.cloud.microstrategy.com/MicroStrategyLibrary/api/\"\n",
    "username_prod = \"username\"\n",
    "password_prod = \"passwd\"\n",
    "\n",
    "# DEV ENVIRONMENT\n",
    "base_url_dev = \"https://env-xxxxxx.customer.cloud.microstrategy.com/MicroStrategyLibrary/api/\"\n",
    "username_dev = \"username\"\n",
    "password_dev = \"\"\n",
    "\n",
    "mstr_tutorial_id = 'B7CA92F04B9FAE8D941C3E9B7E0CD754'"
   ]
  },
  {
   "cell_type": "code",
   "execution_count": null,
   "metadata": {},
   "outputs": [],
   "source": [
    "#df = pd.DataFrame(quotes_final)\n",
    "#df.to_csv(\"schedule.csv\", index=False, encoding='utf-8', sep=\"#\", quoting=csv.QUOTE_NONE, escapechar=\"\\\\\", header=False)\n",
    "\n",
    "import csv\n",
    "# Define Data\n",
    "RESULTS = ['apple','cherry','orange','pineapple','strawberry']\n",
    "\n",
    "# Open File\n",
    "resultFyle = open(\"output.csv\",'w')\n",
    "\n",
    "# Write data to file\n",
    "for r in RESULTS:\n",
    "    resultFyle.write(r + \"\\n\")\n",
    "resultFyle.close()"
   ]
  },
  {
   "cell_type": "markdown",
   "metadata": {},
   "source": [
    "## Connect to Environment"
   ]
  },
  {
   "cell_type": "code",
   "execution_count": null,
   "metadata": {},
   "outputs": [],
   "source": [
    "conn_prod = Connection(base_url_prod, username_prod, password_prod, login_mode=1, project_name=\"Tutorial_Prod\")\n",
    "env_prod = Environment(connection=conn_prod)\n",
    "tutorial_prod = Project(conn_prod, name=\"Tutorial_Prod\")\n"
   ]
  },
  {
   "cell_type": "code",
   "execution_count": null,
   "metadata": {},
   "outputs": [],
   "source": [
    "conn_dev = Connection(base_url_dev, username_dev, password_dev, login_mode=1, project_name=\"Tutorial_Dev\")\n",
    "env_dev = Environment(connection=conn_dev)\n",
    "tutorial_dev = Project(conn_dev, name=\"Tutorial_Dev\")\n"
   ]
  },
  {
   "cell_type": "markdown",
   "metadata": {},
   "source": [
    "***"
   ]
  },
  {
   "cell_type": "markdown",
   "metadata": {},
   "source": [
    "***"
   ]
  },
  {
   "cell_type": "markdown",
   "metadata": {},
   "source": [
    "# Server and Project"
   ]
  },
  {
   "cell_type": "markdown",
   "metadata": {},
   "source": [
    "### See which services are running on the environment"
   ]
  },
  {
   "cell_type": "code",
   "execution_count": null,
   "metadata": {},
   "outputs": [],
   "source": [
    "cluster = Cluster(connection=conn_dev)\n",
    "node_name = 'env-239822laiouse1'"
   ]
  },
  {
   "cell_type": "code",
   "execution_count": null,
   "metadata": {},
   "outputs": [],
   "source": [
    "cluster.nodes_topology()"
   ]
  },
  {
   "cell_type": "markdown",
   "metadata": {},
   "source": [
    "### Stop service"
   ]
  },
  {
   "cell_type": "code",
   "execution_count": null,
   "metadata": {},
   "outputs": [],
   "source": [
    "cluster.stop(service='Apache-Kafka', nodes=[node_name], login=\"mstr\", passwd=\"8OT1CtHe21XJ\")"
   ]
  },
  {
   "cell_type": "markdown",
   "metadata": {},
   "source": [
    "### Start service"
   ]
  },
  {
   "cell_type": "code",
   "execution_count": null,
   "metadata": {},
   "outputs": [],
   "source": [
    "cluster.start(service='Apache-Kafka', nodes=[node_name], login=\"mstr\", passwd=\"8OT1CtHe21XJ\")"
   ]
  },
  {
   "cell_type": "markdown",
   "metadata": {},
   "source": [
    "### See which projects are on the environment"
   ]
  },
  {
   "cell_type": "code",
   "execution_count": null,
   "metadata": {},
   "outputs": [],
   "source": [
    "cluster.list_projects()"
   ]
  },
  {
   "cell_type": "markdown",
   "metadata": {},
   "source": [
    "### Unload project"
   ]
  },
  {
   "cell_type": "code",
   "execution_count": null,
   "metadata": {},
   "outputs": [],
   "source": [
    "project_name = 'Consolidated Education Project'\n",
    "cluster.unload_project(project_name=project_name)"
   ]
  },
  {
   "cell_type": "markdown",
   "metadata": {},
   "source": [
    "### See loaded projects"
   ]
  },
  {
   "cell_type": "code",
   "execution_count": null,
   "metadata": {},
   "outputs": [],
   "source": [
    "env_dev.list_loaded_projects()"
   ]
  },
  {
   "cell_type": "markdown",
   "metadata": {},
   "source": [
    "### Load projects"
   ]
  },
  {
   "cell_type": "code",
   "execution_count": null,
   "metadata": {},
   "outputs": [],
   "source": [
    "cluster.load_project(project_name=project_name)"
   ]
  },
  {
   "cell_type": "markdown",
   "metadata": {},
   "source": [
    "### Export Project and Server Setting to JSON"
   ]
  },
  {
   "cell_type": "code",
   "execution_count": null,
   "metadata": {},
   "outputs": [],
   "source": [
    "tutorial_dev = Project(conn)\n",
    "tutorial_dev.settings.to_json(\"tutorial_dev_settings.json\")"
   ]
  },
  {
   "cell_type": "code",
   "execution_count": null,
   "metadata": {},
   "outputs": [],
   "source": [
    "env_dev = Cluster(conn)\n",
    "env_dev.settings.to_json"
   ]
  },
  {
   "cell_type": "code",
   "execution_count": null,
   "metadata": {},
   "outputs": [],
   "source": [
    "env_dev_settings = ServerSettings(conn_dev)\n",
    "env_dev_settings.to_json(\"env_dev_settings.json\")"
   ]
  },
  {
   "cell_type": "markdown",
   "metadata": {},
   "source": [
    "### Compare project level settings of tutorial project in development and production environments"
   ]
  },
  {
   "cell_type": "code",
   "execution_count": null,
   "metadata": {},
   "outputs": [],
   "source": [
    "compare_project_settings(projects=[tutorial_prod, tutorial_dev], show_diff_only=True)"
   ]
  },
  {
   "cell_type": "markdown",
   "metadata": {},
   "source": [
    "### Compare server level settings of two environments"
   ]
  },
  {
   "cell_type": "code",
   "execution_count": null,
   "metadata": {},
   "outputs": [],
   "source": [
    "# get settings of development environment\n",
    "settings_dev = ServerSettings(connection=conn_dev)\n",
    "setts_props_dev = settings_dev.list_properties()\n",
    "\n",
    "# get settings of production environment\n",
    "settings_prod = ServerSettings(connection=conn_prod)\n",
    "setts_props_prod = settings_prod.list_properties()\n",
    "\n",
    "# compare settings and save differences in a table of dictionaries\n",
    "diff_table = []\n",
    "for key_dev, value_dev in setts_props_dev.items():\n",
    "    if value_dev != setts_props_prod[key_dev]:\n",
    "        diff_table.append({'key': key_dev,\n",
    "                           'value_dev': value_dev,\n",
    "                           'value_prod': setts_props_prod[key_dev]})\n",
    "pd.DataFrame.from_dict(diff_table)"
   ]
  },
  {
   "cell_type": "markdown",
   "metadata": {},
   "source": [
    "### Update Server Settings of Dev environment to match Prod environment "
   ]
  },
  {
   "cell_type": "code",
   "execution_count": null,
   "metadata": {},
   "outputs": [],
   "source": [
    "update_dict = {}\n",
    "for diff in diff_table:\n",
    "    update_dict[diff['key']] = diff['value_prod']\n",
    "    \n",
    "if update_dict:\n",
    "    settings_dev.alter(**update_dict)\n",
    "    settings_dev.update()"
   ]
  },
  {
   "cell_type": "markdown",
   "metadata": {},
   "source": [
    "### Export Prod Tutorial Project Settings into Dev Tutorial Project"
   ]
  },
  {
   "cell_type": "code",
   "execution_count": null,
   "metadata": {},
   "outputs": [],
   "source": [
    "tutorial_prod.settings.to_csv(\"tutorial_prod_settings.csv\")\n",
    "tutorial_dev.settings.import_from(\"tutorial_prod_settings.csv\")\n",
    "tutorial_dev.settings.update()"
   ]
  },
  {
   "cell_type": "code",
   "execution_count": null,
   "metadata": {},
   "outputs": [],
   "source": [
    "compare_project_settings(projects=[tutorial_prod, tutorial_dev], show_diff_only=True)"
   ]
  },
  {
   "cell_type": "markdown",
   "metadata": {},
   "source": [
    "***"
   ]
  },
  {
   "cell_type": "markdown",
   "metadata": {},
   "source": [
    "***"
   ]
  },
  {
   "cell_type": "markdown",
   "metadata": {},
   "source": [
    "***"
   ]
  },
  {
   "cell_type": "markdown",
   "metadata": {},
   "source": [
    "***"
   ]
  },
  {
   "cell_type": "markdown",
   "metadata": {},
   "source": [
    "# User and Privileges"
   ]
  },
  {
   "cell_type": "markdown",
   "metadata": {},
   "source": [
    "### Prepare data to connect to database"
   ]
  },
  {
   "cell_type": "code",
   "execution_count": null,
   "metadata": {},
   "outputs": [],
   "source": [
    "import pyodbc # Python library to connect to database\n",
    "\n",
    "driver = '{ODBC Driver 17 for SQL Server}'\n",
    "server = '127.0.0.1'\n",
    "database = 'TmpDB_MSTR'\n",
    "uid = 'sa'\n",
    "pwd = 'reallyStrongPwd123'\n",
    "\n",
    "# prepare string which is used to connect to database\n",
    "driver = 'DRIVER=' + driver\n",
    "server = 'SERVER=' + server\n",
    "database = 'DATABASE=' + database\n",
    "uid = 'UID=' + uid\n",
    "pwd = 'PWD=' + pwd\n",
    "connection_string = ';'.join([driver, server, database, uid, pwd])"
   ]
  },
  {
   "cell_type": "markdown",
   "metadata": {},
   "source": [
    "### Get newly hired employees from Database and create new user accounts for them. "
   ]
  },
  {
   "cell_type": "code",
   "execution_count": null,
   "metadata": {},
   "outputs": [],
   "source": [
    "query = \"SELECT * FROM NEW_HIRE_EMPLOYEE WHERE EMPLOYEE_HIRE_DATE > '12-01-2020';\"\n",
    "\n",
    "with pyodbc.connect(connection_string) as db_conn:\n",
    "    new_employees = pd.read_sql(query, db_conn)\n",
    "\n",
    "new_users = []\n",
    "for _, row in new_employees.iterrows():\n",
    "    emp_username = row['EMPLOYEE_USER_NAME']\n",
    "    emp_fullname = row['EMPLOYEE_LEGAL_NAME']\n",
    "    emp_title = row['EMPLOYEE_TITLE']\n",
    "    new_usr = User.create(connection=conn_dev, username=emp_username, full_name=emp_fullname,\n",
    "                          trust_id=emp_username, require_new_password=False)\n",
    "    new_users.append(new_usr)"
   ]
  },
  {
   "cell_type": "markdown",
   "metadata": {},
   "source": [
    "### Add newly created users to Administrator group"
   ]
  },
  {
   "cell_type": "code",
   "execution_count": null,
   "metadata": {},
   "outputs": [],
   "source": [
    "usergroup = UserGroup(connection=conn_dev, name='Administrator')\n",
    "usergroup.add_users(users=new_users)"
   ]
  },
  {
   "cell_type": "markdown",
   "metadata": {},
   "source": [
    "### Add email addresses with domain 'microstrategy.com' to newly created users"
   ]
  },
  {
   "cell_type": "code",
   "execution_count": null,
   "metadata": {},
   "outputs": [],
   "source": [
    "new_users_with_emails = []\n",
    "for usr in new_users:\n",
    "    email_address = usr.username + '@microstrategy.com' \n",
    "    usr.add_address(name=usr.username, address=email_address)\n",
    "    new_users_with_emails.append(usr)"
   ]
  },
  {
   "cell_type": "markdown",
   "metadata": {},
   "source": [
    "### List empty usergroups"
   ]
  },
  {
   "cell_type": "code",
   "execution_count": null,
   "metadata": {},
   "outputs": [],
   "source": [
    "all_usrgrps = list_usergroups(connection=conn_dev)\n",
    "empty_usergroups = [usrgrp for usrgrp in all_usrgrps if not usrgrp.list_members()]"
   ]
  },
  {
   "cell_type": "code",
   "execution_count": null,
   "metadata": {},
   "outputs": [],
   "source": [
    "for ug in empty_usergroups:\n",
    "    print(ug.name)"
   ]
  },
  {
   "cell_type": "markdown",
   "metadata": {},
   "source": [
    "### Delete empty usergroups"
   ]
  },
  {
   "cell_type": "code",
   "execution_count": null,
   "metadata": {},
   "outputs": [],
   "source": [
    "ug = UserGroup(conn_dev, name=\"Web Viewers\")\n",
    "ug.delete(force=True)"
   ]
  },
  {
   "cell_type": "markdown",
   "metadata": {},
   "source": [
    "### Disable few users and delete email addresses of them"
   ]
  },
  {
   "cell_type": "code",
   "execution_count": null,
   "metadata": {},
   "outputs": [],
   "source": [
    "usernames = ['jsmith', 'rwilliams', 'mjohnson']\n",
    "for username in usernames:\n",
    "    usr = User(conn_dev, username=username)\n",
    "    usr.alter(enabled=False)\n",
    "    # remove all addresses from a given user\n",
    "    if usr.addresses:\n",
    "        for addr in usr.addresses:\n",
    "            usr.remove_address(id=addr['id'])\n",
    "\n"
   ]
  },
  {
   "cell_type": "markdown",
   "metadata": {},
   "source": [
    "***"
   ]
  },
  {
   "cell_type": "markdown",
   "metadata": {},
   "source": [
    "***"
   ]
  },
  {
   "cell_type": "markdown",
   "metadata": {},
   "source": [
    "***"
   ]
  },
  {
   "cell_type": "markdown",
   "metadata": {},
   "source": [
    "***"
   ]
  },
  {
   "cell_type": "markdown",
   "metadata": {},
   "source": [
    "***"
   ]
  },
  {
   "cell_type": "markdown",
   "metadata": {},
   "source": [
    "***"
   ]
  },
  {
   "cell_type": "markdown",
   "metadata": {},
   "source": [
    "# Subscriptions and Schedules"
   ]
  },
  {
   "cell_type": "markdown",
   "metadata": {},
   "source": [
    "### Get list of schedules and its properties"
   ]
  },
  {
   "cell_type": "code",
   "execution_count": null,
   "metadata": {},
   "outputs": [],
   "source": [
    "schedule_mngr = ScheduleManager(connection=conn_dev)\n",
    "schedule_mngr.list_schedules()"
   ]
  },
  {
   "cell_type": "markdown",
   "metadata": {},
   "source": [
    "### Create an email subscription that displays the list of departed users which still need to be removed from user groups"
   ]
  },
  {
   "cell_type": "code",
   "execution_count": null,
   "metadata": {},
   "outputs": [],
   "source": [
    "lchase = User(conn_dev, name=\"Linda Chase\")\n",
    "new_sub = EmailSubscription.create(\n",
    "    connection=conn_dev, name=\"Departed Users\", email_subject='Remove departed users from usergroups',\n",
    "    email_message='Users to remove are:', recipients=[lchase.id],\n",
    "    schedules_ids='FF7BB3B311D501F0C00051916B98494F', project_name=\"Tutorial_Dev\",\n",
    "    contents=Content(id='FE72F33B11E7F54F000000802F31418D', type=Content.Type.DOSSIER, personalization=Content.Properties()))\n",
    "\n",
    "    \n",
    "    \n",
    "#     project_name=\"MicroStrategy Tutorial\",\n",
    "    \n",
    "    \n",
    "#     contents=Content(id='ABC123ABC123ABC123ABC123ABC12345', type=Content.Type.REPORT),\n",
    "#     schedules_ids=['ABC123ABC123ABC123ABC123ABC12345'], recipients=['ABC123ABC123ABC123ABC123ABC12345'])"
   ]
  },
  {
   "cell_type": "code",
   "execution_count": null,
   "metadata": {},
   "outputs": [],
   "source": [
    "subs_mngr = SubscriptionManager(conn_dev, project_name='Tutorial_Dev')\n",
    "subs_mngr.list_subscriptions(name=\"Departed Users\")"
   ]
  },
  {
   "cell_type": "code",
   "execution_count": null,
   "metadata": {},
   "outputs": [],
   "source": [
    "new_sub.alter(owner_id = lchase.id)"
   ]
  },
  {
   "cell_type": "code",
   "execution_count": null,
   "metadata": {},
   "outputs": [],
   "source": [
    "for usr in new_users:\n",
    "    new_sub.add_recipient(usr.id)"
   ]
  },
  {
   "cell_type": "markdown",
   "metadata": {},
   "source": [
    "***"
   ]
  },
  {
   "cell_type": "markdown",
   "metadata": {},
   "source": [
    "***"
   ]
  },
  {
   "cell_type": "markdown",
   "metadata": {},
   "source": [
    "***"
   ]
  },
  {
   "cell_type": "markdown",
   "metadata": {},
   "source": [
    "***"
   ]
  },
  {
   "cell_type": "markdown",
   "metadata": {},
   "source": [
    "***"
   ]
  },
  {
   "cell_type": "markdown",
   "metadata": {},
   "source": [
    "***"
   ]
  },
  {
   "cell_type": "markdown",
   "metadata": {},
   "source": [
    "# Library and Dossier"
   ]
  },
  {
   "cell_type": "markdown",
   "metadata": {},
   "source": [
    "### Get all dossiers on Server"
   ]
  },
  {
   "cell_type": "code",
   "execution_count": null,
   "metadata": {},
   "outputs": [],
   "source": [
    "dss = list_dossiers(conn_dev)\n",
    "dss"
   ]
  },
  {
   "cell_type": "markdown",
   "metadata": {},
   "source": [
    "### Get info about a particular dossier"
   ]
  },
  {
   "cell_type": "code",
   "execution_count": null,
   "metadata": {},
   "outputs": [],
   "source": [
    "dss[6].info"
   ]
  },
  {
   "cell_type": "markdown",
   "metadata": {},
   "source": [
    "### Get all certified dossiers from admin library"
   ]
  },
  {
   "cell_type": "code",
   "execution_count": null,
   "metadata": {},
   "outputs": [],
   "source": [
    "certified_dss = []\n",
    "for ds in dss:\n",
    "    if ds.certified_info['certified'] is True:\n",
    "        certified_dss.append(ds)\n",
    "    \n",
    "certified_dss"
   ]
  },
  {
   "cell_type": "markdown",
   "metadata": {},
   "source": [
    "### Publish certified dossiers in New Hires' Library"
   ]
  },
  {
   "cell_type": "code",
   "execution_count": null,
   "metadata": {},
   "outputs": [],
   "source": [
    "for certified_ds in certified_dss:\n",
    "    certified_ds.publish(recipients=new_users)"
   ]
  },
  {
   "cell_type": "markdown",
   "metadata": {},
   "source": [
    "***"
   ]
  },
  {
   "cell_type": "markdown",
   "metadata": {},
   "source": [
    "***"
   ]
  },
  {
   "cell_type": "markdown",
   "metadata": {},
   "source": [
    "***"
   ]
  },
  {
   "cell_type": "markdown",
   "metadata": {},
   "source": [
    "***"
   ]
  },
  {
   "cell_type": "markdown",
   "metadata": {},
   "source": [
    "***"
   ]
  },
  {
   "cell_type": "markdown",
   "metadata": {},
   "source": [
    "# Cleaning"
   ]
  },
  {
   "cell_type": "markdown",
   "metadata": {},
   "source": [
    "### Change Server and Project Settings "
   ]
  },
  {
   "cell_type": "code",
   "execution_count": null,
   "metadata": {},
   "outputs": [],
   "source": [
    "env_dev_settings.import_from(\"env_dev_changed.json\")\n",
    "env_dev_settings.update()"
   ]
  },
  {
   "cell_type": "code",
   "execution_count": null,
   "metadata": {},
   "outputs": [],
   "source": [
    "tutorial_dev.settings.import_from(\"tutorial_dev_changed.json\")\n",
    "tutorial_dev.settings.update()"
   ]
  },
  {
   "cell_type": "markdown",
   "metadata": {},
   "source": [
    "### Restore users which were disabled/removed"
   ]
  },
  {
   "cell_type": "code",
   "execution_count": null,
   "metadata": {},
   "outputs": [],
   "source": [
    "\n",
    "usrs = {'jsmith':'John Smith', 'rwilliams':'Robert Williams', 'mjohnson':'Micheal Johnson'}\n",
    "\n",
    "for username, fullname in usrs.items():\n",
    "    try:\n",
    "        usr = User.create(conn_dev, username, fullname, require_new_password=False)\n",
    "    except:\n",
    "        usr = User(conn_dev, username=username)\n",
    "        usr.alter(enable=True)\n",
    "        \n",
    "    if len(usr.addresses) == 0:\n",
    "        email_address = usr.username + '@microstrategy.com'\n",
    "        usr.add_address(name=usr.username, address=email_address)"
   ]
  },
  {
   "cell_type": "markdown",
   "metadata": {},
   "source": [
    "### Delete user accounts created during execution of this script"
   ]
  },
  {
   "cell_type": "code",
   "execution_count": null,
   "metadata": {},
   "outputs": [],
   "source": [
    "def delete_users(connection, fullname):\n",
    "    usrs = list_users(connection=connection, name=fullname)\n",
    "    for u in usrs:\n",
    "        u.delete(force=True)"
   ]
  },
  {
   "cell_type": "code",
   "execution_count": null,
   "metadata": {},
   "outputs": [],
   "source": [
    "fullnames = ['Linda Chase', 'Dylan Ayers', 'Nicky Macfarlane', 'Mark Ferry', 'Chandler Phillips', 'Bradley Daniels',\n",
    "             'Brandon Rees']\n",
    "for fullname in fullnames:\n",
    "    delete_users(connection=conn_dev, fullname=fullname)"
   ]
  },
  {
   "cell_type": "markdown",
   "metadata": {},
   "source": [
    "### Restore deleted usergroups"
   ]
  },
  {
   "cell_type": "code",
   "execution_count": null,
   "metadata": {},
   "outputs": [],
   "source": [
    "ug_tmp_names = [\"Web Viewers\"]\n",
    "for name in ug_tmp_names:\n",
    "    UserGroup.create(conn_dev, name)"
   ]
  },
  {
   "cell_type": "markdown",
   "metadata": {},
   "source": [
    "### Delete subscription"
   ]
  },
  {
   "cell_type": "code",
   "execution_count": null,
   "metadata": {},
   "outputs": [],
   "source": [
    "new_sub.delete()"
   ]
  },
  {
   "cell_type": "markdown",
   "metadata": {},
   "source": [
    "### Unpublish dossiers"
   ]
  },
  {
   "cell_type": "code",
   "execution_count": null,
   "metadata": {},
   "outputs": [],
   "source": [
    "for certified_ds in certified_dss:\n",
    "    certified_ds.unpublish(recipients=new_users)"
   ]
  },
  {
   "cell_type": "markdown",
   "metadata": {},
   "source": [
    "### Close connections to environments"
   ]
  },
  {
   "cell_type": "code",
   "execution_count": null,
   "metadata": {},
   "outputs": [],
   "source": [
    "conn_prod.close()"
   ]
  },
  {
   "cell_type": "code",
   "execution_count": null,
   "metadata": {},
   "outputs": [],
   "source": [
    "conn_dev.close()"
   ]
  }
 ],
 "metadata": {
  "kernelspec": {
   "display_name": "Python 3.9.5 64-bit",
   "name": "python395jvsc74a57bd0aee8b7b246df8f9039afb4144a1f6fd8d2ca17a180786b69acc140d282b71a49"
  },
  "language_info": {
   "name": "python",
   "version": ""
  },
  "metadata": {
   "interpreter": {
    "hash": "aee8b7b246df8f9039afb4144a1f6fd8d2ca17a180786b69acc140d282b71a49"
   }
  }
 },
 "nbformat": 4,
 "nbformat_minor": 4
}